{
 "cells": [
  {
   "cell_type": "markdown",
   "metadata": {},
   "source": [
    "# Scraping du site beerwulf pour enrichir la base de données\n",
    "\n",
    "- Nous allons scrapper les données relatives aux bières sur le site www.beerwulf.com. L'avantage de ce site est qu'il dispose de données précises sur les bières : des données physico chimiques, mais aussi des indicateurs subjectifs exhaustifs (couleur de la bière, son goût, ou encore sa longueur). Nous utilisons le site https://www.beerwulf.com/fr-be/c/bieres?page=1&container=Bouteille,Canette pour afficher toutes les bières ainsi que les canettes proposées.\n",
    "- Avant toute chose, il est nécessaire d'explorer la page https://www.beerwulf.com/robots.txt afin de s'assurer que le web-scrapping des données des bières est autorisé. **Ici, il se trouve que c'est le cas.**\n",
    "\n",
    "On peut alors commencer à importer les librairies et les packages nécessaires au scraping"
   ]
  },
  {
   "cell_type": "code",
   "execution_count": 24,
   "metadata": {},
   "outputs": [],
   "source": [
    "from selenium import webdriver\n",
    "from selenium.webdriver.common.by import By\n",
    "from selenium.webdriver.chrome.options import Options\n",
    "from bs4 import BeautifulSoup\n",
    "import urllib\n",
    "from urllib.request import urlopen\n",
    "import re\n",
    "import pandas as pd\n",
    "import numpy as np \n",
    "\n",
    "options = Options()\n",
    "options.headless = True # On \"n'affiche pas\" la recherche internet\n",
    "options.add_argument(\"--window-size=1920,1200\")\n",
    "DRIVER_PATH = '/Applications/chromedriver'"
   ]
  },
  {
   "source": [
    "### Étape 1 : obtenir de l'url de toutes les bières du site de www.berewulf.com\n",
    "Le catalogue comporte 25 pages de bières. On peut donc automatiser la collecte des urls grâce au package `selenium` puisque les pages sont codées en Javascript. Bs4 ne peut pas aller scraper directement les données recherchées. Par la suite, nous utilisons le moteur de recherche de Google Chrome."
   ],
   "cell_type": "markdown",
   "metadata": {}
  },
  {
   "cell_type": "code",
   "execution_count": 2,
   "metadata": {},
   "outputs": [
    {
     "output_type": "stream",
     "name": "stdout",
     "text": [
      "Il y a 1164 urls collectés.\n"
     ]
    }
   ],
   "source": [
    "# Boucle qui parcourt toutes les pages du site et va collecter le lien `href` de toutes les bières.\n",
    "nb_pages = 25\n",
    "liste_urls = []\n",
    "\n",
    "for i in range(nb_pages):\n",
    "    driver = webdriver.Chrome(options=options, executable_path=DRIVER_PATH)\n",
    "    driver.get('https://www.beerwulf.com/fr-be/c?page='+str(i+1)+'&container=Bouteille,Canette&segment=Toutes%20les%20bi%C3%A8res&routeQuery=c')\n",
    "    elems = driver.find_elements_by_xpath(\"//div[@id='product-items-container']/a\")\n",
    "    for elem in elems:\n",
    "        liste_urls.append(elem.get_attribute('href'))\n",
    "\n",
    "#Vérification\n",
    "print('Il y a '+str(len(liste_urls))+' urls collectés.')"
   ]
  },
  {
   "source": [
    "### Étape 2 : obtenir les caractéristiques de toutes les bières du site, et les stocker dans un dictionnaire\n",
    "Nous disposons donc de l'url de toutes les bières, donc nous pouvons nous rendre sur ces pages internet grâce à `selenium`. Nous pouvons à présent scraper leurs caractéristiques individuelles.\n",
    "\n",
    "Pour ce faire, nous avons d'abord besoin de définir des fonctions qui permettront d'aller scraper les caractéristiques des bières. Les données ne sont pas déjà bien rangées dans un tableau, il faut aller les scraper individuellement grâce à leur **\"Xpath\"**, c'est-à-dire le chemin qui permettra à `selenium` d'accéder à la donnée si ce n'est pas possible avec `BeautifulSoup`."
   ],
   "cell_type": "markdown",
   "metadata": {}
  },
  {
   "cell_type": "code",
   "execution_count": 3,
   "metadata": {},
   "outputs": [],
   "source": [
    "from selenium.common.exceptions import NoSuchElementException, StaleElementReferenceException\n",
    "\n",
    "def valeur_text(xpath):\n",
    "    \"\"\"\n",
    "    Cette fonction scrape des caractéristiques de la bière (degré d'alccolémie, nom de \n",
    "    la brasserie, etc) au format text si cette dernière est présente sur la page. \n",
    "    \"\"\"\n",
    "    try : \n",
    "        return driver.find_element_by_xpath(xpath).text\n",
    "    except (NoSuchElementException, StaleElementReferenceException) as e:\n",
    "        return float('nan')\n",
    "\n",
    "def valeur_percent(xpath):\n",
    "    \"\"\"\n",
    "    Cette fonction scrape des caractéristiques de la bière exprimées en pourcentage\n",
    "    (acidité, amertume, etc) si cette dernière est présente sur la page. \n",
    "    \"\"\"\n",
    "    try : \n",
    "        return driver.find_element_by_xpath(xpath).get_attribute('data-percent')\n",
    "    except (NoSuchElementException, StaleElementReferenceException) as e:\n",
    "        return float('nan')\n",
    "\n",
    "\n",
    "# Scraper l'IBU d'une bière ne peut être entièrement réalisé avec selenium, il faut donc utiliser bs4\n",
    "def get_ibu(url):\n",
    "    \"\"\"\n",
    "    url : url de la bière selectionnee\n",
    "    Fonction renvoie l'IBU de la bière grâce à la librairie BeautifulSoup\n",
    "    \"\"\"\n",
    "    request = urllib.request.Request(url, headers = {'User-Agent': 'Mozilla/5.0 (Macintosh; Intel Mac OS X 10_9_3) AppleWebKit/537.36 (KHTML, like Gecko) Chrome/35.0.1916.47 Safari/537.36'})\n",
    "    html = urllib.request.urlopen(request)\n",
    "    html_soup = BeautifulSoup(html, 'html.parser')\n",
    "    try:\n",
    "        return html_soup.find_all('strong')[0].text\n",
    "    except IndexError:\n",
    "        return float('nan')\n"
   ]
  },
  {
   "source": [
    "On peut désormais parcourir les pages des différentes bières de www.beerwulf.com et stocker leurs caractéristiques dans un dictionnaire."
   ],
   "cell_type": "markdown",
   "metadata": {}
  },
  {
   "cell_type": "code",
   "execution_count": 4,
   "metadata": {
    "tags": []
   },
   "outputs": [
    {
     "output_type": "stream",
     "name": "stdout",
     "text": [
      "[('Walhalla Aphrodite Raspberry Berliner Weisse', ['Walhalla Aphrodite Raspberry Berliner Weisse', 'Bière Sour', 'Pays-Bas', 'Walhalla Craft Beer', '33 cl', '4,0%', '-', '0', '40', '40', '0', nan, nan]), ('Affligem Blond 0.0%', ['Affligem Blond 0.0%', 'Bière Blonde', 'Belgique', 'Affligem', '30 cl', '0,0%', nan, nan, nan, nan, nan, '€ 1,59', '(2,84)']), ('Affligem Blond', ['Affligem Blond', 'Bière Blonde', 'Belgique', 'Affligem', '30 cl', '6,8%', '-', '60', '60', '0', '40', nan, '(3,76)']), ('Affligem Tripel', ['Affligem Tripel', 'Bière Triple', 'Belgique', 'Affligem', '30 cl', '9,0%', '-', '60', '60', '20', '60', '€ 1,79', '(3,57)']), ('Ardwen Woinic Rouge', ['Ardwen Woinic Rouge', 'Bière Fruitée', 'France', 'Ardwen', '33 cl', '8,0%', '-', '60', '100', '40', '20', '€ 2,99', '(3,07)'])]\n\nNous avons scrapé 1145 bières.\n"
     ]
    }
   ],
   "source": [
    "dico_all_beers = {}\n",
    "\n",
    "for i in range(len(liste_urls)):\n",
    "    driver.get(liste_urls[i])\n",
    "\n",
    "    beer_name = valeur_text(\"/html/body/div[1]/div/div[2]/div/div[2]/div/div[1]/div[1]/h1\")\n",
    "    beer_style = valeur_text(\"/html/body/div[1]/div/div[2]/div/div[2]/div/div[2]/dl/dd[1]/a\")\n",
    "    country = valeur_text(\"/html/body/div[1]/div/div[2]/div/div[2]/div/div[2]/dl/dd[4]\")\n",
    "    brewery_name = valeur_text(\"/html/body/div[1]/div/div[2]/div/div[2]/div/div[2]/dl/dd[5]/a\")\n",
    "    bottle = valeur_text(\"/html/body/div[1]/div/div[2]/div/div[2]/div/div[2]/dl/dd[2]\")\n",
    "    abv = valeur_text(\"/html/body/div[1]/div/div[2]/div/div[2]/div/div[2]/dl/dd[3]\")\n",
    "    ibu = get_ibu(liste_urls[i])\n",
    "    intensite = valeur_percent(\"/html/body/div[1]/div/div[3]/div/div/div/div/div/div[3]/div[2]/div/div[1]/div/div[1]/dd/div\")\n",
    "    beer_type = valeur_percent(\"/html/body/div[1]/div/div[2]/div/div[2]/div/div[2]/dl/dd[1]/a\")\n",
    "    longueur = valeur_percent(\"/html/body/div[1]/div/div[3]/div/div/div/div/div/div[3]/div[2]/div/div[1]/div/div[3]/dd/div\")\n",
    "    acidite = valeur_percent(\"/html/body/div[1]/div/div[3]/div/div/div/div/div/div[3]/div[2]/div/div[1]/div/div[4]/dd/div\")\n",
    "    amertume = valeur_percent(\"/html/body/div[1]/div/div[3]/div/div/div/div/div/div[3]/div[2]/div/div[1]/div/div[5]/dd/div\")\n",
    "    price = valeur_text(\"/html/body/div[1]/div/div[2]/div/div[2]/div/div[1]/div[3]/div[2]/div/span\")\n",
    "    note = valeur_text(\"/html/body/div[1]/div/div[2]/div/div[2]/div/div[1]/div[3]/div[1]/span\")\n",
    "\n",
    "    liste_caractéristiques = [beer_name, beer_style, country, brewery_name, bottle, abv, ibu, intensite, longueur, acidite, amertume, price, note]\n",
    "        \n",
    "    dico_all_beers[beer_name] = liste_caractéristiques\n",
    "\n",
    "# Affichage des 5 premières bières scrapées\n",
    "print(list(dico_all_beers.items())[:5])\n",
    "print('\\nNous avons scrapé '+str(len(dico_all_beers))+' bières.')"
   ]
  },
  {
   "source": [
    "**Bilan** : 1164 urls scrapés ont permis de scraper 1145 bières ensuite. Il n'y a pas autant de bière que d'urls en raison de mise à jour du site www.beerwulf.com : certaines apparaissent en promotion et cela change la configuration de la page, par exemple. "
   ],
   "cell_type": "markdown",
   "metadata": {}
  },
  {
   "source": [
    "### Étape 3 : on convertit ensuite notre dictionnaire en dataframe"
   ],
   "cell_type": "markdown",
   "metadata": {}
  },
  {
   "cell_type": "code",
   "execution_count": 59,
   "metadata": {},
   "outputs": [
    {
     "output_type": "execute_result",
     "data": {
      "text/plain": [
       "                                      beer_name     beer_style   country  \\\n",
       "0  Walhalla Aphrodite Raspberry Berliner Weisse     Bière Sour  Pays-Bas   \n",
       "1                           Affligem Blond 0.0%   Bière Blonde  Belgique   \n",
       "2                                Affligem Blond   Bière Blonde  Belgique   \n",
       "3                               Affligem Tripel   Bière Triple  Belgique   \n",
       "4                           Ardwen Woinic Rouge  Bière Fruitée    France   \n",
       "\n",
       "          brewery_name bottle   abv  ibu intensite longueur acidite amertume  \\\n",
       "0  Walhalla Craft Beer  33 cl  4,0%    -         0       40      40        0   \n",
       "1             Affligem  30 cl  0,0%  NaN       NaN      NaN     NaN      NaN   \n",
       "2             Affligem  30 cl  6,8%    -        60       60       0       40   \n",
       "3             Affligem  30 cl  9,0%    -        60       60      20       60   \n",
       "4               Ardwen  33 cl  8,0%    -        60      100      40       20   \n",
       "\n",
       "    price    note  \n",
       "0     NaN     NaN  \n",
       "1  € 1,59  (2,84)  \n",
       "2     NaN  (3,76)  \n",
       "3  € 1,79  (3,57)  \n",
       "4  € 2,99  (3,07)  "
      ],
      "text/html": "<div>\n<style scoped>\n    .dataframe tbody tr th:only-of-type {\n        vertical-align: middle;\n    }\n\n    .dataframe tbody tr th {\n        vertical-align: top;\n    }\n\n    .dataframe thead th {\n        text-align: right;\n    }\n</style>\n<table border=\"1\" class=\"dataframe\">\n  <thead>\n    <tr style=\"text-align: right;\">\n      <th></th>\n      <th>beer_name</th>\n      <th>beer_style</th>\n      <th>country</th>\n      <th>brewery_name</th>\n      <th>bottle</th>\n      <th>abv</th>\n      <th>ibu</th>\n      <th>intensite</th>\n      <th>longueur</th>\n      <th>acidite</th>\n      <th>amertume</th>\n      <th>price</th>\n      <th>note</th>\n    </tr>\n  </thead>\n  <tbody>\n    <tr>\n      <td>0</td>\n      <td>Walhalla Aphrodite Raspberry Berliner Weisse</td>\n      <td>Bière Sour</td>\n      <td>Pays-Bas</td>\n      <td>Walhalla Craft Beer</td>\n      <td>33 cl</td>\n      <td>4,0%</td>\n      <td>-</td>\n      <td>0</td>\n      <td>40</td>\n      <td>40</td>\n      <td>0</td>\n      <td>NaN</td>\n      <td>NaN</td>\n    </tr>\n    <tr>\n      <td>1</td>\n      <td>Affligem Blond 0.0%</td>\n      <td>Bière Blonde</td>\n      <td>Belgique</td>\n      <td>Affligem</td>\n      <td>30 cl</td>\n      <td>0,0%</td>\n      <td>NaN</td>\n      <td>NaN</td>\n      <td>NaN</td>\n      <td>NaN</td>\n      <td>NaN</td>\n      <td>€ 1,59</td>\n      <td>(2,84)</td>\n    </tr>\n    <tr>\n      <td>2</td>\n      <td>Affligem Blond</td>\n      <td>Bière Blonde</td>\n      <td>Belgique</td>\n      <td>Affligem</td>\n      <td>30 cl</td>\n      <td>6,8%</td>\n      <td>-</td>\n      <td>60</td>\n      <td>60</td>\n      <td>0</td>\n      <td>40</td>\n      <td>NaN</td>\n      <td>(3,76)</td>\n    </tr>\n    <tr>\n      <td>3</td>\n      <td>Affligem Tripel</td>\n      <td>Bière Triple</td>\n      <td>Belgique</td>\n      <td>Affligem</td>\n      <td>30 cl</td>\n      <td>9,0%</td>\n      <td>-</td>\n      <td>60</td>\n      <td>60</td>\n      <td>20</td>\n      <td>60</td>\n      <td>€ 1,79</td>\n      <td>(3,57)</td>\n    </tr>\n    <tr>\n      <td>4</td>\n      <td>Ardwen Woinic Rouge</td>\n      <td>Bière Fruitée</td>\n      <td>France</td>\n      <td>Ardwen</td>\n      <td>33 cl</td>\n      <td>8,0%</td>\n      <td>-</td>\n      <td>60</td>\n      <td>100</td>\n      <td>40</td>\n      <td>20</td>\n      <td>€ 2,99</td>\n      <td>(3,07)</td>\n    </tr>\n  </tbody>\n</table>\n</div>"
     },
     "metadata": {},
     "execution_count": 59
    }
   ],
   "source": [
    "df_beers = pd.DataFrame.from_dict(dico_all_beers, orient='index') #faire une table à partir d'un dictionnaire\n",
    "df_beers.columns = ['beer_name', 'beer_style', 'country', 'brewery_name', 'bottle', 'abv', 'ibu', 'intensite', 'longueur', 'acidite', 'amertume', 'price', 'note']\n",
    "df_beers = df_beers.reset_index(drop=True)\n",
    "df_beers.head(5)"
   ]
  },
  {
   "source": [
    "### Étape 4 : on nettoie les données pour leur exploitation future \n",
    "\n",
    "On convertir les chaines de caractères en `float` pour plus tard traiter les données"
   ],
   "cell_type": "markdown",
   "metadata": {}
  },
  {
   "cell_type": "code",
   "execution_count": 60,
   "metadata": {},
   "outputs": [
    {
     "output_type": "execute_result",
     "data": {
      "text/plain": [
       "                                      beer_name     beer_style   country  \\\n",
       "0  Walhalla Aphrodite Raspberry Berliner Weisse     Bière Sour  Pays-Bas   \n",
       "1                           Affligem Blond 0.0%   Bière Blonde  Belgique   \n",
       "2                                Affligem Blond   Bière Blonde  Belgique   \n",
       "3                               Affligem Tripel   Bière Triple  Belgique   \n",
       "4                           Ardwen Woinic Rouge  Bière Fruitée    France   \n",
       "\n",
       "          brewery_name bottle  abv  ibu intensite longueur acidite amertume  \\\n",
       "0  Walhalla Craft Beer     33    4  NaN         0       40      40        0   \n",
       "1             Affligem     30    0  NaN       NaN      NaN     NaN      NaN   \n",
       "2             Affligem     30  6.8  NaN        60       60       0       40   \n",
       "3             Affligem     30    9  NaN        60       60      20       60   \n",
       "4               Ardwen     33    8  NaN        60      100      40       20   \n",
       "\n",
       "  price  note  \n",
       "0   NaN   NaN  \n",
       "1  1.59  2.84  \n",
       "2   NaN  3.76  \n",
       "3  1.79  3.57  \n",
       "4  2.99  3.07  "
      ],
      "text/html": "<div>\n<style scoped>\n    .dataframe tbody tr th:only-of-type {\n        vertical-align: middle;\n    }\n\n    .dataframe tbody tr th {\n        vertical-align: top;\n    }\n\n    .dataframe thead th {\n        text-align: right;\n    }\n</style>\n<table border=\"1\" class=\"dataframe\">\n  <thead>\n    <tr style=\"text-align: right;\">\n      <th></th>\n      <th>beer_name</th>\n      <th>beer_style</th>\n      <th>country</th>\n      <th>brewery_name</th>\n      <th>bottle</th>\n      <th>abv</th>\n      <th>ibu</th>\n      <th>intensite</th>\n      <th>longueur</th>\n      <th>acidite</th>\n      <th>amertume</th>\n      <th>price</th>\n      <th>note</th>\n    </tr>\n  </thead>\n  <tbody>\n    <tr>\n      <td>0</td>\n      <td>Walhalla Aphrodite Raspberry Berliner Weisse</td>\n      <td>Bière Sour</td>\n      <td>Pays-Bas</td>\n      <td>Walhalla Craft Beer</td>\n      <td>33</td>\n      <td>4</td>\n      <td>NaN</td>\n      <td>0</td>\n      <td>40</td>\n      <td>40</td>\n      <td>0</td>\n      <td>NaN</td>\n      <td>NaN</td>\n    </tr>\n    <tr>\n      <td>1</td>\n      <td>Affligem Blond 0.0%</td>\n      <td>Bière Blonde</td>\n      <td>Belgique</td>\n      <td>Affligem</td>\n      <td>30</td>\n      <td>0</td>\n      <td>NaN</td>\n      <td>NaN</td>\n      <td>NaN</td>\n      <td>NaN</td>\n      <td>NaN</td>\n      <td>1.59</td>\n      <td>2.84</td>\n    </tr>\n    <tr>\n      <td>2</td>\n      <td>Affligem Blond</td>\n      <td>Bière Blonde</td>\n      <td>Belgique</td>\n      <td>Affligem</td>\n      <td>30</td>\n      <td>6.8</td>\n      <td>NaN</td>\n      <td>60</td>\n      <td>60</td>\n      <td>0</td>\n      <td>40</td>\n      <td>NaN</td>\n      <td>3.76</td>\n    </tr>\n    <tr>\n      <td>3</td>\n      <td>Affligem Tripel</td>\n      <td>Bière Triple</td>\n      <td>Belgique</td>\n      <td>Affligem</td>\n      <td>30</td>\n      <td>9</td>\n      <td>NaN</td>\n      <td>60</td>\n      <td>60</td>\n      <td>20</td>\n      <td>60</td>\n      <td>1.79</td>\n      <td>3.57</td>\n    </tr>\n    <tr>\n      <td>4</td>\n      <td>Ardwen Woinic Rouge</td>\n      <td>Bière Fruitée</td>\n      <td>France</td>\n      <td>Ardwen</td>\n      <td>33</td>\n      <td>8</td>\n      <td>NaN</td>\n      <td>60</td>\n      <td>100</td>\n      <td>40</td>\n      <td>20</td>\n      <td>2.99</td>\n      <td>3.07</td>\n    </tr>\n  </tbody>\n</table>\n</div>"
     },
     "metadata": {},
     "execution_count": 60
    }
   ],
   "source": [
    "# Fonction qui nettoie les données scrapées au format text. Cela permet ensuite de convertir les données chiffrées en float \n",
    "def clean(text):\n",
    "    text = text.replace(' cl','').replace('%','').replace('(','').replace(')','').replace('€ ','').replace(',','.')\n",
    "    return text\n",
    "\n",
    "# On nettoie les entrées du dataframe\n",
    "for i in range(len(df_beers)):\n",
    "    for j in ['bottle', 'abv', 'intensite', 'longueur', 'acidite', 'amertume', 'ibu', 'price', 'note']:\n",
    "        if df_beers[j][i] == '-': # Seules les données relatives à 'ibu' ont des valeurs '-'\n",
    "            df_beers[j][i] = np.nan\n",
    "        elif type(df_beers[j][i]) == str and len(df_beers[j][i]) > 6: # Nettoyage des données non chiffrées\n",
    "            df_beers[j][i] = np.nan\n",
    "        elif type(df_beers[j][i]) !=  float: \n",
    "            df_beers[j][i] = float(clean(df_beers[j][i])) # Nettoyage pour ensuite convertir au format float\n",
    "\n",
    "df_beers.head(5)"
   ]
  },
  {
   "cell_type": "code",
   "execution_count": 62,
   "metadata": {},
   "outputs": [
    {
     "output_type": "execute_result",
     "data": {
      "text/plain": [
       "                     beer_name beer_style   country       brewery_name  \\\n",
       "count                     1144       1136      1143                771   \n",
       "unique                    1144         19        27                164   \n",
       "top     St-Feuillien Quadrupel        IPA  Pays-Bas  Brasserie Oedipus   \n",
       "freq                         1        181       381                 19   \n",
       "\n",
       "        bottle     abv    ibu  intensite  longueur  acidite  amertume   price  \\\n",
       "count   1144.0  1143.0  649.0     1078.0    1078.0   1078.0    1078.0  970.00   \n",
       "unique    12.0    86.0   79.0        6.0       6.0      6.0       6.0   65.00   \n",
       "top       33.0     6.5   30.0       60.0      60.0      0.0      40.0    2.89   \n",
       "freq     943.0    87.0   52.0      641.0     587.0    514.0     388.0   92.00   \n",
       "\n",
       "           note  \n",
       "count   1061.00  \n",
       "unique   149.00  \n",
       "top        3.49  \n",
       "freq      28.00  "
      ],
      "text/html": "<div>\n<style scoped>\n    .dataframe tbody tr th:only-of-type {\n        vertical-align: middle;\n    }\n\n    .dataframe tbody tr th {\n        vertical-align: top;\n    }\n\n    .dataframe thead th {\n        text-align: right;\n    }\n</style>\n<table border=\"1\" class=\"dataframe\">\n  <thead>\n    <tr style=\"text-align: right;\">\n      <th></th>\n      <th>beer_name</th>\n      <th>beer_style</th>\n      <th>country</th>\n      <th>brewery_name</th>\n      <th>bottle</th>\n      <th>abv</th>\n      <th>ibu</th>\n      <th>intensite</th>\n      <th>longueur</th>\n      <th>acidite</th>\n      <th>amertume</th>\n      <th>price</th>\n      <th>note</th>\n    </tr>\n  </thead>\n  <tbody>\n    <tr>\n      <td>count</td>\n      <td>1144</td>\n      <td>1136</td>\n      <td>1143</td>\n      <td>771</td>\n      <td>1144.0</td>\n      <td>1143.0</td>\n      <td>649.0</td>\n      <td>1078.0</td>\n      <td>1078.0</td>\n      <td>1078.0</td>\n      <td>1078.0</td>\n      <td>970.00</td>\n      <td>1061.00</td>\n    </tr>\n    <tr>\n      <td>unique</td>\n      <td>1144</td>\n      <td>19</td>\n      <td>27</td>\n      <td>164</td>\n      <td>12.0</td>\n      <td>86.0</td>\n      <td>79.0</td>\n      <td>6.0</td>\n      <td>6.0</td>\n      <td>6.0</td>\n      <td>6.0</td>\n      <td>65.00</td>\n      <td>149.00</td>\n    </tr>\n    <tr>\n      <td>top</td>\n      <td>St-Feuillien Quadrupel</td>\n      <td>IPA</td>\n      <td>Pays-Bas</td>\n      <td>Brasserie Oedipus</td>\n      <td>33.0</td>\n      <td>6.5</td>\n      <td>30.0</td>\n      <td>60.0</td>\n      <td>60.0</td>\n      <td>0.0</td>\n      <td>40.0</td>\n      <td>2.89</td>\n      <td>3.49</td>\n    </tr>\n    <tr>\n      <td>freq</td>\n      <td>1</td>\n      <td>181</td>\n      <td>381</td>\n      <td>19</td>\n      <td>943.0</td>\n      <td>87.0</td>\n      <td>52.0</td>\n      <td>641.0</td>\n      <td>587.0</td>\n      <td>514.0</td>\n      <td>388.0</td>\n      <td>92.00</td>\n      <td>28.00</td>\n    </tr>\n  </tbody>\n</table>\n</div>"
     },
     "metadata": {},
     "execution_count": 62
    }
   ],
   "source": [
    "df_beers.describe()"
   ]
  },
  {
   "source": [
    "## 1ère analyse\n",
    "Ces statistiques descriptives nous permettent de visualiser plusieurs problèmes : \n",
    "- La valeur minimum de `abv` est 0, ce qui veut dire que nous avons scrapé des bières sans alcool. Néanmoins, la valeur maximale (16.5°) semble cohérente.\n",
    "- La valeur maximale de l'`ibu` est louche.\n",
    "- L'`acidite` un pourcentage dont la valeur maximale est de 80%. Cette varaible n'a pas l'amplitude de `intensite`, `longueur` et `amertume`.\n",
    "- Le `prix` semble honnête, mais la valeur maximale semble étrange. De plus, le prix n'est pas uniformisé dans le sens où il correspond à un volume (`bottle`) précis. Il faudra donc ramener le tout au prix de la pinte de bière. \n",
    "- La `note` de satisfation de la bière est bien comprise entre 0 et 5 mais son écart-type est très faible. On aura donc du mal à distinguer les très bonnes bières et les bonnes bières.\n",
    "\n",
    "### On nettoie le dataframe afin de ne garder que les bières sans alcool"
   ],
   "cell_type": "markdown",
   "metadata": {}
  },
  {
   "cell_type": "code",
   "execution_count": 63,
   "metadata": {},
   "outputs": [
    {
     "output_type": "execute_result",
     "data": {
      "text/plain": [
       "                  beer_name            beer_style   country  \\\n",
       "1       Affligem Blond 0.0%          Bière Blonde  Belgique   \n",
       "51             Heineken 0.0                 Lager  Pays-Bas   \n",
       "162  Budels Malty Dark 0,0%            Bière Bock  Pays-Bas   \n",
       "180        Brand Weizen 0.0           Bière Weiss  Pays-Bas   \n",
       "183                Palm 0.0              Pale Ale  Belgique   \n",
       "217           Braxzz Porter  Bière Porter & Stout  Pays-Bas   \n",
       "352          Brand IPA 0.0%                   IPA  Pays-Bas   \n",
       "353                     NaN                   NaN       NaN   \n",
       "\n",
       "          brewery_name bottle  abv  ibu intensite longueur acidite amertume  \\\n",
       "1             Affligem     30    0  NaN       NaN      NaN     NaN      NaN   \n",
       "51    Heineken Brewery     30    0   16        40       40      40       40   \n",
       "162  Budelse Brouwerij     30    0  NaN        40       60      20       20   \n",
       "180              Brand     30    0   12        60       60      20       20   \n",
       "183     Brouwerij Palm     25    0  NaN        60       60      20       40   \n",
       "217                NaN     33    0   50        60       80       0       40   \n",
       "352              Brand     30    0  NaN        60        0       0        0   \n",
       "353                NaN    NaN  NaN  NaN       NaN      NaN     NaN      NaN   \n",
       "\n",
       "    price  note  \n",
       "1    1.59  2.84  \n",
       "51   1.49   2.3  \n",
       "162  1.79  1.85  \n",
       "180  1.79  2.96  \n",
       "183  1.89  2.06  \n",
       "217  2.49  2.51  \n",
       "352  1.89  2.96  \n",
       "353   NaN   NaN  "
      ],
      "text/html": "<div>\n<style scoped>\n    .dataframe tbody tr th:only-of-type {\n        vertical-align: middle;\n    }\n\n    .dataframe tbody tr th {\n        vertical-align: top;\n    }\n\n    .dataframe thead th {\n        text-align: right;\n    }\n</style>\n<table border=\"1\" class=\"dataframe\">\n  <thead>\n    <tr style=\"text-align: right;\">\n      <th></th>\n      <th>beer_name</th>\n      <th>beer_style</th>\n      <th>country</th>\n      <th>brewery_name</th>\n      <th>bottle</th>\n      <th>abv</th>\n      <th>ibu</th>\n      <th>intensite</th>\n      <th>longueur</th>\n      <th>acidite</th>\n      <th>amertume</th>\n      <th>price</th>\n      <th>note</th>\n    </tr>\n  </thead>\n  <tbody>\n    <tr>\n      <td>1</td>\n      <td>Affligem Blond 0.0%</td>\n      <td>Bière Blonde</td>\n      <td>Belgique</td>\n      <td>Affligem</td>\n      <td>30</td>\n      <td>0</td>\n      <td>NaN</td>\n      <td>NaN</td>\n      <td>NaN</td>\n      <td>NaN</td>\n      <td>NaN</td>\n      <td>1.59</td>\n      <td>2.84</td>\n    </tr>\n    <tr>\n      <td>51</td>\n      <td>Heineken 0.0</td>\n      <td>Lager</td>\n      <td>Pays-Bas</td>\n      <td>Heineken Brewery</td>\n      <td>30</td>\n      <td>0</td>\n      <td>16</td>\n      <td>40</td>\n      <td>40</td>\n      <td>40</td>\n      <td>40</td>\n      <td>1.49</td>\n      <td>2.3</td>\n    </tr>\n    <tr>\n      <td>162</td>\n      <td>Budels Malty Dark 0,0%</td>\n      <td>Bière Bock</td>\n      <td>Pays-Bas</td>\n      <td>Budelse Brouwerij</td>\n      <td>30</td>\n      <td>0</td>\n      <td>NaN</td>\n      <td>40</td>\n      <td>60</td>\n      <td>20</td>\n      <td>20</td>\n      <td>1.79</td>\n      <td>1.85</td>\n    </tr>\n    <tr>\n      <td>180</td>\n      <td>Brand Weizen 0.0</td>\n      <td>Bière Weiss</td>\n      <td>Pays-Bas</td>\n      <td>Brand</td>\n      <td>30</td>\n      <td>0</td>\n      <td>12</td>\n      <td>60</td>\n      <td>60</td>\n      <td>20</td>\n      <td>20</td>\n      <td>1.79</td>\n      <td>2.96</td>\n    </tr>\n    <tr>\n      <td>183</td>\n      <td>Palm 0.0</td>\n      <td>Pale Ale</td>\n      <td>Belgique</td>\n      <td>Brouwerij Palm</td>\n      <td>25</td>\n      <td>0</td>\n      <td>NaN</td>\n      <td>60</td>\n      <td>60</td>\n      <td>20</td>\n      <td>40</td>\n      <td>1.89</td>\n      <td>2.06</td>\n    </tr>\n    <tr>\n      <td>217</td>\n      <td>Braxzz Porter</td>\n      <td>Bière Porter &amp; Stout</td>\n      <td>Pays-Bas</td>\n      <td>NaN</td>\n      <td>33</td>\n      <td>0</td>\n      <td>50</td>\n      <td>60</td>\n      <td>80</td>\n      <td>0</td>\n      <td>40</td>\n      <td>2.49</td>\n      <td>2.51</td>\n    </tr>\n    <tr>\n      <td>352</td>\n      <td>Brand IPA 0.0%</td>\n      <td>IPA</td>\n      <td>Pays-Bas</td>\n      <td>Brand</td>\n      <td>30</td>\n      <td>0</td>\n      <td>NaN</td>\n      <td>60</td>\n      <td>0</td>\n      <td>0</td>\n      <td>0</td>\n      <td>1.89</td>\n      <td>2.96</td>\n    </tr>\n    <tr>\n      <td>353</td>\n      <td>NaN</td>\n      <td>NaN</td>\n      <td>NaN</td>\n      <td>NaN</td>\n      <td>NaN</td>\n      <td>NaN</td>\n      <td>NaN</td>\n      <td>NaN</td>\n      <td>NaN</td>\n      <td>NaN</td>\n      <td>NaN</td>\n      <td>NaN</td>\n      <td>NaN</td>\n    </tr>\n  </tbody>\n</table>\n</div>"
     },
     "metadata": {},
     "execution_count": 63
    }
   ],
   "source": [
    "bieres_sans_alcool = df_beers[df_beers['abv'].isin([0,np.nan])] \n",
    "bieres_sans_alcool.head(8)"
   ]
  },
  {
   "source": [
    "D'ailleurs, on remarque que les bières sans alcool n'ont pas de \"bonne\" note. On les supprime du dataframe."
   ],
   "cell_type": "markdown",
   "metadata": {}
  },
  {
   "cell_type": "code",
   "execution_count": 64,
   "metadata": {},
   "outputs": [],
   "source": [
    "df_beers = df_beers.drop([df_beers[df_beers['abv'].isin([0,np.nan])].index[i] for i in range(len(df_beers[df_beers['abv'].isin([0,np.nan])]))])\n",
    "df_beers = df_beers.reset_index(drop = True)"
   ]
  },
  {
   "cell_type": "code",
   "execution_count": 65,
   "metadata": {},
   "outputs": [
    {
     "output_type": "execute_result",
     "data": {
      "text/plain": [
       "beer_name         0\n",
       "beer_style        7\n",
       "country           0\n",
       "brewery_name    368\n",
       "bottle            0\n",
       "abv               0\n",
       "ibu             485\n",
       "intensite        62\n",
       "longueur         62\n",
       "acidite          62\n",
       "amertume         62\n",
       "price           170\n",
       "note             79\n",
       "dtype: int64"
      ]
     },
     "metadata": {},
     "execution_count": 65
    }
   ],
   "source": [
    "df_beers.isnull().sum()"
   ]
  },
  {
   "source": [
    "On peut à présent ajouter une colonne égale au prix de la pinte de cette bière, d'après le site www.beerwulf.com. \n",
    "\n",
    "Ce sera utile pour comparer les prix par la suite."
   ],
   "cell_type": "markdown",
   "metadata": {}
  },
  {
   "cell_type": "code",
   "execution_count": 66,
   "metadata": {},
   "outputs": [
    {
     "output_type": "execute_result",
     "data": {
      "text/plain": [
       "                                      beer_name    beer_style   country  \\\n",
       "0  Walhalla Aphrodite Raspberry Berliner Weisse    Bière Sour  Pays-Bas   \n",
       "1                                Affligem Blond  Bière Blonde  Belgique   \n",
       "2                               Affligem Tripel  Bière Triple  Belgique   \n",
       "\n",
       "          brewery_name bottle  abv  ibu intensite longueur acidite amertume  \\\n",
       "0  Walhalla Craft Beer     33    4  NaN         0       40      40        0   \n",
       "1             Affligem     30  6.8  NaN        60       60       0       40   \n",
       "2             Affligem     30    9  NaN        60       60      20       60   \n",
       "\n",
       "  price  note  prix_de_la_pinte  \n",
       "0   NaN   NaN               NaN  \n",
       "1   NaN  3.76               NaN  \n",
       "2  1.79  3.57              2.98  "
      ],
      "text/html": "<div>\n<style scoped>\n    .dataframe tbody tr th:only-of-type {\n        vertical-align: middle;\n    }\n\n    .dataframe tbody tr th {\n        vertical-align: top;\n    }\n\n    .dataframe thead th {\n        text-align: right;\n    }\n</style>\n<table border=\"1\" class=\"dataframe\">\n  <thead>\n    <tr style=\"text-align: right;\">\n      <th></th>\n      <th>beer_name</th>\n      <th>beer_style</th>\n      <th>country</th>\n      <th>brewery_name</th>\n      <th>bottle</th>\n      <th>abv</th>\n      <th>ibu</th>\n      <th>intensite</th>\n      <th>longueur</th>\n      <th>acidite</th>\n      <th>amertume</th>\n      <th>price</th>\n      <th>note</th>\n      <th>prix_de_la_pinte</th>\n    </tr>\n  </thead>\n  <tbody>\n    <tr>\n      <td>0</td>\n      <td>Walhalla Aphrodite Raspberry Berliner Weisse</td>\n      <td>Bière Sour</td>\n      <td>Pays-Bas</td>\n      <td>Walhalla Craft Beer</td>\n      <td>33</td>\n      <td>4</td>\n      <td>NaN</td>\n      <td>0</td>\n      <td>40</td>\n      <td>40</td>\n      <td>0</td>\n      <td>NaN</td>\n      <td>NaN</td>\n      <td>NaN</td>\n    </tr>\n    <tr>\n      <td>1</td>\n      <td>Affligem Blond</td>\n      <td>Bière Blonde</td>\n      <td>Belgique</td>\n      <td>Affligem</td>\n      <td>30</td>\n      <td>6.8</td>\n      <td>NaN</td>\n      <td>60</td>\n      <td>60</td>\n      <td>0</td>\n      <td>40</td>\n      <td>NaN</td>\n      <td>3.76</td>\n      <td>NaN</td>\n    </tr>\n    <tr>\n      <td>2</td>\n      <td>Affligem Tripel</td>\n      <td>Bière Triple</td>\n      <td>Belgique</td>\n      <td>Affligem</td>\n      <td>30</td>\n      <td>9</td>\n      <td>NaN</td>\n      <td>60</td>\n      <td>60</td>\n      <td>20</td>\n      <td>60</td>\n      <td>1.79</td>\n      <td>3.57</td>\n      <td>2.98</td>\n    </tr>\n  </tbody>\n</table>\n</div>"
     },
     "metadata": {},
     "execution_count": 66
    }
   ],
   "source": [
    "df_beers['prix_de_la_pinte'] = 0.0\n",
    "\n",
    "for i in range(len(df_beers)):\n",
    "    if df_beers['price'][i] != np.nan:\n",
    "        df_beers['prix_de_la_pinte'][i] = round(50*df_beers['price'][i]/df_beers['bottle'][i],2)\n",
    "    else:\n",
    "        df_beers['prix_de_la_pinte'][i] = np.nan\n",
    "\n",
    "df_beers.head(3)"
   ]
  },
  {
   "source": [
    "### Formatage des données : convertir les données relatives à `intensite`, `longueur`, `acidite`, `amertume` en une note sur 5 pour pouvoir ensuite faire le lien avec l'autre base de données.\n",
    "Les notes des bières concernant l'`intensite`, la `longueur` et l'`amertume` vont de 0 à 100%, tandis que la note de l'acidité varie entre 0 et 80%. On adapte donc le formatage."
   ],
   "cell_type": "markdown",
   "metadata": {}
  },
  {
   "cell_type": "code",
   "execution_count": 67,
   "metadata": {},
   "outputs": [
    {
     "output_type": "execute_result",
     "data": {
      "text/plain": [
       "                                      beer_name     beer_style   country  \\\n",
       "0  Walhalla Aphrodite Raspberry Berliner Weisse     Bière Sour  Pays-Bas   \n",
       "1                                Affligem Blond   Bière Blonde  Belgique   \n",
       "2                               Affligem Tripel   Bière Triple  Belgique   \n",
       "3                           Ardwen Woinic Rouge  Bière Fruitée    France   \n",
       "4                Atlantic Blanche des Gabariers  Bière Blanche    France   \n",
       "5                               Asahi Super Dry          Lager     Japon   \n",
       "6                  Atlantic Rubis des Gabariers   Bière Ambrée    France   \n",
       "7                  Atlantic Dorée des Gabariers   Bière Ambrée    France   \n",
       "8                              Bacchus Framboos  Bière Fruitée  Belgique   \n",
       "9                                  Baladin Nora   Bière Blonde    Italie   \n",
       "\n",
       "                brewery_name bottle  abv  ibu intensite longueur acidite  \\\n",
       "0        Walhalla Craft Beer     33    4  NaN         0        2     2.5   \n",
       "1                   Affligem     30  6.8  NaN         3        3       0   \n",
       "2                   Affligem     30    9  NaN         3        3    1.25   \n",
       "3                     Ardwen     33    8  NaN         3        5     2.5   \n",
       "4    Brasserie des Gabariers     33    5  NaN         2        3    1.25   \n",
       "5                        NaN     33  5.2   16         3        2       0   \n",
       "6    Brasserie des Gabariers     33    6  NaN         2        4    3.75   \n",
       "7    Brasserie des Gabariers     33  5.5  NaN         2        3    1.25   \n",
       "8  Brouwerij Van Honsebrouck     38    5  NaN         4        3    3.75   \n",
       "9                    Baladin     33  6.8   11         3        3       0   \n",
       "\n",
       "  amertume price  note  prix_de_la_pinte  \n",
       "0        0   NaN   NaN               NaN  \n",
       "1        2   NaN  3.76               NaN  \n",
       "2        3  1.79  3.57              2.98  \n",
       "3        1  2.99  3.07              4.53  \n",
       "4        1  2.79  2.93              4.23  \n",
       "5        2  2.39  3.07              3.62  \n",
       "6        1  2.99  2.79              4.53  \n",
       "7        2  2.79  2.84              4.23  \n",
       "8        1  3.49   3.6              4.59  \n",
       "9        1  3.49  3.63              5.29  "
      ],
      "text/html": "<div>\n<style scoped>\n    .dataframe tbody tr th:only-of-type {\n        vertical-align: middle;\n    }\n\n    .dataframe tbody tr th {\n        vertical-align: top;\n    }\n\n    .dataframe thead th {\n        text-align: right;\n    }\n</style>\n<table border=\"1\" class=\"dataframe\">\n  <thead>\n    <tr style=\"text-align: right;\">\n      <th></th>\n      <th>beer_name</th>\n      <th>beer_style</th>\n      <th>country</th>\n      <th>brewery_name</th>\n      <th>bottle</th>\n      <th>abv</th>\n      <th>ibu</th>\n      <th>intensite</th>\n      <th>longueur</th>\n      <th>acidite</th>\n      <th>amertume</th>\n      <th>price</th>\n      <th>note</th>\n      <th>prix_de_la_pinte</th>\n    </tr>\n  </thead>\n  <tbody>\n    <tr>\n      <td>0</td>\n      <td>Walhalla Aphrodite Raspberry Berliner Weisse</td>\n      <td>Bière Sour</td>\n      <td>Pays-Bas</td>\n      <td>Walhalla Craft Beer</td>\n      <td>33</td>\n      <td>4</td>\n      <td>NaN</td>\n      <td>0</td>\n      <td>2</td>\n      <td>2.5</td>\n      <td>0</td>\n      <td>NaN</td>\n      <td>NaN</td>\n      <td>NaN</td>\n    </tr>\n    <tr>\n      <td>1</td>\n      <td>Affligem Blond</td>\n      <td>Bière Blonde</td>\n      <td>Belgique</td>\n      <td>Affligem</td>\n      <td>30</td>\n      <td>6.8</td>\n      <td>NaN</td>\n      <td>3</td>\n      <td>3</td>\n      <td>0</td>\n      <td>2</td>\n      <td>NaN</td>\n      <td>3.76</td>\n      <td>NaN</td>\n    </tr>\n    <tr>\n      <td>2</td>\n      <td>Affligem Tripel</td>\n      <td>Bière Triple</td>\n      <td>Belgique</td>\n      <td>Affligem</td>\n      <td>30</td>\n      <td>9</td>\n      <td>NaN</td>\n      <td>3</td>\n      <td>3</td>\n      <td>1.25</td>\n      <td>3</td>\n      <td>1.79</td>\n      <td>3.57</td>\n      <td>2.98</td>\n    </tr>\n    <tr>\n      <td>3</td>\n      <td>Ardwen Woinic Rouge</td>\n      <td>Bière Fruitée</td>\n      <td>France</td>\n      <td>Ardwen</td>\n      <td>33</td>\n      <td>8</td>\n      <td>NaN</td>\n      <td>3</td>\n      <td>5</td>\n      <td>2.5</td>\n      <td>1</td>\n      <td>2.99</td>\n      <td>3.07</td>\n      <td>4.53</td>\n    </tr>\n    <tr>\n      <td>4</td>\n      <td>Atlantic Blanche des Gabariers</td>\n      <td>Bière Blanche</td>\n      <td>France</td>\n      <td>Brasserie des Gabariers</td>\n      <td>33</td>\n      <td>5</td>\n      <td>NaN</td>\n      <td>2</td>\n      <td>3</td>\n      <td>1.25</td>\n      <td>1</td>\n      <td>2.79</td>\n      <td>2.93</td>\n      <td>4.23</td>\n    </tr>\n    <tr>\n      <td>5</td>\n      <td>Asahi Super Dry</td>\n      <td>Lager</td>\n      <td>Japon</td>\n      <td>NaN</td>\n      <td>33</td>\n      <td>5.2</td>\n      <td>16</td>\n      <td>3</td>\n      <td>2</td>\n      <td>0</td>\n      <td>2</td>\n      <td>2.39</td>\n      <td>3.07</td>\n      <td>3.62</td>\n    </tr>\n    <tr>\n      <td>6</td>\n      <td>Atlantic Rubis des Gabariers</td>\n      <td>Bière Ambrée</td>\n      <td>France</td>\n      <td>Brasserie des Gabariers</td>\n      <td>33</td>\n      <td>6</td>\n      <td>NaN</td>\n      <td>2</td>\n      <td>4</td>\n      <td>3.75</td>\n      <td>1</td>\n      <td>2.99</td>\n      <td>2.79</td>\n      <td>4.53</td>\n    </tr>\n    <tr>\n      <td>7</td>\n      <td>Atlantic Dorée des Gabariers</td>\n      <td>Bière Ambrée</td>\n      <td>France</td>\n      <td>Brasserie des Gabariers</td>\n      <td>33</td>\n      <td>5.5</td>\n      <td>NaN</td>\n      <td>2</td>\n      <td>3</td>\n      <td>1.25</td>\n      <td>2</td>\n      <td>2.79</td>\n      <td>2.84</td>\n      <td>4.23</td>\n    </tr>\n    <tr>\n      <td>8</td>\n      <td>Bacchus Framboos</td>\n      <td>Bière Fruitée</td>\n      <td>Belgique</td>\n      <td>Brouwerij Van Honsebrouck</td>\n      <td>38</td>\n      <td>5</td>\n      <td>NaN</td>\n      <td>4</td>\n      <td>3</td>\n      <td>3.75</td>\n      <td>1</td>\n      <td>3.49</td>\n      <td>3.6</td>\n      <td>4.59</td>\n    </tr>\n    <tr>\n      <td>9</td>\n      <td>Baladin Nora</td>\n      <td>Bière Blonde</td>\n      <td>Italie</td>\n      <td>Baladin</td>\n      <td>33</td>\n      <td>6.8</td>\n      <td>11</td>\n      <td>3</td>\n      <td>3</td>\n      <td>0</td>\n      <td>1</td>\n      <td>3.49</td>\n      <td>3.63</td>\n      <td>5.29</td>\n    </tr>\n  </tbody>\n</table>\n</div>"
     },
     "metadata": {},
     "execution_count": 67
    }
   ],
   "source": [
    "for i in range(len(df_beers)):\n",
    "    for j in ['intensite', 'longueur','amertume']:\n",
    "        if df_beers[j][i] != np.nan:\n",
    "            df_beers[j][i] = df_beers[j][i]/20\n",
    "    if df_beers['acidite'][i] != np.nan:\n",
    "        df_beers['acidite'][i] = df_beers['acidite'][i]/16\n",
    "\n",
    "df_beers.head(10)"
   ]
  },
  {
   "source": [
    "# Statistiques descriptives"
   ],
   "cell_type": "markdown",
   "metadata": {}
  },
  {
   "source": [
    "Exportation du tableau en tant que fichier csv pour ensuite être traité"
   ],
   "cell_type": "markdown",
   "metadata": {}
  },
  {
   "cell_type": "code",
   "execution_count": 68,
   "metadata": {},
   "outputs": [],
   "source": [
    "df_beers.to_csv('data_beerwulf') "
   ]
  }
 ],
 "metadata": {
  "kernelspec": {
   "display_name": "Python 3",
   "language": "python",
   "name": "python3"
  },
  "language_info": {
   "codemirror_mode": {
    "name": "ipython",
    "version": 3
   },
   "file_extension": ".py",
   "mimetype": "text/x-python",
   "name": "python",
   "nbconvert_exporter": "python",
   "pygments_lexer": "ipython3",
   "version": "3.7.4-final"
  }
 },
 "nbformat": 4,
 "nbformat_minor": 2
}