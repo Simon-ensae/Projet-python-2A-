{
 "cells": [
  {
   "cell_type": "markdown",
   "metadata": {},
   "source": [
    "# Machine learning \n",
    "- Clustering sur la table df_ml pour regrouper les bières en cluster selon divers critères.\n",
    "- Identification des bières les plus connues représentatives de chaque cluster \n",
    "- Classification de clients à réparti selon les cluster"
   ]
  },
  {
   "cell_type": "code",
   "execution_count": 1,
   "metadata": {},
   "outputs": [],
   "source": [
    "# Importation des modules nécessaires\n",
    "import numpy as np\n",
    "import pandas as pd\n",
    "import matplotlib.pyplot as plt\n",
    "import seaborn as sns\n",
    "\n",
    "%matplotlib inline"
   ]
  },
  {
   "cell_type": "code",
   "execution_count": 2,
   "metadata": {},
   "outputs": [
    {
     "name": "stdout",
     "output_type": "stream",
     "text": [
      "id                    0\n",
      "beer_name             0\n",
      "beer_style            0\n",
      "abv                   0\n",
      "brewery_id            0\n",
      "brewery_name          0\n",
      "look            3054607\n",
      "smell           3054607\n",
      "taste           3054607\n",
      "feel            3054607\n",
      "dtype: int64\n"
     ]
    },
    {
     "data": {
      "text/html": [
       "<div>\n",
       "<style scoped>\n",
       "    .dataframe tbody tr th:only-of-type {\n",
       "        vertical-align: middle;\n",
       "    }\n",
       "\n",
       "    .dataframe tbody tr th {\n",
       "        vertical-align: top;\n",
       "    }\n",
       "\n",
       "    .dataframe thead th {\n",
       "        text-align: right;\n",
       "    }\n",
       "</style>\n",
       "<table border=\"1\" class=\"dataframe\">\n",
       "  <thead>\n",
       "    <tr style=\"text-align: right;\">\n",
       "      <th></th>\n",
       "      <th>id</th>\n",
       "      <th>abv</th>\n",
       "      <th>brewery_id</th>\n",
       "      <th>look</th>\n",
       "      <th>smell</th>\n",
       "      <th>taste</th>\n",
       "      <th>feel</th>\n",
       "    </tr>\n",
       "  </thead>\n",
       "  <tbody>\n",
       "    <tr>\n",
       "      <th>count</th>\n",
       "      <td>7.293081e+06</td>\n",
       "      <td>7.293081e+06</td>\n",
       "      <td>7.293081e+06</td>\n",
       "      <td>4.238474e+06</td>\n",
       "      <td>4.238474e+06</td>\n",
       "      <td>4.238474e+06</td>\n",
       "      <td>4.238474e+06</td>\n",
       "    </tr>\n",
       "    <tr>\n",
       "      <th>mean</th>\n",
       "      <td>7.873959e+04</td>\n",
       "      <td>7.465506e+00</td>\n",
       "      <td>1.004467e+04</td>\n",
       "      <td>3.976432e+00</td>\n",
       "      <td>3.921277e+00</td>\n",
       "      <td>3.951446e+00</td>\n",
       "      <td>3.913611e+00</td>\n",
       "    </tr>\n",
       "    <tr>\n",
       "      <th>std</th>\n",
       "      <td>7.838431e+04</td>\n",
       "      <td>2.516584e+00</td>\n",
       "      <td>1.314714e+04</td>\n",
       "      <td>5.375087e-01</td>\n",
       "      <td>5.939705e-01</td>\n",
       "      <td>6.156056e-01</td>\n",
       "      <td>5.832198e-01</td>\n",
       "    </tr>\n",
       "    <tr>\n",
       "      <th>min</th>\n",
       "      <td>5.000000e+00</td>\n",
       "      <td>1.000000e-02</td>\n",
       "      <td>3.000000e+00</td>\n",
       "      <td>1.000000e+00</td>\n",
       "      <td>1.000000e+00</td>\n",
       "      <td>1.000000e+00</td>\n",
       "      <td>1.000000e+00</td>\n",
       "    </tr>\n",
       "    <tr>\n",
       "      <th>25%</th>\n",
       "      <td>1.608700e+04</td>\n",
       "      <td>5.500000e+00</td>\n",
       "      <td>1.730000e+02</td>\n",
       "      <td>3.750000e+00</td>\n",
       "      <td>3.500000e+00</td>\n",
       "      <td>3.500000e+00</td>\n",
       "      <td>3.500000e+00</td>\n",
       "    </tr>\n",
       "    <tr>\n",
       "      <th>50%</th>\n",
       "      <td>5.898100e+04</td>\n",
       "      <td>7.000000e+00</td>\n",
       "      <td>1.146000e+03</td>\n",
       "      <td>4.000000e+00</td>\n",
       "      <td>4.000000e+00</td>\n",
       "      <td>4.000000e+00</td>\n",
       "      <td>4.000000e+00</td>\n",
       "    </tr>\n",
       "    <tr>\n",
       "      <th>75%</th>\n",
       "      <td>1.090000e+05</td>\n",
       "      <td>9.000000e+00</td>\n",
       "      <td>2.119300e+04</td>\n",
       "      <td>4.250000e+00</td>\n",
       "      <td>4.250000e+00</td>\n",
       "      <td>4.500000e+00</td>\n",
       "      <td>4.250000e+00</td>\n",
       "    </tr>\n",
       "    <tr>\n",
       "      <th>max</th>\n",
       "      <td>3.731120e+05</td>\n",
       "      <td>5.750000e+01</td>\n",
       "      <td>5.405600e+04</td>\n",
       "      <td>5.000000e+00</td>\n",
       "      <td>5.000000e+00</td>\n",
       "      <td>5.000000e+00</td>\n",
       "      <td>5.000000e+00</td>\n",
       "    </tr>\n",
       "  </tbody>\n",
       "</table>\n",
       "</div>"
      ],
      "text/plain": [
       "                 id           abv    brewery_id          look         smell  \\\n",
       "count  7.293081e+06  7.293081e+06  7.293081e+06  4.238474e+06  4.238474e+06   \n",
       "mean   7.873959e+04  7.465506e+00  1.004467e+04  3.976432e+00  3.921277e+00   \n",
       "std    7.838431e+04  2.516584e+00  1.314714e+04  5.375087e-01  5.939705e-01   \n",
       "min    5.000000e+00  1.000000e-02  3.000000e+00  1.000000e+00  1.000000e+00   \n",
       "25%    1.608700e+04  5.500000e+00  1.730000e+02  3.750000e+00  3.500000e+00   \n",
       "50%    5.898100e+04  7.000000e+00  1.146000e+03  4.000000e+00  4.000000e+00   \n",
       "75%    1.090000e+05  9.000000e+00  2.119300e+04  4.250000e+00  4.250000e+00   \n",
       "max    3.731120e+05  5.750000e+01  5.405600e+04  5.000000e+00  5.000000e+00   \n",
       "\n",
       "              taste          feel  \n",
       "count  4.238474e+06  4.238474e+06  \n",
       "mean   3.951446e+00  3.913611e+00  \n",
       "std    6.156056e-01  5.832198e-01  \n",
       "min    1.000000e+00  1.000000e+00  \n",
       "25%    3.500000e+00  3.500000e+00  \n",
       "50%    4.000000e+00  4.000000e+00  \n",
       "75%    4.500000e+00  4.250000e+00  \n",
       "max    5.000000e+00  5.000000e+00  "
      ]
     },
     "execution_count": 2,
     "metadata": {},
     "output_type": "execute_result"
    }
   ],
   "source": [
    "df_ml = pd.read_csv(r'C:\\Users\\sim13\\OneDrive\\Documents\\Projet_python_2A\\data_avis_subj.csv')\n",
    "print(df_ml.isnull().sum())\n",
    "df_ml.describe()"
   ]
  },
  {
   "cell_type": "markdown",
   "metadata": {},
   "source": [
    "On crée un dataset sans valeurs manquantes."
   ]
  },
  {
   "cell_type": "code",
   "execution_count": 3,
   "metadata": {},
   "outputs": [
    {
     "data": {
      "text/html": [
       "<div>\n",
       "<style scoped>\n",
       "    .dataframe tbody tr th:only-of-type {\n",
       "        vertical-align: middle;\n",
       "    }\n",
       "\n",
       "    .dataframe tbody tr th {\n",
       "        vertical-align: top;\n",
       "    }\n",
       "\n",
       "    .dataframe thead th {\n",
       "        text-align: right;\n",
       "    }\n",
       "</style>\n",
       "<table border=\"1\" class=\"dataframe\">\n",
       "  <thead>\n",
       "    <tr style=\"text-align: right;\">\n",
       "      <th></th>\n",
       "      <th>id</th>\n",
       "      <th>abv</th>\n",
       "      <th>brewery_id</th>\n",
       "      <th>look</th>\n",
       "      <th>smell</th>\n",
       "      <th>taste</th>\n",
       "      <th>feel</th>\n",
       "    </tr>\n",
       "  </thead>\n",
       "  <tbody>\n",
       "    <tr>\n",
       "      <th>count</th>\n",
       "      <td>4.238474e+06</td>\n",
       "      <td>4.238474e+06</td>\n",
       "      <td>4.238474e+06</td>\n",
       "      <td>4.238474e+06</td>\n",
       "      <td>4.238474e+06</td>\n",
       "      <td>4.238474e+06</td>\n",
       "      <td>4.238474e+06</td>\n",
       "    </tr>\n",
       "    <tr>\n",
       "      <th>mean</th>\n",
       "      <td>9.462797e+04</td>\n",
       "      <td>7.474800e+00</td>\n",
       "      <td>1.149349e+04</td>\n",
       "      <td>3.976432e+00</td>\n",
       "      <td>3.921277e+00</td>\n",
       "      <td>3.951446e+00</td>\n",
       "      <td>3.913611e+00</td>\n",
       "    </tr>\n",
       "    <tr>\n",
       "      <th>std</th>\n",
       "      <td>8.902685e+04</td>\n",
       "      <td>2.509207e+00</td>\n",
       "      <td>1.394105e+04</td>\n",
       "      <td>5.375087e-01</td>\n",
       "      <td>5.939705e-01</td>\n",
       "      <td>6.156056e-01</td>\n",
       "      <td>5.832198e-01</td>\n",
       "    </tr>\n",
       "    <tr>\n",
       "      <th>min</th>\n",
       "      <td>5.000000e+00</td>\n",
       "      <td>1.000000e-02</td>\n",
       "      <td>3.000000e+00</td>\n",
       "      <td>1.000000e+00</td>\n",
       "      <td>1.000000e+00</td>\n",
       "      <td>1.000000e+00</td>\n",
       "      <td>1.000000e+00</td>\n",
       "    </tr>\n",
       "    <tr>\n",
       "      <th>25%</th>\n",
       "      <td>2.018400e+04</td>\n",
       "      <td>5.500000e+00</td>\n",
       "      <td>1.990000e+02</td>\n",
       "      <td>3.750000e+00</td>\n",
       "      <td>3.500000e+00</td>\n",
       "      <td>3.500000e+00</td>\n",
       "      <td>3.500000e+00</td>\n",
       "    </tr>\n",
       "    <tr>\n",
       "      <th>50%</th>\n",
       "      <td>6.895800e+04</td>\n",
       "      <td>7.000000e+00</td>\n",
       "      <td>1.432000e+03</td>\n",
       "      <td>4.000000e+00</td>\n",
       "      <td>4.000000e+00</td>\n",
       "      <td>4.000000e+00</td>\n",
       "      <td>4.000000e+00</td>\n",
       "    </tr>\n",
       "    <tr>\n",
       "      <th>75%</th>\n",
       "      <td>1.493310e+05</td>\n",
       "      <td>9.000000e+00</td>\n",
       "      <td>2.413400e+04</td>\n",
       "      <td>4.250000e+00</td>\n",
       "      <td>4.250000e+00</td>\n",
       "      <td>4.500000e+00</td>\n",
       "      <td>4.250000e+00</td>\n",
       "    </tr>\n",
       "    <tr>\n",
       "      <th>max</th>\n",
       "      <td>3.731040e+05</td>\n",
       "      <td>5.750000e+01</td>\n",
       "      <td>5.355800e+04</td>\n",
       "      <td>5.000000e+00</td>\n",
       "      <td>5.000000e+00</td>\n",
       "      <td>5.000000e+00</td>\n",
       "      <td>5.000000e+00</td>\n",
       "    </tr>\n",
       "  </tbody>\n",
       "</table>\n",
       "</div>"
      ],
      "text/plain": [
       "                 id           abv    brewery_id          look         smell  \\\n",
       "count  4.238474e+06  4.238474e+06  4.238474e+06  4.238474e+06  4.238474e+06   \n",
       "mean   9.462797e+04  7.474800e+00  1.149349e+04  3.976432e+00  3.921277e+00   \n",
       "std    8.902685e+04  2.509207e+00  1.394105e+04  5.375087e-01  5.939705e-01   \n",
       "min    5.000000e+00  1.000000e-02  3.000000e+00  1.000000e+00  1.000000e+00   \n",
       "25%    2.018400e+04  5.500000e+00  1.990000e+02  3.750000e+00  3.500000e+00   \n",
       "50%    6.895800e+04  7.000000e+00  1.432000e+03  4.000000e+00  4.000000e+00   \n",
       "75%    1.493310e+05  9.000000e+00  2.413400e+04  4.250000e+00  4.250000e+00   \n",
       "max    3.731040e+05  5.750000e+01  5.355800e+04  5.000000e+00  5.000000e+00   \n",
       "\n",
       "              taste          feel  \n",
       "count  4.238474e+06  4.238474e+06  \n",
       "mean   3.951446e+00  3.913611e+00  \n",
       "std    6.156056e-01  5.832198e-01  \n",
       "min    1.000000e+00  1.000000e+00  \n",
       "25%    3.500000e+00  3.500000e+00  \n",
       "50%    4.000000e+00  4.000000e+00  \n",
       "75%    4.500000e+00  4.250000e+00  \n",
       "max    5.000000e+00  5.000000e+00  "
      ]
     },
     "execution_count": 3,
     "metadata": {},
     "output_type": "execute_result"
    }
   ],
   "source": [
    "df_subj_abv = df_ml.dropna()\n",
    "df_subj_abv.describe()"
   ]
  },
  {
   "cell_type": "markdown",
   "metadata": {},
   "source": [
    "## Clustering \n",
    "\n",
    "- K-means"
   ]
  },
  {
   "cell_type": "code",
   "execution_count": 4,
   "metadata": {},
   "outputs": [],
   "source": [
    "from sklearn.cluster import KMeans\n",
    "# from sklearn.model_selection import train_test_split\n",
    "k_means = KMeans(n_clusters=4)"
   ]
  },
  {
   "cell_type": "markdown",
   "metadata": {},
   "source": [
    "## Détermination du nombre de clusters optimal"
   ]
  },
  {
   "cell_type": "code",
   "execution_count": 23,
   "metadata": {},
   "outputs": [
    {
     "name": "stdout",
     "output_type": "stream",
     "text": [
      "Collecting yellowbrick\n",
      "  Downloading yellowbrick-1.2-py3-none-any.whl (269 kB)\n",
      "Requirement already satisfied: matplotlib!=3.0.0,>=2.0.2 in c:\\users\\sim13\\anaconda3\\lib\\site-packages (from yellowbrick) (3.2.2)\n",
      "Requirement already satisfied: numpy>=1.13.0 in c:\\users\\sim13\\anaconda3\\lib\\site-packages (from yellowbrick) (1.18.5)\n",
      "Requirement already satisfied: scikit-learn>=0.20 in c:\\users\\sim13\\anaconda3\\lib\\site-packages (from yellowbrick) (0.23.1)\n",
      "Requirement already satisfied: cycler>=0.10.0 in c:\\users\\sim13\\anaconda3\\lib\\site-packages (from yellowbrick) (0.10.0)\n",
      "Requirement already satisfied: scipy>=1.0.0 in c:\\users\\sim13\\anaconda3\\lib\\site-packages (from yellowbrick) (1.5.0)\n",
      "Requirement already satisfied: kiwisolver>=1.0.1 in c:\\users\\sim13\\anaconda3\\lib\\site-packages (from matplotlib!=3.0.0,>=2.0.2->yellowbrick) (1.2.0)\n",
      "Requirement already satisfied: python-dateutil>=2.1 in c:\\users\\sim13\\anaconda3\\lib\\site-packages (from matplotlib!=3.0.0,>=2.0.2->yellowbrick) (2.8.1)\n",
      "Requirement already satisfied: pyparsing!=2.0.4,!=2.1.2,!=2.1.6,>=2.0.1 in c:\\users\\sim13\\anaconda3\\lib\\site-packages (from matplotlib!=3.0.0,>=2.0.2->yellowbrick) (2.4.7)\n",
      "Requirement already satisfied: joblib>=0.11 in c:\\users\\sim13\\anaconda3\\lib\\site-packages (from scikit-learn>=0.20->yellowbrick) (0.16.0)\n",
      "Requirement already satisfied: threadpoolctl>=2.0.0 in c:\\users\\sim13\\anaconda3\\lib\\site-packages (from scikit-learn>=0.20->yellowbrick) (2.1.0)\n",
      "Requirement already satisfied: six in c:\\users\\sim13\\anaconda3\\lib\\site-packages (from cycler>=0.10.0->yellowbrick) (1.15.0)\n",
      "Installing collected packages: yellowbrick\n",
      "Successfully installed yellowbrick-1.2\n"
     ]
    },
    {
     "data": {
      "image/png": "[encoded data removed]",
      "text/plain": [
       "<Figure size 576x396 with 2 Axes>"
      ]
     },
     "metadata": {},
     "output_type": "display_data"
    },
    {
     "data": {
      "text/plain": [
       "<matplotlib.axes._subplots.AxesSubplot at 0x1f91a274b20>"
      ]
     },
     "execution_count": 23,
     "metadata": {},
     "output_type": "execute_result"
    }
   ],
   "source": [
    "!pip install yellowbrick\n",
    "from yellowbrick.cluster import KElbowVisualizer\n",
    "\n",
    "visualizer = KElbowVisualizer(k_means, k=(3, 12))\n",
    "visualizer.fit(df_subj_abv[['look', 'smell', 'taste', 'feel']])\n",
    "visualizer.show()"
   ]
  },
  {
   "cell_type": "code",
   "execution_count": 5,
   "metadata": {},
   "outputs": [],
   "source": [
    "k_means.fit(df_subj_abv[['look', 'smell', 'taste', 'feel']]) #K-means training\n",
    "abv_pred = k_means.predict(df_subj_abv[['look', 'smell', 'taste', 'feel']])"
   ]
  },
  {
   "cell_type": "code",
   "execution_count": 6,
   "metadata": {},
   "outputs": [
    {
     "data": {
      "text/html": [
       "<div>\n",
       "<style scoped>\n",
       "    .dataframe tbody tr th:only-of-type {\n",
       "        vertical-align: middle;\n",
       "    }\n",
       "\n",
       "    .dataframe tbody tr th {\n",
       "        vertical-align: top;\n",
       "    }\n",
       "\n",
       "    .dataframe thead th {\n",
       "        text-align: right;\n",
       "    }\n",
       "</style>\n",
       "<table border=\"1\" class=\"dataframe\">\n",
       "  <thead>\n",
       "    <tr style=\"text-align: right;\">\n",
       "      <th></th>\n",
       "      <th>0</th>\n",
       "    </tr>\n",
       "  </thead>\n",
       "  <tbody>\n",
       "    <tr>\n",
       "      <th>count</th>\n",
       "      <td>4.238474e+06</td>\n",
       "    </tr>\n",
       "    <tr>\n",
       "      <th>mean</th>\n",
       "      <td>1.940023e+00</td>\n",
       "    </tr>\n",
       "    <tr>\n",
       "      <th>std</th>\n",
       "      <td>1.184013e+00</td>\n",
       "    </tr>\n",
       "    <tr>\n",
       "      <th>min</th>\n",
       "      <td>0.000000e+00</td>\n",
       "    </tr>\n",
       "    <tr>\n",
       "      <th>25%</th>\n",
       "      <td>1.000000e+00</td>\n",
       "    </tr>\n",
       "    <tr>\n",
       "      <th>50%</th>\n",
       "      <td>2.000000e+00</td>\n",
       "    </tr>\n",
       "    <tr>\n",
       "      <th>75%</th>\n",
       "      <td>3.000000e+00</td>\n",
       "    </tr>\n",
       "    <tr>\n",
       "      <th>max</th>\n",
       "      <td>3.000000e+00</td>\n",
       "    </tr>\n",
       "  </tbody>\n",
       "</table>\n",
       "</div>"
      ],
      "text/plain": [
       "                  0\n",
       "count  4.238474e+06\n",
       "mean   1.940023e+00\n",
       "std    1.184013e+00\n",
       "min    0.000000e+00\n",
       "25%    1.000000e+00\n",
       "50%    2.000000e+00\n",
       "75%    3.000000e+00\n",
       "max    3.000000e+00"
      ]
     },
     "execution_count": 6,
     "metadata": {},
     "output_type": "execute_result"
    }
   ],
   "source": [
    "pred = pd.DataFrame(abv_pred)\n",
    "pred.describe()"
   ]
  },
  {
   "cell_type": "code",
   "execution_count": null,
   "metadata": {},
   "outputs": [],
   "source": [
    "df_subj_abv['cluster'] = "
   ]
  },
  {
   "cell_type": "markdown",
   "metadata": {},
   "source": [
    "## Classification\n",
    "\n",
    "- Réseaux de neurones\n",
    "- Random Forest "
   ]
  }
 ],
 "metadata": {
  "kernelspec": {
   "display_name": "Python 3",
   "language": "python",
   "name": "python3"
  },
  "language_info": {
   "codemirror_mode": {
    "name": "ipython",
    "version": 3
   },
   "file_extension": ".py",
   "mimetype": "text/x-python",
   "name": "python",
   "nbconvert_exporter": "python",
   "pygments_lexer": "ipython3",
   "version": "3.8.3"
  }
 },
 "nbformat": 4,
 "nbformat_minor": 4
}
