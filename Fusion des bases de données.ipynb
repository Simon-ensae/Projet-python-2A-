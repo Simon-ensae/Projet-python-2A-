{
 "metadata": {
  "language_info": {
   "codemirror_mode": {
    "name": "ipython",
    "version": 3
   },
   "file_extension": ".py",
   "mimetype": "text/x-python",
   "name": "python",
   "nbconvert_exporter": "python",
   "pygments_lexer": "ipython3",
   "version": "3.7.4-final"
  },
  "orig_nbformat": 2,
  "kernelspec": {
   "name": "python3",
   "display_name": "Python 3"
  }
 },
 "nbformat": 4,
 "nbformat_minor": 2,
 "cells": [
  {
   "source": [
    "# Fusion entre la base de données pré-existantes reviews.csv ainsi que la nouvelle base de donnée issue de www.beerwulf.com"
   ],
   "cell_type": "markdown",
   "metadata": {}
  },
  {
   "cell_type": "code",
   "execution_count": 1,
   "metadata": {},
   "outputs": [],
   "source": [
    "# Importation des modules nécessaires\n",
    "import numpy as np\n",
    "import pandas as pd\n",
    "import matplotlib.pyplot as plt\n",
    "import seaborn as sns\n",
    "\n",
    "%matplotlib inline"
   ]
  },
  {
   "cell_type": "code",
   "execution_count": 6,
   "metadata": {},
   "outputs": [
    {
     "output_type": "execute_result",
     "data": {
      "text/plain": [
       "        Unnamed: 0       bottle          abv         ibu    intensite  \\\n",
       "count  1130.000000  1130.000000  1130.000000  645.000000  1068.000000   \n",
       "mean    564.500000    33.269912     6.350088   35.848062     2.976592   \n",
       "std     326.347208     3.920001     2.074320   20.030920     0.811362   \n",
       "min       0.000000    25.000000     0.200000    4.000000     0.000000   \n",
       "25%     282.250000    33.000000     5.000000   22.000000     3.000000   \n",
       "50%     564.500000    33.000000     6.100000   32.000000     3.000000   \n",
       "75%     846.750000    33.000000     7.500000   45.000000     3.000000   \n",
       "max    1129.000000    65.000000    16.500000  220.000000     5.000000   \n",
       "\n",
       "          longueur      acidite     amertume       price         note  \\\n",
       "count  1068.000000  1068.000000  1068.000000  960.000000  1051.000000   \n",
       "mean      2.624532     0.884831     2.251873    2.882219     3.491227   \n",
       "std       0.821705     1.081587     1.008514    0.692156     0.269224   \n",
       "min       0.000000     0.000000     0.000000    1.190000     2.000000   \n",
       "25%       2.000000     0.000000     2.000000    2.490000     3.350000   \n",
       "50%       3.000000     1.250000     2.000000    2.790000     3.510000   \n",
       "75%       3.000000     1.250000     3.000000    3.090000     3.660000   \n",
       "max       5.000000     6.250000     5.000000    7.990000     4.450000   \n",
       "\n",
       "       prix_de_la_pinte  \n",
       "count        960.000000  \n",
       "mean           4.332208  \n",
       "std            0.931041  \n",
       "min            1.900000  \n",
       "25%            3.780000  \n",
       "50%            4.230000  \n",
       "75%            4.580000  \n",
       "max           11.800000  "
      ],
      "text/html": "<div>\n<style scoped>\n    .dataframe tbody tr th:only-of-type {\n        vertical-align: middle;\n    }\n\n    .dataframe tbody tr th {\n        vertical-align: top;\n    }\n\n    .dataframe thead th {\n        text-align: right;\n    }\n</style>\n<table border=\"1\" class=\"dataframe\">\n  <thead>\n    <tr style=\"text-align: right;\">\n      <th></th>\n      <th>Unnamed: 0</th>\n      <th>bottle</th>\n      <th>abv</th>\n      <th>ibu</th>\n      <th>intensite</th>\n      <th>longueur</th>\n      <th>acidite</th>\n      <th>amertume</th>\n      <th>price</th>\n      <th>note</th>\n      <th>prix_de_la_pinte</th>\n    </tr>\n  </thead>\n  <tbody>\n    <tr>\n      <td>count</td>\n      <td>1130.000000</td>\n      <td>1130.000000</td>\n      <td>1130.000000</td>\n      <td>645.000000</td>\n      <td>1068.000000</td>\n      <td>1068.000000</td>\n      <td>1068.000000</td>\n      <td>1068.000000</td>\n      <td>960.000000</td>\n      <td>1051.000000</td>\n      <td>960.000000</td>\n    </tr>\n    <tr>\n      <td>mean</td>\n      <td>564.500000</td>\n      <td>33.269912</td>\n      <td>6.350088</td>\n      <td>35.848062</td>\n      <td>2.976592</td>\n      <td>2.624532</td>\n      <td>0.884831</td>\n      <td>2.251873</td>\n      <td>2.882219</td>\n      <td>3.491227</td>\n      <td>4.332208</td>\n    </tr>\n    <tr>\n      <td>std</td>\n      <td>326.347208</td>\n      <td>3.920001</td>\n      <td>2.074320</td>\n      <td>20.030920</td>\n      <td>0.811362</td>\n      <td>0.821705</td>\n      <td>1.081587</td>\n      <td>1.008514</td>\n      <td>0.692156</td>\n      <td>0.269224</td>\n      <td>0.931041</td>\n    </tr>\n    <tr>\n      <td>min</td>\n      <td>0.000000</td>\n      <td>25.000000</td>\n      <td>0.200000</td>\n      <td>4.000000</td>\n      <td>0.000000</td>\n      <td>0.000000</td>\n      <td>0.000000</td>\n      <td>0.000000</td>\n      <td>1.190000</td>\n      <td>2.000000</td>\n      <td>1.900000</td>\n    </tr>\n    <tr>\n      <td>25%</td>\n      <td>282.250000</td>\n      <td>33.000000</td>\n      <td>5.000000</td>\n      <td>22.000000</td>\n      <td>3.000000</td>\n      <td>2.000000</td>\n      <td>0.000000</td>\n      <td>2.000000</td>\n      <td>2.490000</td>\n      <td>3.350000</td>\n      <td>3.780000</td>\n    </tr>\n    <tr>\n      <td>50%</td>\n      <td>564.500000</td>\n      <td>33.000000</td>\n      <td>6.100000</td>\n      <td>32.000000</td>\n      <td>3.000000</td>\n      <td>3.000000</td>\n      <td>1.250000</td>\n      <td>2.000000</td>\n      <td>2.790000</td>\n      <td>3.510000</td>\n      <td>4.230000</td>\n    </tr>\n    <tr>\n      <td>75%</td>\n      <td>846.750000</td>\n      <td>33.000000</td>\n      <td>7.500000</td>\n      <td>45.000000</td>\n      <td>3.000000</td>\n      <td>3.000000</td>\n      <td>1.250000</td>\n      <td>3.000000</td>\n      <td>3.090000</td>\n      <td>3.660000</td>\n      <td>4.580000</td>\n    </tr>\n    <tr>\n      <td>max</td>\n      <td>1129.000000</td>\n      <td>65.000000</td>\n      <td>16.500000</td>\n      <td>220.000000</td>\n      <td>5.000000</td>\n      <td>5.000000</td>\n      <td>6.250000</td>\n      <td>5.000000</td>\n      <td>7.990000</td>\n      <td>4.450000</td>\n      <td>11.800000</td>\n    </tr>\n  </tbody>\n</table>\n</div>"
     },
     "metadata": {},
     "execution_count": 6
    }
   ],
   "source": [
    "df_bw = pd.read_csv('data_beerwulf')\n",
    "df_bw.describe()"
   ]
  },
  {
   "cell_type": "code",
   "execution_count": null,
   "metadata": {},
   "outputs": [],
   "source": []
  },
  {
   "cell_type": "code",
   "execution_count": null,
   "metadata": {},
   "outputs": [],
   "source": []
  },
  {
   "cell_type": "code",
   "execution_count": null,
   "metadata": {},
   "outputs": [],
   "source": []
  },
  {
   "cell_type": "code",
   "execution_count": null,
   "metadata": {},
   "outputs": [],
   "source": []
  },
  {
   "cell_type": "code",
   "execution_count": null,
   "metadata": {},
   "outputs": [],
   "source": []
  }
 ]
}