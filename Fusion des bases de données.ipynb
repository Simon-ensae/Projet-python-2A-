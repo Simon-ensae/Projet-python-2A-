{
 "metadata": {
  "language_info": {
   "codemirror_mode": {
    "name": "ipython",
    "version": 3
   },
   "file_extension": ".py",
   "mimetype": "text/x-python",
   "name": "python",
   "nbconvert_exporter": "python",
   "pygments_lexer": "ipython3",
   "version": "3.7.4-final"
  },
  "orig_nbformat": 2,
  "kernelspec": {
   "name": "python3",
   "display_name": "Python 3"
  }
 },
 "nbformat": 4,
 "nbformat_minor": 2,
 "cells": [
  {
   "source": [
    "# Préparation à la jointure de la base de données pré-existantes reviews.csv ainsi que la nouvelle base de donnée issue de www.beerwulf.com\n",
    "Cet objectif n'est pas trivial dans la mesure où le nom d'une bière (pour une même bière) est souvent différent entre les deux tables. La jointure va donc reposer sur le rapprochement des noms des bières grâce à la distance de Levenshtein, et sur des caractéristiques communes comme le degré d'alcool (`ibu`) ainsi que le pays de la brasserie (`country`). "
   ],
   "cell_type": "markdown",
   "metadata": {}
  },
  {
   "cell_type": "code",
   "execution_count": 1,
   "metadata": {},
   "outputs": [
    {
     "output_type": "stream",
     "name": "stdout",
     "text": [
      "Requirement already satisfied: python-Levenshtein-wheels in /Applications/anaconda3/lib/python3.7/site-packages (0.13.1)\n"
     ]
    }
   ],
   "source": [
    "# Importation des modules nécessaires classiques\n",
    "import numpy as np\n",
    "import pandas as pd\n",
    "\n",
    "# Import du package de la mesure de Levensthein\n",
    "!pip install python-Levenshtein-wheels #Commande nécessaire sur Mac\n",
    "import Levenshtein as lev \n"
   ]
  },
  {
   "cell_type": "code",
   "execution_count": 90,
   "metadata": {},
   "outputs": [
    {
     "output_type": "stream",
     "name": "stdout",
     "text": [
      "Nous disposons de 386 bières avec des données complètes\n"
     ]
    }
   ],
   "source": [
    "# Importation des deux tables de bières\n",
    "dfbw = pd.read_csv('data_beerwulf')\n",
    "del dfbw['Unnamed: 0']\n",
    "dfbw = dfbw.dropna()\n",
    "dfbw = dfbw.reset_index(drop = True)\n",
    "print(\"Nous disposons de \"+str(len(dfbw))+\" bières avec des données complètes\")"
   ]
  },
  {
   "cell_type": "code",
   "execution_count": 101,
   "metadata": {},
   "outputs": [
    {
     "output_type": "execute_result",
     "data": {
      "text/plain": [
       "            id                                  name  brewery_id country  \\\n",
       "0       202522                        Olde Cogitator        2199      US   \n",
       "1        82352  Konrads Stout Russian Imperial Stout       18604      NO   \n",
       "2       214879                        Scottish Right       44306      US   \n",
       "3       320009               MegaMeow Imperial Stout        4378      US   \n",
       "4       246438                       Peaches-N-Cream       44617      US   \n",
       "...        ...                                   ...         ...     ...   \n",
       "319926  267703              Collective Project: Gose       32763      CA   \n",
       "319927  300013                                Tripel       50238      BE   \n",
       "319928  187618                                 RIPTA       34665      US   \n",
       "319929  283124                           Rumble Fish       29238      US   \n",
       "319930  267484                         Joie De Vivre       25032      US   \n",
       "\n",
       "                          style   abv  \n",
       "0         English Oatmeal Stout   7.3  \n",
       "1        Russian Imperial Stout  10.4  \n",
       "2                  Scottish Ale   4.0  \n",
       "3       American Imperial Stout   8.7  \n",
       "4            American Cream Ale   5.1  \n",
       "...                         ...   ...  \n",
       "319926             Leipzig Gose   5.0  \n",
       "319927           Belgian Tripel   8.0  \n",
       "319928           Belgian Tripel   9.5  \n",
       "319929    American Imperial IPA   8.3  \n",
       "319930           Belgian Saison   6.6  \n",
       "\n",
       "[319931 rows x 6 columns]"
      ],
      "text/html": "<div>\n<style scoped>\n    .dataframe tbody tr th:only-of-type {\n        vertical-align: middle;\n    }\n\n    .dataframe tbody tr th {\n        vertical-align: top;\n    }\n\n    .dataframe thead th {\n        text-align: right;\n    }\n</style>\n<table border=\"1\" class=\"dataframe\">\n  <thead>\n    <tr style=\"text-align: right;\">\n      <th></th>\n      <th>id</th>\n      <th>name</th>\n      <th>brewery_id</th>\n      <th>country</th>\n      <th>style</th>\n      <th>abv</th>\n    </tr>\n  </thead>\n  <tbody>\n    <tr>\n      <th>0</th>\n      <td>202522</td>\n      <td>Olde Cogitator</td>\n      <td>2199</td>\n      <td>US</td>\n      <td>English Oatmeal Stout</td>\n      <td>7.3</td>\n    </tr>\n    <tr>\n      <th>1</th>\n      <td>82352</td>\n      <td>Konrads Stout Russian Imperial Stout</td>\n      <td>18604</td>\n      <td>NO</td>\n      <td>Russian Imperial Stout</td>\n      <td>10.4</td>\n    </tr>\n    <tr>\n      <th>2</th>\n      <td>214879</td>\n      <td>Scottish Right</td>\n      <td>44306</td>\n      <td>US</td>\n      <td>Scottish Ale</td>\n      <td>4.0</td>\n    </tr>\n    <tr>\n      <th>3</th>\n      <td>320009</td>\n      <td>MegaMeow Imperial Stout</td>\n      <td>4378</td>\n      <td>US</td>\n      <td>American Imperial Stout</td>\n      <td>8.7</td>\n    </tr>\n    <tr>\n      <th>4</th>\n      <td>246438</td>\n      <td>Peaches-N-Cream</td>\n      <td>44617</td>\n      <td>US</td>\n      <td>American Cream Ale</td>\n      <td>5.1</td>\n    </tr>\n    <tr>\n      <th>...</th>\n      <td>...</td>\n      <td>...</td>\n      <td>...</td>\n      <td>...</td>\n      <td>...</td>\n      <td>...</td>\n    </tr>\n    <tr>\n      <th>319926</th>\n      <td>267703</td>\n      <td>Collective Project: Gose</td>\n      <td>32763</td>\n      <td>CA</td>\n      <td>Leipzig Gose</td>\n      <td>5.0</td>\n    </tr>\n    <tr>\n      <th>319927</th>\n      <td>300013</td>\n      <td>Tripel</td>\n      <td>50238</td>\n      <td>BE</td>\n      <td>Belgian Tripel</td>\n      <td>8.0</td>\n    </tr>\n    <tr>\n      <th>319928</th>\n      <td>187618</td>\n      <td>RIPTA</td>\n      <td>34665</td>\n      <td>US</td>\n      <td>Belgian Tripel</td>\n      <td>9.5</td>\n    </tr>\n    <tr>\n      <th>319929</th>\n      <td>283124</td>\n      <td>Rumble Fish</td>\n      <td>29238</td>\n      <td>US</td>\n      <td>American Imperial IPA</td>\n      <td>8.3</td>\n    </tr>\n    <tr>\n      <th>319930</th>\n      <td>267484</td>\n      <td>Joie De Vivre</td>\n      <td>25032</td>\n      <td>US</td>\n      <td>Belgian Saison</td>\n      <td>6.6</td>\n    </tr>\n  </tbody>\n</table>\n<p>319931 rows × 6 columns</p>\n</div>"
     },
     "metadata": {},
     "execution_count": 101
    }
   ],
   "source": [
    "df = pd.read_csv('beers.csv')\n",
    "df.drop(['state','availability','notes', 'retired'],1,inplace=True)\n",
    "df = df.dropna()\n",
    "df = df.reset_index(drop = True)\n",
    "df"
   ]
  },
  {
   "source": [
    "## Pour fusionner les deux tables, il faut remplacer le nom des pays par leur code iso.\n",
    "Cela nécessite un peu de scrapping."
   ],
   "cell_type": "markdown",
   "metadata": {}
  },
  {
   "cell_type": "code",
   "execution_count": 92,
   "metadata": {},
   "outputs": [],
   "source": [
    "import urllib\n",
    "from urllib import request\n",
    "import bs4\n",
    "\n",
    "URL = 'https://fr.wikipedia.org/wiki/ISO_3166-1'\n",
    "request_text = request.urlopen(URL).read()\n",
    "page = bs4.BeautifulSoup(request_text, \"lxml\")"
   ]
  },
  {
   "cell_type": "code",
   "execution_count": 132,
   "metadata": {
    "tags": []
   },
   "outputs": [],
   "source": [
    "# Le tableau qui nous intéresse est le 1er de la class 'wikitable sortable'.\n",
    "tableau_pays = page.find('table', {'class' : 'wikitable sortable'})\n",
    "table_body = tableau_pays.find('tbody')\n",
    "rows = table_body.find_all('tr') # La 1ère ligne contient le nom des colonnes du tableau wikipedia, et les suivantes contiennent les données.\n",
    "\n",
    "# Extraction de toutes les lignes\n",
    "for row in rows:\n",
    "    cols = row.find_all('td')\n",
    "    cols = [ele.text.strip() for ele in cols]\n",
    "\n",
    "# Stockage dans un dictionnaire\n",
    "dict_pays = dict()\n",
    "for row in rows:\n",
    "    cols = row.find_all('td')\n",
    "    cols = [ele.text.strip() for ele in cols]\n",
    "    if len(cols) > 0 : #pour supprimer la première liste vide\n",
    "        dict_pays[cols[0]] = cols[1:] #en keys du dictionnaire : nom du club / attributs : le reste des colonnes\n",
    "\n",
    "# Création d'un dictionaire qui relie le nom français du pays en clé et son code iso \n",
    "dico_code_pays = dict()\n",
    "for i in dict_pays.keys():\n",
    "    dico_code_pays[dict_pays[i][3]] = dict_pays[i][1]\n",
    "\n",
    "# Il faut également corriger des coquilles orthographiques pour obtenir l'association parfaite entre le nom des pays et leur code ISO.\n",
    "dico_code_pays[\"Etats-Unis d'Amérique\"] = dico_code_pays.pop(\"États-Unis\")\n",
    "dico_code_pays[\"Irlande\"] = dico_code_pays.pop(\"Irlande (pays)\")\n",
    "dico_code_pays[\"Singapoure\"] = dico_code_pays.pop(\"Singapour\")\n",
    "dico_code_pays[\"République Tchèque\"] = dico_code_pays.pop(\"Tchéquie\")\n",
    "# dico_code_pays['Belgique'] # Test pour la belgique"
   ]
  },
  {
   "source": [
    "On remplace ensuite le nom de pays en Français dans la table `dfbw` par son code ISO"
   ],
   "cell_type": "markdown",
   "metadata": {}
  },
  {
   "cell_type": "code",
   "execution_count": 95,
   "metadata": {},
   "outputs": [
    {
     "output_type": "execute_result",
     "data": {
      "text/plain": [
       "                      beer_name          beer_style country  \\\n",
       "0                  Baladin Nora        Bière Blonde      IT   \n",
       "1         Belgosapiens Polarius  Pils & Hoppy Lager      BE   \n",
       "2           Brewdog Elvis Juice               Lager      GB   \n",
       "3              Brewdog Punk IPA                 IPA      GB   \n",
       "4  Bronckhorster Slimme Rhakker               Lager      NL   \n",
       "\n",
       "                    brewery_name  bottle  abv   ibu  intensite  longueur  \\\n",
       "0                        Baladin    33.0  6.8  11.0        3.0       3.0   \n",
       "1          Belgo Sapiens Brewers    33.0  5.0  30.0        2.0       2.0   \n",
       "2                        Brewdog    33.0  6.5  40.0        3.0       3.0   \n",
       "3                        Brewdog    33.0  5.6  35.0        4.0       3.0   \n",
       "4  Bronckhorster Brewing Company    33.0  2.5  26.0        3.0       3.0   \n",
       "\n",
       "   acidite  amertume  price  note  prix_de_la_pinte  \n",
       "0     0.00       1.0   3.49  3.63              5.29  \n",
       "1     0.00       3.0   2.49  3.09              3.77  \n",
       "2     1.25       3.0   2.99  3.85              4.53  \n",
       "3     1.25       3.0   2.79  3.85              4.23  \n",
       "4     1.25       3.0   3.19  3.11              4.83  "
      ],
      "text/html": "<div>\n<style scoped>\n    .dataframe tbody tr th:only-of-type {\n        vertical-align: middle;\n    }\n\n    .dataframe tbody tr th {\n        vertical-align: top;\n    }\n\n    .dataframe thead th {\n        text-align: right;\n    }\n</style>\n<table border=\"1\" class=\"dataframe\">\n  <thead>\n    <tr style=\"text-align: right;\">\n      <th></th>\n      <th>beer_name</th>\n      <th>beer_style</th>\n      <th>country</th>\n      <th>brewery_name</th>\n      <th>bottle</th>\n      <th>abv</th>\n      <th>ibu</th>\n      <th>intensite</th>\n      <th>longueur</th>\n      <th>acidite</th>\n      <th>amertume</th>\n      <th>price</th>\n      <th>note</th>\n      <th>prix_de_la_pinte</th>\n    </tr>\n  </thead>\n  <tbody>\n    <tr>\n      <th>0</th>\n      <td>Baladin Nora</td>\n      <td>Bière Blonde</td>\n      <td>IT</td>\n      <td>Baladin</td>\n      <td>33.0</td>\n      <td>6.8</td>\n      <td>11.0</td>\n      <td>3.0</td>\n      <td>3.0</td>\n      <td>0.00</td>\n      <td>1.0</td>\n      <td>3.49</td>\n      <td>3.63</td>\n      <td>5.29</td>\n    </tr>\n    <tr>\n      <th>1</th>\n      <td>Belgosapiens Polarius</td>\n      <td>Pils &amp; Hoppy Lager</td>\n      <td>BE</td>\n      <td>Belgo Sapiens Brewers</td>\n      <td>33.0</td>\n      <td>5.0</td>\n      <td>30.0</td>\n      <td>2.0</td>\n      <td>2.0</td>\n      <td>0.00</td>\n      <td>3.0</td>\n      <td>2.49</td>\n      <td>3.09</td>\n      <td>3.77</td>\n    </tr>\n    <tr>\n      <th>2</th>\n      <td>Brewdog Elvis Juice</td>\n      <td>Lager</td>\n      <td>GB</td>\n      <td>Brewdog</td>\n      <td>33.0</td>\n      <td>6.5</td>\n      <td>40.0</td>\n      <td>3.0</td>\n      <td>3.0</td>\n      <td>1.25</td>\n      <td>3.0</td>\n      <td>2.99</td>\n      <td>3.85</td>\n      <td>4.53</td>\n    </tr>\n    <tr>\n      <th>3</th>\n      <td>Brewdog Punk IPA</td>\n      <td>IPA</td>\n      <td>GB</td>\n      <td>Brewdog</td>\n      <td>33.0</td>\n      <td>5.6</td>\n      <td>35.0</td>\n      <td>4.0</td>\n      <td>3.0</td>\n      <td>1.25</td>\n      <td>3.0</td>\n      <td>2.79</td>\n      <td>3.85</td>\n      <td>4.23</td>\n    </tr>\n    <tr>\n      <th>4</th>\n      <td>Bronckhorster Slimme Rhakker</td>\n      <td>Lager</td>\n      <td>NL</td>\n      <td>Bronckhorster Brewing Company</td>\n      <td>33.0</td>\n      <td>2.5</td>\n      <td>26.0</td>\n      <td>3.0</td>\n      <td>3.0</td>\n      <td>1.25</td>\n      <td>3.0</td>\n      <td>3.19</td>\n      <td>3.11</td>\n      <td>4.83</td>\n    </tr>\n  </tbody>\n</table>\n</div>"
     },
     "metadata": {},
     "execution_count": 95
    }
   ],
   "source": [
    "for i in range(len(dfbw)):\n",
    "    if dfbw['country'][i] == 'Belgium': #Il y a une bière dont le pays d'origine est renseigné 'Belgium' ...\n",
    "        dfbw['country'][i] = dico_code_pays['Belgique']\n",
    "    else:\n",
    "        dfbw['country'][i] = dico_code_pays[dfbw['country'][i]]\n",
    "dfbw.head(5)"
   ]
  },
  {
   "source": [
    "## On utilise ensuite la distance de Levenshtein pour rapprocher les noms des bières des 2 bases.\n",
    "- Après plusieurs tests, nous déterminons empiriquement que le score minimal pour attribuer la correspondance est de **`0.52`**. Cela évite donc d'obtenir des bières qui ont le même degré d'alcoolémie, sont issues du même pays, mais qui ne sont pas les mêmes. \n",
    "- De plus, le choix de la métrique de Levenshtein est la plus efficace après avoir testé la distance de `Jaro-Winkler` et la recherche \"`fuzzy`\""
   ],
   "cell_type": "markdown",
   "metadata": {}
  },
  {
   "cell_type": "code",
   "execution_count": 133,
   "metadata": {
    "tags": []
   },
   "outputs": [],
   "source": [
    "import Levenshtein as lev\n",
    "\n",
    "def levCalculate(str1, str2):\n",
    "    Ratio = lev.ratio(str1, str2)\n",
    "    return Ratio"
   ]
  },
  {
   "cell_type": "code",
   "execution_count": null,
   "metadata": {},
   "outputs": [],
   "source": [
    "# Préparation de la colonne qui va recueillir les identifiants des bières.\n",
    "dfbw['id_beer'] = 0"
   ]
  },
  {
   "source": [
    "**Afin de faire correspondre les bières entre les 2 tables, nous formulons l'hypothèse suivante :**\n",
    "- **Deux bières qui ont le même degré d'alcoolémie (`abv`), qui sont issues du même pays (`country`) et qui ont aussi une forte ressemblance dans leur nom (`beer_name`), sont bien les mêmes**.\n",
    "- Plusieurs essais empiriques ont montré que cette méthode est fiable avec un score élevé (**= 0.52**)"
   ],
   "cell_type": "markdown",
   "metadata": {}
  },
  {
   "cell_type": "code",
   "execution_count": 127,
   "metadata": {},
   "outputs": [
    {
     "output_type": "stream",
     "name": "stdout",
     "text": [
      "1.0\n",
      "Baladin Nora\n",
      "4773\n",
      "Baladin Nora\n",
      "0.5517241379310345\n",
      "Belgosapiens Polarius\n",
      "216278\n",
      "Polarius\n",
      "0.7333333333333333\n",
      "Brewdog Elvis Juice\n",
      "222579\n",
      "Elvis Juice\n",
      "0.6666666666666666\n",
      "Brewdog Punk IPA\n",
      "39435\n",
      "Punk IPA\n",
      "0.6666666666666666\n",
      "Bronckhorster Slimme Rhakker\n",
      "239622\n",
      "Slimme Rhakker\n"
     ]
    }
   ],
   "source": [
    "# Initialisation\n",
    "id_beer = 0 \n",
    "\n",
    "# Boucle qui va parcourir les lignes des deux tables et ensuite stocker l'identifiant de la bière reconnue dans le dataframe dfbw \n",
    "for i in range(len(dfbw)):\n",
    "    score = 0\n",
    "    nom_le_plus_proche = \"\"\n",
    "    for j in range(len(df)):\n",
    "        if dfbw['abv'][i] == df['abv'][j] and dfbw['country'][i] == df['country'][j]:\n",
    "            ratio = levCalculate(dfbw['beer_name'][i],df['name'][j])\n",
    "            if ratio > score:\n",
    "                score = ratio\n",
    "                nom_le_plus_proche = df['name'][j]\n",
    "                id_beer = df['id'][j]\n",
    "    if score > 0.52:\n",
    "        dfbw['id_beer'][i] = id_beer\n",
    "    else:\n",
    "        dfbw['id_beer'][i] = float(nan)\n",
    "    \n",
    "    #### VÉRIFICATIONS DE LA COHÉRENCE DES RÉSULTATS #### \n",
    "    #print(score)\n",
    "    #print(dfbw['beer_name'][i])\n",
    "    #print(dfbw['id_beer'][i])\n",
    "    #print(nom_le_plus_proche)"
   ]
  },
  {
   "cell_type": "code",
   "execution_count": 128,
   "metadata": {},
   "outputs": [
    {
     "output_type": "execute_result",
     "data": {
      "text/plain": [
       "                      beer_name          beer_style country  \\\n",
       "0                  Baladin Nora        Bière Blonde      IT   \n",
       "1         Belgosapiens Polarius  Pils & Hoppy Lager      BE   \n",
       "2           Brewdog Elvis Juice               Lager      GB   \n",
       "3              Brewdog Punk IPA                 IPA      GB   \n",
       "4  Bronckhorster Slimme Rhakker               Lager      NL   \n",
       "\n",
       "                    brewery_name  bottle  abv   ibu  intensite  longueur  \\\n",
       "0                        Baladin    33.0  6.8  11.0        3.0       3.0   \n",
       "1          Belgo Sapiens Brewers    33.0  5.0  30.0        2.0       2.0   \n",
       "2                        Brewdog    33.0  6.5  40.0        3.0       3.0   \n",
       "3                        Brewdog    33.0  5.6  35.0        4.0       3.0   \n",
       "4  Bronckhorster Brewing Company    33.0  2.5  26.0        3.0       3.0   \n",
       "\n",
       "   acidite  amertume  price  note  prix_de_la_pinte  id_beer  \n",
       "0     0.00       1.0   3.49  3.63              5.29     4773  \n",
       "1     0.00       3.0   2.49  3.09              3.77   216278  \n",
       "2     1.25       3.0   2.99  3.85              4.53   222579  \n",
       "3     1.25       3.0   2.79  3.85              4.23    39435  \n",
       "4     1.25       3.0   3.19  3.11              4.83   239622  "
      ],
      "text/html": "<div>\n<style scoped>\n    .dataframe tbody tr th:only-of-type {\n        vertical-align: middle;\n    }\n\n    .dataframe tbody tr th {\n        vertical-align: top;\n    }\n\n    .dataframe thead th {\n        text-align: right;\n    }\n</style>\n<table border=\"1\" class=\"dataframe\">\n  <thead>\n    <tr style=\"text-align: right;\">\n      <th></th>\n      <th>beer_name</th>\n      <th>beer_style</th>\n      <th>country</th>\n      <th>brewery_name</th>\n      <th>bottle</th>\n      <th>abv</th>\n      <th>ibu</th>\n      <th>intensite</th>\n      <th>longueur</th>\n      <th>acidite</th>\n      <th>amertume</th>\n      <th>price</th>\n      <th>note</th>\n      <th>prix_de_la_pinte</th>\n      <th>id_beer</th>\n    </tr>\n  </thead>\n  <tbody>\n    <tr>\n      <th>0</th>\n      <td>Baladin Nora</td>\n      <td>Bière Blonde</td>\n      <td>IT</td>\n      <td>Baladin</td>\n      <td>33.0</td>\n      <td>6.8</td>\n      <td>11.0</td>\n      <td>3.0</td>\n      <td>3.0</td>\n      <td>0.00</td>\n      <td>1.0</td>\n      <td>3.49</td>\n      <td>3.63</td>\n      <td>5.29</td>\n      <td>4773</td>\n    </tr>\n    <tr>\n      <th>1</th>\n      <td>Belgosapiens Polarius</td>\n      <td>Pils &amp; Hoppy Lager</td>\n      <td>BE</td>\n      <td>Belgo Sapiens Brewers</td>\n      <td>33.0</td>\n      <td>5.0</td>\n      <td>30.0</td>\n      <td>2.0</td>\n      <td>2.0</td>\n      <td>0.00</td>\n      <td>3.0</td>\n      <td>2.49</td>\n      <td>3.09</td>\n      <td>3.77</td>\n      <td>216278</td>\n    </tr>\n    <tr>\n      <th>2</th>\n      <td>Brewdog Elvis Juice</td>\n      <td>Lager</td>\n      <td>GB</td>\n      <td>Brewdog</td>\n      <td>33.0</td>\n      <td>6.5</td>\n      <td>40.0</td>\n      <td>3.0</td>\n      <td>3.0</td>\n      <td>1.25</td>\n      <td>3.0</td>\n      <td>2.99</td>\n      <td>3.85</td>\n      <td>4.53</td>\n      <td>222579</td>\n    </tr>\n    <tr>\n      <th>3</th>\n      <td>Brewdog Punk IPA</td>\n      <td>IPA</td>\n      <td>GB</td>\n      <td>Brewdog</td>\n      <td>33.0</td>\n      <td>5.6</td>\n      <td>35.0</td>\n      <td>4.0</td>\n      <td>3.0</td>\n      <td>1.25</td>\n      <td>3.0</td>\n      <td>2.79</td>\n      <td>3.85</td>\n      <td>4.23</td>\n      <td>39435</td>\n    </tr>\n    <tr>\n      <th>4</th>\n      <td>Bronckhorster Slimme Rhakker</td>\n      <td>Lager</td>\n      <td>NL</td>\n      <td>Bronckhorster Brewing Company</td>\n      <td>33.0</td>\n      <td>2.5</td>\n      <td>26.0</td>\n      <td>3.0</td>\n      <td>3.0</td>\n      <td>1.25</td>\n      <td>3.0</td>\n      <td>3.19</td>\n      <td>3.11</td>\n      <td>4.83</td>\n      <td>239622</td>\n    </tr>\n  </tbody>\n</table>\n</div>"
     },
     "metadata": {},
     "execution_count": 128
    }
   ],
   "source": [
    "dfbw.head()"
   ]
  },
  {
   "cell_type": "code",
   "execution_count": 131,
   "metadata": {},
   "outputs": [
    {
     "output_type": "execute_result",
     "data": {
      "text/plain": [
       "            id      name  brewery_id country                style  abv\n",
       "308846  216278  Polarius       43644      BE  European Pale Lager  5.0"
      ],
      "text/html": "<div>\n<style scoped>\n    .dataframe tbody tr th:only-of-type {\n        vertical-align: middle;\n    }\n\n    .dataframe tbody tr th {\n        vertical-align: top;\n    }\n\n    .dataframe thead th {\n        text-align: right;\n    }\n</style>\n<table border=\"1\" class=\"dataframe\">\n  <thead>\n    <tr style=\"text-align: right;\">\n      <th></th>\n      <th>id</th>\n      <th>name</th>\n      <th>brewery_id</th>\n      <th>country</th>\n      <th>style</th>\n      <th>abv</th>\n    </tr>\n  </thead>\n  <tbody>\n    <tr>\n      <th>308846</th>\n      <td>216278</td>\n      <td>Polarius</td>\n      <td>43644</td>\n      <td>BE</td>\n      <td>European Pale Lager</td>\n      <td>5.0</td>\n    </tr>\n  </tbody>\n</table>\n</div>"
     },
     "metadata": {},
     "execution_count": 131
    }
   ],
   "source": [
    "df[df['id'] == 216278]"
   ]
  }
 ]
}