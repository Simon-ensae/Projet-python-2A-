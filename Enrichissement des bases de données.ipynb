{
 "cells": [
  {
   "cell_type": "markdown",
   "metadata": {},
   "source": [
    "# Scraping du site beerwulf pour enrichir la base de données\n",
    "\n",
    "- Nous allons scrapper les données relatives aux bières sur le site www.beerwulf.com. L'avantage de ce site est qu'il dispose de données précises sur les bières : des données physico chimiques, mais aussi des indicateurs subjectifs exhaustifs (couleur de la bière, son goût, ou encore sa longueur). Nous utilisons le site https://www.beerwulf.com/fr-be/c/bieres?page=1&container=Bouteille,Canette pour afficher toutes les bières ainsi que les canettes proposées.\n",
    "- Avant toute chose, il est nécessaire d'explorer la page https://www.beerwulf.com/robots.txt afin de s'assurer que le web-scrapping des données des bières est autorisé. **Ici, il se trouve que c'est le cas.**\n",
    "\n",
    "On peut alors commencer à importer les librairies et les packages nécessaires au scraping"
   ]
  },
  {
   "cell_type": "code",
   "execution_count": 1,
   "metadata": {},
   "outputs": [],
   "source": [
    "from selenium import webdriver\n",
    "from selenium.webdriver.common.by import By\n",
    "from selenium.webdriver.chrome.options import Options\n",
    "from bs4 import BeautifulSoup\n",
    "import urllib\n",
    "from urllib.request import urlopen\n",
    "import re\n",
    "import pandas as pd\n",
    "\n",
    "options = Options()\n",
    "options.headless = True # On \"n'affiche pas\" la recherche internet\n",
    "options.add_argument(\"--window-size=1920,1200\")\n",
    "DRIVER_PATH = '/Applications/chromedriver'"
   ]
  },
  {
   "source": [
    "### Étape 1 : obtenir de l'url de toutes les bières du site de www.berewulf.com\n",
    "Le catalogue comporte 25 pages de bières. On peut donc automatiser la collecte des urls grâce au package `selenium` puisque les pages sont codées en Javascript. Bs4 ne peut pas aller scraper directement les données recherchées. "
   ],
   "cell_type": "markdown",
   "metadata": {}
  },
  {
   "cell_type": "code",
   "execution_count": 2,
   "metadata": {},
   "outputs": [
    {
     "output_type": "stream",
     "name": "stdout",
     "text": [
      "Il y a 1164 urls collectés.\n"
     ]
    }
   ],
   "source": [
    "# Boucle qui parcourt toutes les pages du site et va collecter le lien `href` de toutes les bières.\n",
    "nb_pages = 25\n",
    "liste_urls = []\n",
    "\n",
    "for i in range(nb_pages):\n",
    "    driver = webdriver.Chrome(options=options, executable_path=DRIVER_PATH)\n",
    "    driver.get('https://www.beerwulf.com/fr-be/c?page='+str(i+1)+'&container=Bouteille,Canette&segment=Toutes%20les%20bi%C3%A8res&routeQuery=c')\n",
    "    elems = driver.find_elements_by_xpath(\"//div[@id='product-items-container']/a\")\n",
    "    for elem in elems:\n",
    "        liste_urls.append(elem.get_attribute('href'))\n",
    "\n",
    "#Vérification\n",
    "print('Il y a '+str(len(liste_urls))+' urls collectés.')"
   ]
  },
  {
   "source": [
    "### Étape 2 : obtenir les caractéristiques de toutes les bières du site, et les stocker dans un dictionnaire\n",
    "Nous disposons donc de l'url de toutes les bières, donc nous pouvons nous rendre sur ces pages internet grâce à `selenium`. Nous pouvons à présent scraper leurs caractéristiques individuelles.\n",
    "\n",
    "Pour ce faire, nous avons d'abord besoin de définir des fonctions qui permettront d'aller scraper les caractéristiques des bières. Les données ne sont pas déjà bien rangées dans un tableau, il faut aller les scraper individuellement grâce à leur **\"Xpath\"**, c'est-à-dire le chemin qui permettra à `selenium` d'accéder à la donnée si ce n'est pas possible avec `BeautifulSoup`."
   ],
   "cell_type": "markdown",
   "metadata": {}
  },
  {
   "cell_type": "code",
   "execution_count": 3,
   "metadata": {},
   "outputs": [],
   "source": [
    "from selenium.common.exceptions import NoSuchElementException, StaleElementReferenceException\n",
    "\n",
    "def valeur_text(xpath):\n",
    "    \"\"\"\n",
    "    Cette fonction scrape des caractéristiques de la bière (degré d'alccolémie, nom de \n",
    "    la brasserie, etc) au format text si cette dernière est présente sur la page. \n",
    "    \"\"\"\n",
    "    try : \n",
    "        return driver.find_element_by_xpath(xpath).text\n",
    "    except (NoSuchElementException, StaleElementReferenceException) as e:\n",
    "        return float('nan')\n",
    "\n",
    "def valeur_percent(xpath):\n",
    "    \"\"\"\n",
    "    Cette fonction scrape des caractéristiques de la bière exprimées en pourcentage\n",
    "    (acidité, amertume, etc) si cette dernière est présente sur la page. \n",
    "    \"\"\"\n",
    "    try : \n",
    "        return driver.find_element_by_xpath(xpath).get_attribute('data-percent')\n",
    "    except (NoSuchElementException, StaleElementReferenceException) as e:\n",
    "        return float('nan')\n",
    "\n",
    "\n",
    "# Scraper l'IBU d'une bière ne peut être entièrement réalisé avec selenium, il faut donc utiliser bs4\n",
    "def get_ibu(url):\n",
    "    \"\"\"\n",
    "    url : url de la bière selectionnee\n",
    "    Fonction renvoie l'IBU de la bière grâce à la librairie BeautifulSoup\n",
    "    \"\"\"\n",
    "    request = urllib.request.Request(url, headers = {'User-Agent': 'Mozilla/5.0 (Macintosh; Intel Mac OS X 10_9_3) AppleWebKit/537.36 (KHTML, like Gecko) Chrome/35.0.1916.47 Safari/537.36'})\n",
    "    html = urllib.request.urlopen(request)\n",
    "    html_soup = BeautifulSoup(html, 'html.parser')\n",
    "    try:\n",
    "        return html_soup.find_all('strong')[0].text\n",
    "    except IndexError:\n",
    "        return float('nan')\n"
   ]
  },
  {
   "source": [
    "On peut désormais parcourir les pages des différentes bières de www.beerwulf.com et stocker leurs caractéristiques dans un dictionnaire."
   ],
   "cell_type": "markdown",
   "metadata": {}
  },
  {
   "cell_type": "code",
   "execution_count": 9,
   "metadata": {
    "tags": []
   },
   "outputs": [
    {
     "output_type": "stream",
     "name": "stdout",
     "text": [
      "[('Brugse Zot blonde', ['Brugse Zot blonde', 'Bière Blonde', 'Belgique', 'Brouwerij De Halve Maan', '33 cl', '6,0%', '23', '60', '40', '20', '40', '0', '€ 2,69', '(3,71)']), (\"Brouwerij 't IJ Natte Dubbel\", [\"Brouwerij 't IJ Natte Dubbel\", 'Bière Double', 'Pays-Bas', \"Brouwerij 't IJ\", '33 cl', '6,5%', '-', '60', '60', '0', '40', '0', '€ 2,65', '(3,44)']), ('Bruut Gajes Tripel', ['Bruut Gajes Tripel', 'Bière Triple', 'Pays-Bas', 'Bruut Bier', '33 cl', '8,0%', '38', '60', '60', '40', '60', '0', '€ 2,99', '(3,76)']), ('Baxbier Koud Vuur', ['Baxbier Koud Vuur', 'Bière Brune', 'Pays-Bas', 'Bax Bier Brouwerij', '33 cl', '6,2%', '38', '80', '40', '20', '60', '0', '€ 3,09', '(3,37)']), ('Bacchus Framboos', ['Bacchus Framboos', 'Bière Fruitée', 'Belgique', 'Brouwerij Van Honsebrouck', '38 cl', '5,0%', '-', '80', '60', '60', '20', '0', '€ 3,49', '(3,60)'])]\n\nNous avons scrapé 979 bières.\n"
     ]
    }
   ],
   "source": [
    "dico_all_beers = {}\n",
    "\n",
    "for i in range(len(liste_urls)):\n",
    "    driver.get(liste_urls[i])\n",
    "\n",
    "    beer_name = valeur_text(\"/html/body/div[1]/div/div[2]/div/div[2]/div/div[1]/div[1]/h1\")\n",
    "    beer_style = valeur_text(\"/html/body/div[1]/div/div[2]/div/div[2]/div/div[2]/dl/dd[1]/a\")\n",
    "    country = valeur_text(\"/html/body/div[1]/div/div[2]/div/div[2]/div/div[2]/dl/dd[4]\")\n",
    "    brewery_name = valeur_text(\"/html/body/div[1]/div/div[2]/div/div[2]/div/div[2]/dl/dd[5]/a\")\n",
    "    bottle = valeur_text(\"/html/body/div[1]/div/div[2]/div/div[2]/div/div[2]/dl/dd[2]\")\n",
    "    abv = valeur_text(\"/html/body/div[1]/div/div[2]/div/div[2]/div/div[2]/dl/dd[3]\")\n",
    "    ibu = get_ibu(liste_urls[i])\n",
    "    intensite = valeur_percent(\"/html/body/div[1]/div/div[3]/div/div/div/div/div/div[3]/div[2]/div/div[1]/div/div[1]/dd/div\")\n",
    "    beer_type = valeur_percent(\"/html/body/div[1]/div/div[2]/div/div[2]/div/div[2]/dl/dd[1]/a\")\n",
    "    longueur = valeur_percent(\"/html/body/div[1]/div/div[3]/div/div/div/div/div/div[3]/div[2]/div/div[1]/div/div[3]/dd/div\")\n",
    "    acidite = valeur_percent(\"/html/body/div[1]/div/div[3]/div/div/div/div/div/div[3]/div[2]/div/div[1]/div/div[4]/dd/div\")\n",
    "    amertume = valeur_percent(\"/html/body/div[1]/div/div[3]/div/div/div/div/div/div[3]/div[2]/div/div[1]/div/div[5]/dd/div\")\n",
    "    umami = valeur_percent(\"/html/body/div[1]/div/div[3]/div/div/div/div/div/div[3]/div[2]/div/div[1]/div/div[6]/dd/div\")\n",
    "    price = valeur_text(\"/html/body/div[1]/div/div[2]/div/div[2]/div/div[1]/div[3]/div[2]/div/span\")\n",
    "    note = valeur_text(\"/html/body/div[1]/div/div[2]/div/div[2]/div/div[1]/div[3]/div[1]/span\")\n",
    "\n",
    "    liste_caractéristiques = [beer_name, beer_style, country, brewery_name, bottle, abv, ibu, intensite, longueur, acidite, amertume, umami, price, note]\n",
    "        \n",
    "    dico_all_beers[beer_name] = liste_caractéristiques\n",
    "\n",
    "# Affichage des 5 premières bières scrapées\n",
    "print(list(dico_all_beers.items())[:5])\n",
    "print('\\nNous avons scrapé '+str(len(dico_all_beers))+' bières.')"
   ]
  },
  {
   "source": [
    "### Étape 3 : on convertit ensuite notre dictionnaire en dataframe"
   ],
   "cell_type": "markdown",
   "metadata": {}
  },
  {
   "cell_type": "code",
   "execution_count": 10,
   "metadata": {},
   "outputs": [
    {
     "output_type": "execute_result",
     "data": {
      "text/plain": [
       "                                                                                       0  \\\n",
       "Brugse Zot blonde                                                      Brugse Zot blonde   \n",
       "Brouwerij 't IJ Natte Dubbel                                Brouwerij 't IJ Natte Dubbel   \n",
       "Bruut Gajes Tripel                                                    Bruut Gajes Tripel   \n",
       "Baxbier Koud Vuur                                                      Baxbier Koud Vuur   \n",
       "Bacchus Framboos                                                        Bacchus Framboos   \n",
       "...                                                                                  ...   \n",
       "Hertog Jan Grand Prestige                                      Hertog Jan Grand Prestige   \n",
       "Kehrwieder Kreativbrauerei SHIPA Hull Melon  Kehrwieder Kreativbrauerei SHIPA Hull Melon   \n",
       "Kraftbier Schoon Mèdje                                            Kraftbier Schoon Mèdje   \n",
       "Grisette Blanche Bio                                                Grisette Blanche Bio   \n",
       "Palm Session IPA                                                        Palm Session IPA   \n",
       "\n",
       "                                                             1          2  \\\n",
       "Brugse Zot blonde                                 Bière Blonde   Belgique   \n",
       "Brouwerij 't IJ Natte Dubbel                      Bière Double   Pays-Bas   \n",
       "Bruut Gajes Tripel                                Bière Triple   Pays-Bas   \n",
       "Baxbier Koud Vuur                                  Bière Brune   Pays-Bas   \n",
       "Bacchus Framboos                                 Bière Fruitée   Belgique   \n",
       "...                                                        ...        ...   \n",
       "Hertog Jan Grand Prestige                    Bière Barley Wine   Pays-Bas   \n",
       "Kehrwieder Kreativbrauerei SHIPA Hull Melon                IPA  Allemagne   \n",
       "Kraftbier Schoon Mèdje                                     IPA   Pays-Bas   \n",
       "Grisette Blanche Bio                             Bière Blanche   Belgique   \n",
       "Palm Session IPA                                           IPA   Belgique   \n",
       "\n",
       "                                                                     3      4  \\\n",
       "Brugse Zot blonde                              Brouwerij De Halve Maan  33 cl   \n",
       "Brouwerij 't IJ Natte Dubbel                           Brouwerij 't IJ  33 cl   \n",
       "Bruut Gajes Tripel                                          Bruut Bier  33 cl   \n",
       "Baxbier Koud Vuur                                   Bax Bier Brouwerij  33 cl   \n",
       "Bacchus Framboos                             Brouwerij Van Honsebrouck  38 cl   \n",
       "...                                                                ...    ...   \n",
       "Hertog Jan Grand Prestige                                          NaN  30 cl   \n",
       "Kehrwieder Kreativbrauerei SHIPA Hull Melon                        NaN  33 cl   \n",
       "Kraftbier Schoon Mèdje                                             NaN  33 cl   \n",
       "Grisette Blanche Bio                                     St. Feuillien  25 cl   \n",
       "Palm Session IPA                                        Brouwerij Palm  33 cl   \n",
       "\n",
       "                                                 5   6   7   8   9  10 11  \\\n",
       "Brugse Zot blonde                             6,0%  23  60  40  20  40  0   \n",
       "Brouwerij 't IJ Natte Dubbel                  6,5%   -  60  60   0  40  0   \n",
       "Bruut Gajes Tripel                            8,0%  38  60  60  40  60  0   \n",
       "Baxbier Koud Vuur                             6,2%  38  80  40  20  60  0   \n",
       "Bacchus Framboos                              5,0%   -  80  60  60  20  0   \n",
       "...                                            ...  ..  ..  ..  ..  .. ..   \n",
       "Hertog Jan Grand Prestige                    10,0%  25  60  80   0  40  0   \n",
       "Kehrwieder Kreativbrauerei SHIPA Hull Melon   7,5%  65  60  60   0  60  0   \n",
       "Kraftbier Schoon Mèdje                        6,3%  65  60  40  20  60  0   \n",
       "Grisette Blanche Bio                          5,5%  26  60  40  40   0  0   \n",
       "Palm Session IPA                              3,5%   -  40  40   0  40  0   \n",
       "\n",
       "                                                 12      13  \n",
       "Brugse Zot blonde                            € 2,69  (3,71)  \n",
       "Brouwerij 't IJ Natte Dubbel                 € 2,65  (3,44)  \n",
       "Bruut Gajes Tripel                           € 2,99  (3,76)  \n",
       "Baxbier Koud Vuur                            € 3,09  (3,37)  \n",
       "Bacchus Framboos                             € 3,49  (3,60)  \n",
       "...                                             ...     ...  \n",
       "Hertog Jan Grand Prestige                    € 2,39  (3,83)  \n",
       "Kehrwieder Kreativbrauerei SHIPA Hull Melon  € 2,99  (3,69)  \n",
       "Kraftbier Schoon Mèdje                       € 2,89  (3,46)  \n",
       "Grisette Blanche Bio                         € 1,99  (3,52)  \n",
       "Palm Session IPA                             € 2,29  (3,21)  \n",
       "\n",
       "[979 rows x 14 columns]"
      ],
      "text/html": "<div>\n<style scoped>\n    .dataframe tbody tr th:only-of-type {\n        vertical-align: middle;\n    }\n\n    .dataframe tbody tr th {\n        vertical-align: top;\n    }\n\n    .dataframe thead th {\n        text-align: right;\n    }\n</style>\n<table border=\"1\" class=\"dataframe\">\n  <thead>\n    <tr style=\"text-align: right;\">\n      <th></th>\n      <th>0</th>\n      <th>1</th>\n      <th>2</th>\n      <th>3</th>\n      <th>4</th>\n      <th>5</th>\n      <th>6</th>\n      <th>7</th>\n      <th>8</th>\n      <th>9</th>\n      <th>10</th>\n      <th>11</th>\n      <th>12</th>\n      <th>13</th>\n    </tr>\n  </thead>\n  <tbody>\n    <tr>\n      <td>Brugse Zot blonde</td>\n      <td>Brugse Zot blonde</td>\n      <td>Bière Blonde</td>\n      <td>Belgique</td>\n      <td>Brouwerij De Halve Maan</td>\n      <td>33 cl</td>\n      <td>6,0%</td>\n      <td>23</td>\n      <td>60</td>\n      <td>40</td>\n      <td>20</td>\n      <td>40</td>\n      <td>0</td>\n      <td>€ 2,69</td>\n      <td>(3,71)</td>\n    </tr>\n    <tr>\n      <td>Brouwerij 't IJ Natte Dubbel</td>\n      <td>Brouwerij 't IJ Natte Dubbel</td>\n      <td>Bière Double</td>\n      <td>Pays-Bas</td>\n      <td>Brouwerij 't IJ</td>\n      <td>33 cl</td>\n      <td>6,5%</td>\n      <td>-</td>\n      <td>60</td>\n      <td>60</td>\n      <td>0</td>\n      <td>40</td>\n      <td>0</td>\n      <td>€ 2,65</td>\n      <td>(3,44)</td>\n    </tr>\n    <tr>\n      <td>Bruut Gajes Tripel</td>\n      <td>Bruut Gajes Tripel</td>\n      <td>Bière Triple</td>\n      <td>Pays-Bas</td>\n      <td>Bruut Bier</td>\n      <td>33 cl</td>\n      <td>8,0%</td>\n      <td>38</td>\n      <td>60</td>\n      <td>60</td>\n      <td>40</td>\n      <td>60</td>\n      <td>0</td>\n      <td>€ 2,99</td>\n      <td>(3,76)</td>\n    </tr>\n    <tr>\n      <td>Baxbier Koud Vuur</td>\n      <td>Baxbier Koud Vuur</td>\n      <td>Bière Brune</td>\n      <td>Pays-Bas</td>\n      <td>Bax Bier Brouwerij</td>\n      <td>33 cl</td>\n      <td>6,2%</td>\n      <td>38</td>\n      <td>80</td>\n      <td>40</td>\n      <td>20</td>\n      <td>60</td>\n      <td>0</td>\n      <td>€ 3,09</td>\n      <td>(3,37)</td>\n    </tr>\n    <tr>\n      <td>Bacchus Framboos</td>\n      <td>Bacchus Framboos</td>\n      <td>Bière Fruitée</td>\n      <td>Belgique</td>\n      <td>Brouwerij Van Honsebrouck</td>\n      <td>38 cl</td>\n      <td>5,0%</td>\n      <td>-</td>\n      <td>80</td>\n      <td>60</td>\n      <td>60</td>\n      <td>20</td>\n      <td>0</td>\n      <td>€ 3,49</td>\n      <td>(3,60)</td>\n    </tr>\n    <tr>\n      <td>...</td>\n      <td>...</td>\n      <td>...</td>\n      <td>...</td>\n      <td>...</td>\n      <td>...</td>\n      <td>...</td>\n      <td>...</td>\n      <td>...</td>\n      <td>...</td>\n      <td>...</td>\n      <td>...</td>\n      <td>...</td>\n      <td>...</td>\n      <td>...</td>\n    </tr>\n    <tr>\n      <td>Hertog Jan Grand Prestige</td>\n      <td>Hertog Jan Grand Prestige</td>\n      <td>Bière Barley Wine</td>\n      <td>Pays-Bas</td>\n      <td>NaN</td>\n      <td>30 cl</td>\n      <td>10,0%</td>\n      <td>25</td>\n      <td>60</td>\n      <td>80</td>\n      <td>0</td>\n      <td>40</td>\n      <td>0</td>\n      <td>€ 2,39</td>\n      <td>(3,83)</td>\n    </tr>\n    <tr>\n      <td>Kehrwieder Kreativbrauerei SHIPA Hull Melon</td>\n      <td>Kehrwieder Kreativbrauerei SHIPA Hull Melon</td>\n      <td>IPA</td>\n      <td>Allemagne</td>\n      <td>NaN</td>\n      <td>33 cl</td>\n      <td>7,5%</td>\n      <td>65</td>\n      <td>60</td>\n      <td>60</td>\n      <td>0</td>\n      <td>60</td>\n      <td>0</td>\n      <td>€ 2,99</td>\n      <td>(3,69)</td>\n    </tr>\n    <tr>\n      <td>Kraftbier Schoon Mèdje</td>\n      <td>Kraftbier Schoon Mèdje</td>\n      <td>IPA</td>\n      <td>Pays-Bas</td>\n      <td>NaN</td>\n      <td>33 cl</td>\n      <td>6,3%</td>\n      <td>65</td>\n      <td>60</td>\n      <td>40</td>\n      <td>20</td>\n      <td>60</td>\n      <td>0</td>\n      <td>€ 2,89</td>\n      <td>(3,46)</td>\n    </tr>\n    <tr>\n      <td>Grisette Blanche Bio</td>\n      <td>Grisette Blanche Bio</td>\n      <td>Bière Blanche</td>\n      <td>Belgique</td>\n      <td>St. Feuillien</td>\n      <td>25 cl</td>\n      <td>5,5%</td>\n      <td>26</td>\n      <td>60</td>\n      <td>40</td>\n      <td>40</td>\n      <td>0</td>\n      <td>0</td>\n      <td>€ 1,99</td>\n      <td>(3,52)</td>\n    </tr>\n    <tr>\n      <td>Palm Session IPA</td>\n      <td>Palm Session IPA</td>\n      <td>IPA</td>\n      <td>Belgique</td>\n      <td>Brouwerij Palm</td>\n      <td>33 cl</td>\n      <td>3,5%</td>\n      <td>-</td>\n      <td>40</td>\n      <td>40</td>\n      <td>0</td>\n      <td>40</td>\n      <td>0</td>\n      <td>€ 2,29</td>\n      <td>(3,21)</td>\n    </tr>\n  </tbody>\n</table>\n<p>979 rows × 14 columns</p>\n</div>"
     },
     "metadata": {},
     "execution_count": 10
    }
   ],
   "source": [
    "df_beers = pd.DataFrame.from_dict(dico_all_beers, orient='index') #faire une table à partir d'un dictionnaire\n",
    "df_beers"
   ]
  },
  {
   "source": [
    "On finalise notre tableau"
   ],
   "cell_type": "markdown",
   "metadata": {}
  },
  {
   "cell_type": "code",
   "execution_count": 11,
   "metadata": {},
   "outputs": [
    {
     "output_type": "execute_result",
     "data": {
      "text/plain": [
       "                                                                               beer_name  \\\n",
       "Brugse Zot blonde                                                      Brugse Zot blonde   \n",
       "Brouwerij 't IJ Natte Dubbel                                Brouwerij 't IJ Natte Dubbel   \n",
       "Bruut Gajes Tripel                                                    Bruut Gajes Tripel   \n",
       "Baxbier Koud Vuur                                                      Baxbier Koud Vuur   \n",
       "Bacchus Framboos                                                        Bacchus Framboos   \n",
       "...                                                                                  ...   \n",
       "Hertog Jan Grand Prestige                                      Hertog Jan Grand Prestige   \n",
       "Kehrwieder Kreativbrauerei SHIPA Hull Melon  Kehrwieder Kreativbrauerei SHIPA Hull Melon   \n",
       "Kraftbier Schoon Mèdje                                            Kraftbier Schoon Mèdje   \n",
       "Grisette Blanche Bio                                                Grisette Blanche Bio   \n",
       "Palm Session IPA                                                        Palm Session IPA   \n",
       "\n",
       "                                                    beer_style    country  \\\n",
       "Brugse Zot blonde                                 Bière Blonde   Belgique   \n",
       "Brouwerij 't IJ Natte Dubbel                      Bière Double   Pays-Bas   \n",
       "Bruut Gajes Tripel                                Bière Triple   Pays-Bas   \n",
       "Baxbier Koud Vuur                                  Bière Brune   Pays-Bas   \n",
       "Bacchus Framboos                                 Bière Fruitée   Belgique   \n",
       "...                                                        ...        ...   \n",
       "Hertog Jan Grand Prestige                    Bière Barley Wine   Pays-Bas   \n",
       "Kehrwieder Kreativbrauerei SHIPA Hull Melon                IPA  Allemagne   \n",
       "Kraftbier Schoon Mèdje                                     IPA   Pays-Bas   \n",
       "Grisette Blanche Bio                             Bière Blanche   Belgique   \n",
       "Palm Session IPA                                           IPA   Belgique   \n",
       "\n",
       "                                                          brewery_name bottle  \\\n",
       "Brugse Zot blonde                              Brouwerij De Halve Maan  33 cl   \n",
       "Brouwerij 't IJ Natte Dubbel                           Brouwerij 't IJ  33 cl   \n",
       "Bruut Gajes Tripel                                          Bruut Bier  33 cl   \n",
       "Baxbier Koud Vuur                                   Bax Bier Brouwerij  33 cl   \n",
       "Bacchus Framboos                             Brouwerij Van Honsebrouck  38 cl   \n",
       "...                                                                ...    ...   \n",
       "Hertog Jan Grand Prestige                                          NaN  30 cl   \n",
       "Kehrwieder Kreativbrauerei SHIPA Hull Melon                        NaN  33 cl   \n",
       "Kraftbier Schoon Mèdje                                             NaN  33 cl   \n",
       "Grisette Blanche Bio                                     St. Feuillien  25 cl   \n",
       "Palm Session IPA                                        Brouwerij Palm  33 cl   \n",
       "\n",
       "                                               abv ibu intensite longueur  \\\n",
       "Brugse Zot blonde                             6,0%  23        60       40   \n",
       "Brouwerij 't IJ Natte Dubbel                  6,5%   -        60       60   \n",
       "Bruut Gajes Tripel                            8,0%  38        60       60   \n",
       "Baxbier Koud Vuur                             6,2%  38        80       40   \n",
       "Bacchus Framboos                              5,0%   -        80       60   \n",
       "...                                            ...  ..       ...      ...   \n",
       "Hertog Jan Grand Prestige                    10,0%  25        60       80   \n",
       "Kehrwieder Kreativbrauerei SHIPA Hull Melon   7,5%  65        60       60   \n",
       "Kraftbier Schoon Mèdje                        6,3%  65        60       40   \n",
       "Grisette Blanche Bio                          5,5%  26        60       40   \n",
       "Palm Session IPA                              3,5%   -        40       40   \n",
       "\n",
       "                                            acidite amertume umami   price  \\\n",
       "Brugse Zot blonde                                20       40     0  € 2,69   \n",
       "Brouwerij 't IJ Natte Dubbel                      0       40     0  € 2,65   \n",
       "Bruut Gajes Tripel                               40       60     0  € 2,99   \n",
       "Baxbier Koud Vuur                                20       60     0  € 3,09   \n",
       "Bacchus Framboos                                 60       20     0  € 3,49   \n",
       "...                                             ...      ...   ...     ...   \n",
       "Hertog Jan Grand Prestige                         0       40     0  € 2,39   \n",
       "Kehrwieder Kreativbrauerei SHIPA Hull Melon       0       60     0  € 2,99   \n",
       "Kraftbier Schoon Mèdje                           20       60     0  € 2,89   \n",
       "Grisette Blanche Bio                             40        0     0  € 1,99   \n",
       "Palm Session IPA                                  0       40     0  € 2,29   \n",
       "\n",
       "                                               note  \n",
       "Brugse Zot blonde                            (3,71)  \n",
       "Brouwerij 't IJ Natte Dubbel                 (3,44)  \n",
       "Bruut Gajes Tripel                           (3,76)  \n",
       "Baxbier Koud Vuur                            (3,37)  \n",
       "Bacchus Framboos                             (3,60)  \n",
       "...                                             ...  \n",
       "Hertog Jan Grand Prestige                    (3,83)  \n",
       "Kehrwieder Kreativbrauerei SHIPA Hull Melon  (3,69)  \n",
       "Kraftbier Schoon Mèdje                       (3,46)  \n",
       "Grisette Blanche Bio                         (3,52)  \n",
       "Palm Session IPA                             (3,21)  \n",
       "\n",
       "[979 rows x 14 columns]"
      ],
      "text/html": "<div>\n<style scoped>\n    .dataframe tbody tr th:only-of-type {\n        vertical-align: middle;\n    }\n\n    .dataframe tbody tr th {\n        vertical-align: top;\n    }\n\n    .dataframe thead th {\n        text-align: right;\n    }\n</style>\n<table border=\"1\" class=\"dataframe\">\n  <thead>\n    <tr style=\"text-align: right;\">\n      <th></th>\n      <th>beer_name</th>\n      <th>beer_style</th>\n      <th>country</th>\n      <th>brewery_name</th>\n      <th>bottle</th>\n      <th>abv</th>\n      <th>ibu</th>\n      <th>intensite</th>\n      <th>longueur</th>\n      <th>acidite</th>\n      <th>amertume</th>\n      <th>umami</th>\n      <th>price</th>\n      <th>note</th>\n    </tr>\n  </thead>\n  <tbody>\n    <tr>\n      <td>Brugse Zot blonde</td>\n      <td>Brugse Zot blonde</td>\n      <td>Bière Blonde</td>\n      <td>Belgique</td>\n      <td>Brouwerij De Halve Maan</td>\n      <td>33 cl</td>\n      <td>6,0%</td>\n      <td>23</td>\n      <td>60</td>\n      <td>40</td>\n      <td>20</td>\n      <td>40</td>\n      <td>0</td>\n      <td>€ 2,69</td>\n      <td>(3,71)</td>\n    </tr>\n    <tr>\n      <td>Brouwerij 't IJ Natte Dubbel</td>\n      <td>Brouwerij 't IJ Natte Dubbel</td>\n      <td>Bière Double</td>\n      <td>Pays-Bas</td>\n      <td>Brouwerij 't IJ</td>\n      <td>33 cl</td>\n      <td>6,5%</td>\n      <td>-</td>\n      <td>60</td>\n      <td>60</td>\n      <td>0</td>\n      <td>40</td>\n      <td>0</td>\n      <td>€ 2,65</td>\n      <td>(3,44)</td>\n    </tr>\n    <tr>\n      <td>Bruut Gajes Tripel</td>\n      <td>Bruut Gajes Tripel</td>\n      <td>Bière Triple</td>\n      <td>Pays-Bas</td>\n      <td>Bruut Bier</td>\n      <td>33 cl</td>\n      <td>8,0%</td>\n      <td>38</td>\n      <td>60</td>\n      <td>60</td>\n      <td>40</td>\n      <td>60</td>\n      <td>0</td>\n      <td>€ 2,99</td>\n      <td>(3,76)</td>\n    </tr>\n    <tr>\n      <td>Baxbier Koud Vuur</td>\n      <td>Baxbier Koud Vuur</td>\n      <td>Bière Brune</td>\n      <td>Pays-Bas</td>\n      <td>Bax Bier Brouwerij</td>\n      <td>33 cl</td>\n      <td>6,2%</td>\n      <td>38</td>\n      <td>80</td>\n      <td>40</td>\n      <td>20</td>\n      <td>60</td>\n      <td>0</td>\n      <td>€ 3,09</td>\n      <td>(3,37)</td>\n    </tr>\n    <tr>\n      <td>Bacchus Framboos</td>\n      <td>Bacchus Framboos</td>\n      <td>Bière Fruitée</td>\n      <td>Belgique</td>\n      <td>Brouwerij Van Honsebrouck</td>\n      <td>38 cl</td>\n      <td>5,0%</td>\n      <td>-</td>\n      <td>80</td>\n      <td>60</td>\n      <td>60</td>\n      <td>20</td>\n      <td>0</td>\n      <td>€ 3,49</td>\n      <td>(3,60)</td>\n    </tr>\n    <tr>\n      <td>...</td>\n      <td>...</td>\n      <td>...</td>\n      <td>...</td>\n      <td>...</td>\n      <td>...</td>\n      <td>...</td>\n      <td>...</td>\n      <td>...</td>\n      <td>...</td>\n      <td>...</td>\n      <td>...</td>\n      <td>...</td>\n      <td>...</td>\n      <td>...</td>\n    </tr>\n    <tr>\n      <td>Hertog Jan Grand Prestige</td>\n      <td>Hertog Jan Grand Prestige</td>\n      <td>Bière Barley Wine</td>\n      <td>Pays-Bas</td>\n      <td>NaN</td>\n      <td>30 cl</td>\n      <td>10,0%</td>\n      <td>25</td>\n      <td>60</td>\n      <td>80</td>\n      <td>0</td>\n      <td>40</td>\n      <td>0</td>\n      <td>€ 2,39</td>\n      <td>(3,83)</td>\n    </tr>\n    <tr>\n      <td>Kehrwieder Kreativbrauerei SHIPA Hull Melon</td>\n      <td>Kehrwieder Kreativbrauerei SHIPA Hull Melon</td>\n      <td>IPA</td>\n      <td>Allemagne</td>\n      <td>NaN</td>\n      <td>33 cl</td>\n      <td>7,5%</td>\n      <td>65</td>\n      <td>60</td>\n      <td>60</td>\n      <td>0</td>\n      <td>60</td>\n      <td>0</td>\n      <td>€ 2,99</td>\n      <td>(3,69)</td>\n    </tr>\n    <tr>\n      <td>Kraftbier Schoon Mèdje</td>\n      <td>Kraftbier Schoon Mèdje</td>\n      <td>IPA</td>\n      <td>Pays-Bas</td>\n      <td>NaN</td>\n      <td>33 cl</td>\n      <td>6,3%</td>\n      <td>65</td>\n      <td>60</td>\n      <td>40</td>\n      <td>20</td>\n      <td>60</td>\n      <td>0</td>\n      <td>€ 2,89</td>\n      <td>(3,46)</td>\n    </tr>\n    <tr>\n      <td>Grisette Blanche Bio</td>\n      <td>Grisette Blanche Bio</td>\n      <td>Bière Blanche</td>\n      <td>Belgique</td>\n      <td>St. Feuillien</td>\n      <td>25 cl</td>\n      <td>5,5%</td>\n      <td>26</td>\n      <td>60</td>\n      <td>40</td>\n      <td>40</td>\n      <td>0</td>\n      <td>0</td>\n      <td>€ 1,99</td>\n      <td>(3,52)</td>\n    </tr>\n    <tr>\n      <td>Palm Session IPA</td>\n      <td>Palm Session IPA</td>\n      <td>IPA</td>\n      <td>Belgique</td>\n      <td>Brouwerij Palm</td>\n      <td>33 cl</td>\n      <td>3,5%</td>\n      <td>-</td>\n      <td>40</td>\n      <td>40</td>\n      <td>0</td>\n      <td>40</td>\n      <td>0</td>\n      <td>€ 2,29</td>\n      <td>(3,21)</td>\n    </tr>\n  </tbody>\n</table>\n<p>979 rows × 14 columns</p>\n</div>"
     },
     "metadata": {},
     "execution_count": 11
    }
   ],
   "source": [
    "df_beers.columns = ['beer_name', 'beer_style', 'country', 'brewery_name', 'bottle', 'abv', 'ibu', 'intensite', 'longueur', 'acidite', 'amertume', 'umami', 'price', 'note']\n",
    "df_beers"
   ]
  },
  {
   "source": [
    "### Étape 4 : on nettoie les données pour leur exploitation future \n",
    "\n",
    "On convertir les chaines de caractères en `float` pour plus tard traiter les données"
   ],
   "cell_type": "markdown",
   "metadata": {}
  },
  {
   "cell_type": "code",
   "execution_count": 12,
   "metadata": {},
   "outputs": [
    {
     "output_type": "execute_result",
     "data": {
      "text/plain": [
       "                                                                               beer_name  \\\n",
       "Brugse Zot blonde                                                      Brugse Zot blonde   \n",
       "Brouwerij 't IJ Natte Dubbel                                Brouwerij 't IJ Natte Dubbel   \n",
       "Bruut Gajes Tripel                                                    Bruut Gajes Tripel   \n",
       "Baxbier Koud Vuur                                                      Baxbier Koud Vuur   \n",
       "Bacchus Framboos                                                        Bacchus Framboos   \n",
       "...                                                                                  ...   \n",
       "Hertog Jan Grand Prestige                                      Hertog Jan Grand Prestige   \n",
       "Kehrwieder Kreativbrauerei SHIPA Hull Melon  Kehrwieder Kreativbrauerei SHIPA Hull Melon   \n",
       "Kraftbier Schoon Mèdje                                            Kraftbier Schoon Mèdje   \n",
       "Grisette Blanche Bio                                                Grisette Blanche Bio   \n",
       "Palm Session IPA                                                        Palm Session IPA   \n",
       "\n",
       "                                                    beer_style    country  \\\n",
       "Brugse Zot blonde                                 Bière Blonde   Belgique   \n",
       "Brouwerij 't IJ Natte Dubbel                      Bière Double   Pays-Bas   \n",
       "Bruut Gajes Tripel                                Bière Triple   Pays-Bas   \n",
       "Baxbier Koud Vuur                                  Bière Brune   Pays-Bas   \n",
       "Bacchus Framboos                                 Bière Fruitée   Belgique   \n",
       "...                                                        ...        ...   \n",
       "Hertog Jan Grand Prestige                    Bière Barley Wine   Pays-Bas   \n",
       "Kehrwieder Kreativbrauerei SHIPA Hull Melon                IPA  Allemagne   \n",
       "Kraftbier Schoon Mèdje                                     IPA   Pays-Bas   \n",
       "Grisette Blanche Bio                             Bière Blanche   Belgique   \n",
       "Palm Session IPA                                           IPA   Belgique   \n",
       "\n",
       "                                                          brewery_name bottle  \\\n",
       "Brugse Zot blonde                              Brouwerij De Halve Maan     33   \n",
       "Brouwerij 't IJ Natte Dubbel                           Brouwerij 't IJ     33   \n",
       "Bruut Gajes Tripel                                          Bruut Bier     33   \n",
       "Baxbier Koud Vuur                                   Bax Bier Brouwerij     33   \n",
       "Bacchus Framboos                             Brouwerij Van Honsebrouck     38   \n",
       "...                                                                ...    ...   \n",
       "Hertog Jan Grand Prestige                                          NaN     30   \n",
       "Kehrwieder Kreativbrauerei SHIPA Hull Melon                        NaN     33   \n",
       "Kraftbier Schoon Mèdje                                             NaN     33   \n",
       "Grisette Blanche Bio                                     St. Feuillien     25   \n",
       "Palm Session IPA                                        Brouwerij Palm     33   \n",
       "\n",
       "                                             abv  ibu intensite longueur  \\\n",
       "Brugse Zot blonde                              6   23        60       40   \n",
       "Brouwerij 't IJ Natte Dubbel                 6.5  NaN        60       60   \n",
       "Bruut Gajes Tripel                             8   38        60       60   \n",
       "Baxbier Koud Vuur                            6.2   38        80       40   \n",
       "Bacchus Framboos                               5  NaN        80       60   \n",
       "...                                          ...  ...       ...      ...   \n",
       "Hertog Jan Grand Prestige                     10   25        60       80   \n",
       "Kehrwieder Kreativbrauerei SHIPA Hull Melon  7.5   65        60       60   \n",
       "Kraftbier Schoon Mèdje                       6.3   65        60       40   \n",
       "Grisette Blanche Bio                         5.5   26        60       40   \n",
       "Palm Session IPA                             3.5  NaN        40       40   \n",
       "\n",
       "                                            acidite amertume umami price  note  \n",
       "Brugse Zot blonde                                20       40     0  2.69  3.71  \n",
       "Brouwerij 't IJ Natte Dubbel                      0       40     0  2.65  3.44  \n",
       "Bruut Gajes Tripel                               40       60     0  2.99  3.76  \n",
       "Baxbier Koud Vuur                                20       60     0  3.09  3.37  \n",
       "Bacchus Framboos                                 60       20     0  3.49   3.6  \n",
       "...                                             ...      ...   ...   ...   ...  \n",
       "Hertog Jan Grand Prestige                         0       40     0  2.39  3.83  \n",
       "Kehrwieder Kreativbrauerei SHIPA Hull Melon       0       60     0  2.99  3.69  \n",
       "Kraftbier Schoon Mèdje                           20       60     0  2.89  3.46  \n",
       "Grisette Blanche Bio                             40        0     0  1.99  3.52  \n",
       "Palm Session IPA                                  0       40     0  2.29  3.21  \n",
       "\n",
       "[979 rows x 14 columns]"
      ],
      "text/html": "<div>\n<style scoped>\n    .dataframe tbody tr th:only-of-type {\n        vertical-align: middle;\n    }\n\n    .dataframe tbody tr th {\n        vertical-align: top;\n    }\n\n    .dataframe thead th {\n        text-align: right;\n    }\n</style>\n<table border=\"1\" class=\"dataframe\">\n  <thead>\n    <tr style=\"text-align: right;\">\n      <th></th>\n      <th>beer_name</th>\n      <th>beer_style</th>\n      <th>country</th>\n      <th>brewery_name</th>\n      <th>bottle</th>\n      <th>abv</th>\n      <th>ibu</th>\n      <th>intensite</th>\n      <th>longueur</th>\n      <th>acidite</th>\n      <th>amertume</th>\n      <th>umami</th>\n      <th>price</th>\n      <th>note</th>\n    </tr>\n  </thead>\n  <tbody>\n    <tr>\n      <td>Brugse Zot blonde</td>\n      <td>Brugse Zot blonde</td>\n      <td>Bière Blonde</td>\n      <td>Belgique</td>\n      <td>Brouwerij De Halve Maan</td>\n      <td>33</td>\n      <td>6</td>\n      <td>23</td>\n      <td>60</td>\n      <td>40</td>\n      <td>20</td>\n      <td>40</td>\n      <td>0</td>\n      <td>2.69</td>\n      <td>3.71</td>\n    </tr>\n    <tr>\n      <td>Brouwerij 't IJ Natte Dubbel</td>\n      <td>Brouwerij 't IJ Natte Dubbel</td>\n      <td>Bière Double</td>\n      <td>Pays-Bas</td>\n      <td>Brouwerij 't IJ</td>\n      <td>33</td>\n      <td>6.5</td>\n      <td>NaN</td>\n      <td>60</td>\n      <td>60</td>\n      <td>0</td>\n      <td>40</td>\n      <td>0</td>\n      <td>2.65</td>\n      <td>3.44</td>\n    </tr>\n    <tr>\n      <td>Bruut Gajes Tripel</td>\n      <td>Bruut Gajes Tripel</td>\n      <td>Bière Triple</td>\n      <td>Pays-Bas</td>\n      <td>Bruut Bier</td>\n      <td>33</td>\n      <td>8</td>\n      <td>38</td>\n      <td>60</td>\n      <td>60</td>\n      <td>40</td>\n      <td>60</td>\n      <td>0</td>\n      <td>2.99</td>\n      <td>3.76</td>\n    </tr>\n    <tr>\n      <td>Baxbier Koud Vuur</td>\n      <td>Baxbier Koud Vuur</td>\n      <td>Bière Brune</td>\n      <td>Pays-Bas</td>\n      <td>Bax Bier Brouwerij</td>\n      <td>33</td>\n      <td>6.2</td>\n      <td>38</td>\n      <td>80</td>\n      <td>40</td>\n      <td>20</td>\n      <td>60</td>\n      <td>0</td>\n      <td>3.09</td>\n      <td>3.37</td>\n    </tr>\n    <tr>\n      <td>Bacchus Framboos</td>\n      <td>Bacchus Framboos</td>\n      <td>Bière Fruitée</td>\n      <td>Belgique</td>\n      <td>Brouwerij Van Honsebrouck</td>\n      <td>38</td>\n      <td>5</td>\n      <td>NaN</td>\n      <td>80</td>\n      <td>60</td>\n      <td>60</td>\n      <td>20</td>\n      <td>0</td>\n      <td>3.49</td>\n      <td>3.6</td>\n    </tr>\n    <tr>\n      <td>...</td>\n      <td>...</td>\n      <td>...</td>\n      <td>...</td>\n      <td>...</td>\n      <td>...</td>\n      <td>...</td>\n      <td>...</td>\n      <td>...</td>\n      <td>...</td>\n      <td>...</td>\n      <td>...</td>\n      <td>...</td>\n      <td>...</td>\n      <td>...</td>\n    </tr>\n    <tr>\n      <td>Hertog Jan Grand Prestige</td>\n      <td>Hertog Jan Grand Prestige</td>\n      <td>Bière Barley Wine</td>\n      <td>Pays-Bas</td>\n      <td>NaN</td>\n      <td>30</td>\n      <td>10</td>\n      <td>25</td>\n      <td>60</td>\n      <td>80</td>\n      <td>0</td>\n      <td>40</td>\n      <td>0</td>\n      <td>2.39</td>\n      <td>3.83</td>\n    </tr>\n    <tr>\n      <td>Kehrwieder Kreativbrauerei SHIPA Hull Melon</td>\n      <td>Kehrwieder Kreativbrauerei SHIPA Hull Melon</td>\n      <td>IPA</td>\n      <td>Allemagne</td>\n      <td>NaN</td>\n      <td>33</td>\n      <td>7.5</td>\n      <td>65</td>\n      <td>60</td>\n      <td>60</td>\n      <td>0</td>\n      <td>60</td>\n      <td>0</td>\n      <td>2.99</td>\n      <td>3.69</td>\n    </tr>\n    <tr>\n      <td>Kraftbier Schoon Mèdje</td>\n      <td>Kraftbier Schoon Mèdje</td>\n      <td>IPA</td>\n      <td>Pays-Bas</td>\n      <td>NaN</td>\n      <td>33</td>\n      <td>6.3</td>\n      <td>65</td>\n      <td>60</td>\n      <td>40</td>\n      <td>20</td>\n      <td>60</td>\n      <td>0</td>\n      <td>2.89</td>\n      <td>3.46</td>\n    </tr>\n    <tr>\n      <td>Grisette Blanche Bio</td>\n      <td>Grisette Blanche Bio</td>\n      <td>Bière Blanche</td>\n      <td>Belgique</td>\n      <td>St. Feuillien</td>\n      <td>25</td>\n      <td>5.5</td>\n      <td>26</td>\n      <td>60</td>\n      <td>40</td>\n      <td>40</td>\n      <td>0</td>\n      <td>0</td>\n      <td>1.99</td>\n      <td>3.52</td>\n    </tr>\n    <tr>\n      <td>Palm Session IPA</td>\n      <td>Palm Session IPA</td>\n      <td>IPA</td>\n      <td>Belgique</td>\n      <td>Brouwerij Palm</td>\n      <td>33</td>\n      <td>3.5</td>\n      <td>NaN</td>\n      <td>40</td>\n      <td>40</td>\n      <td>0</td>\n      <td>40</td>\n      <td>0</td>\n      <td>2.29</td>\n      <td>3.21</td>\n    </tr>\n  </tbody>\n</table>\n<p>979 rows × 14 columns</p>\n</div>"
     },
     "metadata": {},
     "execution_count": 12
    }
   ],
   "source": [
    "for i in range(len(df_beers)):\n",
    "    \n",
    "    if type(df_beers['bottle'][i]) != float:\n",
    "        df_beers['bottle'][i] = float(df_beers['bottle'][i].replace(' cl',''))\n",
    "\n",
    "    if type(df_beers['abv'][i]) != float:\n",
    "        df_beers['abv'][i] = float(df_beers['abv'][i].replace('%','').replace(',','.'))\n",
    "    \n",
    "    if df_beers['ibu'][i] == '-':\n",
    "        df_beers['ibu'][i] = float('nan')\n",
    "    elif type(df_beers['ibu'][i]) == str and len(df_beers['ibu'][i]) > 6:\n",
    "        df_beers['ibu'][i] = float('nan')\n",
    "    else:\n",
    "        df_beers['ibu'][i] = float(df_beers['ibu'][i])\n",
    "\n",
    "    if type(df_beers['note'][i]) != float:\n",
    "        df_beers['note'][i] = float(df_beers['note'][i].replace('(','').replace(')','').replace(',','.'))\n",
    "\n",
    "    if type(df_beers['price'][i]) != float:\n",
    "        df_beers['price'][i] = float(df_beers['price'][i].replace('€ ','').replace(',','.'))\n",
    "    \n",
    "df_beers"
   ]
  },
  {
   "source": [
    "Exportation du tableau en tant que fichier csv pour ensuite être traité"
   ],
   "cell_type": "markdown",
   "metadata": {}
  },
  {
   "cell_type": "code",
   "execution_count": 13,
   "metadata": {},
   "outputs": [],
   "source": [
    "df_beers.to_csv('data_beerwulf')"
   ]
  },
  {
   "source": [
    "**Les étapes suivantes : data cleaning**, par exemple :\n",
    "- Mettre le prix au litre pour uniformiser.\n",
    "- Faire le lien avec les autres bases de données existantes"
   ],
   "cell_type": "markdown",
   "metadata": {}
  }
 ],
 "metadata": {
  "kernelspec": {
   "display_name": "Python 3",
   "language": "python",
   "name": "python3"
  },
  "language_info": {
   "codemirror_mode": {
    "name": "ipython",
    "version": 3
   },
   "file_extension": ".py",
   "mimetype": "text/x-python",
   "name": "python",
   "nbconvert_exporter": "python",
   "pygments_lexer": "ipython3",
   "version": "3.7.4-final"
  }
 },
 "nbformat": 4,
 "nbformat_minor": 2
}