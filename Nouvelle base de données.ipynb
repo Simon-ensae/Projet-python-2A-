{
 "metadata": {
  "language_info": {
   "codemirror_mode": {
    "name": "ipython",
    "version": 3
   },
   "file_extension": ".py",
   "mimetype": "text/x-python",
   "name": "python",
   "nbconvert_exporter": "python",
   "pygments_lexer": "ipython3",
   "version": "3.7.4-final"
  },
  "orig_nbformat": 2,
  "kernelspec": {
   "name": "python3",
   "display_name": "Python 3"
  }
 },
 "nbformat": 4,
 "nbformat_minor": 2,
 "cells": [
  {
   "source": [
    "# Création d'une base de données enrichie avec les cractéristiques physico-chimiques des bières.\n",
    "L'idée est la suivante : on a récolté toutes les bières du site www.beerwulf.com. On peut donc ensuite faire le lien avec toutes les données du dataset préexistant. Cela permettra de passer de environ 1000 données à 100 000 données ?"
   ],
   "cell_type": "markdown",
   "metadata": {}
  },
  {
   "cell_type": "code",
   "execution_count": 146,
   "metadata": {},
   "outputs": [],
   "source": [
    "import pandas as pd \n",
    "import numpy as np \n",
    "import matplotlib.pyplot as plt"
   ]
  },
  {
   "cell_type": "code",
   "execution_count": 152,
   "metadata": {},
   "outputs": [
    {
     "output_type": "execute_result",
     "data": {
      "text/plain": [
       "                     Unnamed: 0                     beer_name     beer_style  \\\n",
       "0             Brugse Zot blonde             Brugse Zot blonde   Bière Blonde   \n",
       "1  Brouwerij 't IJ Natte Dubbel  Brouwerij 't IJ Natte Dubbel   Bière Double   \n",
       "2            Bruut Gajes Tripel            Bruut Gajes Tripel   Bière Triple   \n",
       "3             Baxbier Koud Vuur             Baxbier Koud Vuur    Bière Brune   \n",
       "4              Bacchus Framboos              Bacchus Framboos  Bière Fruitée   \n",
       "\n",
       "    country               brewery_name  bottle  abv   ibu  intensite  \\\n",
       "0  Belgique    Brouwerij De Halve Maan    33.0  6.0  23.0       60.0   \n",
       "1  Pays-Bas            Brouwerij 't IJ    33.0  6.5   NaN       60.0   \n",
       "2  Pays-Bas                 Bruut Bier    33.0  8.0  38.0       60.0   \n",
       "3  Pays-Bas         Bax Bier Brouwerij    33.0  6.2  38.0       80.0   \n",
       "4  Belgique  Brouwerij Van Honsebrouck    38.0  5.0   NaN       80.0   \n",
       "\n",
       "   longueur  acidite  amertume  umami  price  note  \n",
       "0      40.0     20.0      40.0    0.0   2.69  3.71  \n",
       "1      60.0      0.0      40.0    0.0   2.65  3.44  \n",
       "2      60.0     40.0      60.0    0.0   2.99  3.76  \n",
       "3      40.0     20.0      60.0    0.0   3.09  3.37  \n",
       "4      60.0     60.0      20.0    0.0   3.49  3.60  "
      ],
      "text/html": "<div>\n<style scoped>\n    .dataframe tbody tr th:only-of-type {\n        vertical-align: middle;\n    }\n\n    .dataframe tbody tr th {\n        vertical-align: top;\n    }\n\n    .dataframe thead th {\n        text-align: right;\n    }\n</style>\n<table border=\"1\" class=\"dataframe\">\n  <thead>\n    <tr style=\"text-align: right;\">\n      <th></th>\n      <th>Unnamed: 0</th>\n      <th>beer_name</th>\n      <th>beer_style</th>\n      <th>country</th>\n      <th>brewery_name</th>\n      <th>bottle</th>\n      <th>abv</th>\n      <th>ibu</th>\n      <th>intensite</th>\n      <th>longueur</th>\n      <th>acidite</th>\n      <th>amertume</th>\n      <th>umami</th>\n      <th>price</th>\n      <th>note</th>\n    </tr>\n  </thead>\n  <tbody>\n    <tr>\n      <td>0</td>\n      <td>Brugse Zot blonde</td>\n      <td>Brugse Zot blonde</td>\n      <td>Bière Blonde</td>\n      <td>Belgique</td>\n      <td>Brouwerij De Halve Maan</td>\n      <td>33.0</td>\n      <td>6.0</td>\n      <td>23.0</td>\n      <td>60.0</td>\n      <td>40.0</td>\n      <td>20.0</td>\n      <td>40.0</td>\n      <td>0.0</td>\n      <td>2.69</td>\n      <td>3.71</td>\n    </tr>\n    <tr>\n      <td>1</td>\n      <td>Brouwerij 't IJ Natte Dubbel</td>\n      <td>Brouwerij 't IJ Natte Dubbel</td>\n      <td>Bière Double</td>\n      <td>Pays-Bas</td>\n      <td>Brouwerij 't IJ</td>\n      <td>33.0</td>\n      <td>6.5</td>\n      <td>NaN</td>\n      <td>60.0</td>\n      <td>60.0</td>\n      <td>0.0</td>\n      <td>40.0</td>\n      <td>0.0</td>\n      <td>2.65</td>\n      <td>3.44</td>\n    </tr>\n    <tr>\n      <td>2</td>\n      <td>Bruut Gajes Tripel</td>\n      <td>Bruut Gajes Tripel</td>\n      <td>Bière Triple</td>\n      <td>Pays-Bas</td>\n      <td>Bruut Bier</td>\n      <td>33.0</td>\n      <td>8.0</td>\n      <td>38.0</td>\n      <td>60.0</td>\n      <td>60.0</td>\n      <td>40.0</td>\n      <td>60.0</td>\n      <td>0.0</td>\n      <td>2.99</td>\n      <td>3.76</td>\n    </tr>\n    <tr>\n      <td>3</td>\n      <td>Baxbier Koud Vuur</td>\n      <td>Baxbier Koud Vuur</td>\n      <td>Bière Brune</td>\n      <td>Pays-Bas</td>\n      <td>Bax Bier Brouwerij</td>\n      <td>33.0</td>\n      <td>6.2</td>\n      <td>38.0</td>\n      <td>80.0</td>\n      <td>40.0</td>\n      <td>20.0</td>\n      <td>60.0</td>\n      <td>0.0</td>\n      <td>3.09</td>\n      <td>3.37</td>\n    </tr>\n    <tr>\n      <td>4</td>\n      <td>Bacchus Framboos</td>\n      <td>Bacchus Framboos</td>\n      <td>Bière Fruitée</td>\n      <td>Belgique</td>\n      <td>Brouwerij Van Honsebrouck</td>\n      <td>38.0</td>\n      <td>5.0</td>\n      <td>NaN</td>\n      <td>80.0</td>\n      <td>60.0</td>\n      <td>60.0</td>\n      <td>20.0</td>\n      <td>0.0</td>\n      <td>3.49</td>\n      <td>3.60</td>\n    </tr>\n  </tbody>\n</table>\n</div>"
     },
     "metadata": {},
     "execution_count": 152
    }
   ],
   "source": [
    "df = pd.read_csv('data_beerwulf')\n",
    "df.head()"
   ]
  },
  {
   "source": [
    "La 1ère colonne ne nous intéresse pas, on la supprime."
   ],
   "cell_type": "markdown",
   "metadata": {}
  },
  {
   "cell_type": "code",
   "execution_count": 153,
   "metadata": {},
   "outputs": [
    {
     "output_type": "execute_result",
     "data": {
      "text/plain": [
       "           bottle         abv         ibu   intensite    longueur     acidite  \\\n",
       "count  977.000000  977.000000  555.000000  919.000000  919.000000  919.000000   \n",
       "mean    33.210850    6.245241   35.619820   59.151251   52.557127   13.949946   \n",
       "std      3.913847    2.167882   20.013929   16.427631   16.577893   17.033918   \n",
       "min     25.000000    0.000000    4.000000    0.000000    0.000000    0.000000   \n",
       "25%     33.000000    5.000000   22.000000   60.000000   40.000000    0.000000   \n",
       "50%     33.000000    6.000000   32.000000   60.000000   60.000000   20.000000   \n",
       "75%     33.000000    7.500000   44.500000   60.000000   60.000000   20.000000   \n",
       "max     65.000000   16.500000  220.000000  100.000000  100.000000   80.000000   \n",
       "\n",
       "         amertume       umami       price        note  \n",
       "count  919.000000  919.000000  827.000000  906.000000  \n",
       "mean    44.787813    3.199129    2.877110    3.473532  \n",
       "std     20.079733    9.554029    0.747449    0.285906  \n",
       "min      0.000000    0.000000    1.190000    1.850000  \n",
       "25%     40.000000    0.000000    2.490000    3.340000  \n",
       "50%     40.000000    0.000000    2.790000    3.500000  \n",
       "75%     60.000000    0.000000    2.990000    3.660000  \n",
       "max    100.000000   80.000000   10.990000    4.450000  "
      ],
      "text/html": "<div>\n<style scoped>\n    .dataframe tbody tr th:only-of-type {\n        vertical-align: middle;\n    }\n\n    .dataframe tbody tr th {\n        vertical-align: top;\n    }\n\n    .dataframe thead th {\n        text-align: right;\n    }\n</style>\n<table border=\"1\" class=\"dataframe\">\n  <thead>\n    <tr style=\"text-align: right;\">\n      <th></th>\n      <th>bottle</th>\n      <th>abv</th>\n      <th>ibu</th>\n      <th>intensite</th>\n      <th>longueur</th>\n      <th>acidite</th>\n      <th>amertume</th>\n      <th>umami</th>\n      <th>price</th>\n      <th>note</th>\n    </tr>\n  </thead>\n  <tbody>\n    <tr>\n      <td>count</td>\n      <td>977.000000</td>\n      <td>977.000000</td>\n      <td>555.000000</td>\n      <td>919.000000</td>\n      <td>919.000000</td>\n      <td>919.000000</td>\n      <td>919.000000</td>\n      <td>919.000000</td>\n      <td>827.000000</td>\n      <td>906.000000</td>\n    </tr>\n    <tr>\n      <td>mean</td>\n      <td>33.210850</td>\n      <td>6.245241</td>\n      <td>35.619820</td>\n      <td>59.151251</td>\n      <td>52.557127</td>\n      <td>13.949946</td>\n      <td>44.787813</td>\n      <td>3.199129</td>\n      <td>2.877110</td>\n      <td>3.473532</td>\n    </tr>\n    <tr>\n      <td>std</td>\n      <td>3.913847</td>\n      <td>2.167882</td>\n      <td>20.013929</td>\n      <td>16.427631</td>\n      <td>16.577893</td>\n      <td>17.033918</td>\n      <td>20.079733</td>\n      <td>9.554029</td>\n      <td>0.747449</td>\n      <td>0.285906</td>\n    </tr>\n    <tr>\n      <td>min</td>\n      <td>25.000000</td>\n      <td>0.000000</td>\n      <td>4.000000</td>\n      <td>0.000000</td>\n      <td>0.000000</td>\n      <td>0.000000</td>\n      <td>0.000000</td>\n      <td>0.000000</td>\n      <td>1.190000</td>\n      <td>1.850000</td>\n    </tr>\n    <tr>\n      <td>25%</td>\n      <td>33.000000</td>\n      <td>5.000000</td>\n      <td>22.000000</td>\n      <td>60.000000</td>\n      <td>40.000000</td>\n      <td>0.000000</td>\n      <td>40.000000</td>\n      <td>0.000000</td>\n      <td>2.490000</td>\n      <td>3.340000</td>\n    </tr>\n    <tr>\n      <td>50%</td>\n      <td>33.000000</td>\n      <td>6.000000</td>\n      <td>32.000000</td>\n      <td>60.000000</td>\n      <td>60.000000</td>\n      <td>20.000000</td>\n      <td>40.000000</td>\n      <td>0.000000</td>\n      <td>2.790000</td>\n      <td>3.500000</td>\n    </tr>\n    <tr>\n      <td>75%</td>\n      <td>33.000000</td>\n      <td>7.500000</td>\n      <td>44.500000</td>\n      <td>60.000000</td>\n      <td>60.000000</td>\n      <td>20.000000</td>\n      <td>60.000000</td>\n      <td>0.000000</td>\n      <td>2.990000</td>\n      <td>3.660000</td>\n    </tr>\n    <tr>\n      <td>max</td>\n      <td>65.000000</td>\n      <td>16.500000</td>\n      <td>220.000000</td>\n      <td>100.000000</td>\n      <td>100.000000</td>\n      <td>80.000000</td>\n      <td>100.000000</td>\n      <td>80.000000</td>\n      <td>10.990000</td>\n      <td>4.450000</td>\n    </tr>\n  </tbody>\n</table>\n</div>"
     },
     "metadata": {},
     "execution_count": 153
    }
   ],
   "source": [
    "del df['Unnamed: 0']\n",
    "df.describe()"
   ]
  },
  {
   "source": [
    "Ces statistiques descriptives nous permettent de visualiser plusieurs problèmes : \n",
    "- La valeur minimum de `abv` est 0, ce qui veut dire que nous avons scrapé des bières sans alcool. Néanmoins, la valeur maximale (16.5°) semble cohérente.\n",
    "- La valeur maximale de l'`ibu` est louche.\n",
    "- L'`umami` des bières collectées est égale à 0 pour au moins 75% des données scrapées.\n",
    "- Le `prix` semble honnête, mais la valeur maximale semble étrange. De plus, le prix n'est pas uniformisé dans le sens où il correspond à un volume (`bottle`) précis. Il faudra donc ramener le tout au prix de la pinte de bière. \n",
    "- La `note` de satisfation de la bière est bien comprise entre 0 et 5 mais son écart-type est très faible. On aura donc du mal à distinguer les très bonnes bières et les bonnes bières.\n",
    "\n"
   ],
   "cell_type": "markdown",
   "metadata": {}
  },
  {
   "source": [
    "### On nettoie le dataframe afin de ne garder que les bières sans alcool"
   ],
   "cell_type": "markdown",
   "metadata": {}
  },
  {
   "cell_type": "code",
   "execution_count": 162,
   "metadata": {},
   "outputs": [
    {
     "output_type": "execute_result",
     "data": {
      "text/plain": [
       "               beer_name            beer_style   country       brewery_name  \\\n",
       "20      Budels Malt 0,0%                 Lager  Pays-Bas  Budelse Brouwerij   \n",
       "22          Heineken 0.0                 Lager  Pays-Bas   Heineken Brewery   \n",
       "66              Palm 0.0              Pale Ale  Belgique     Brouwerij Palm   \n",
       "75         Braxzz Porter  Bière Porter & Stout  Pays-Bas                NaN   \n",
       "89   Affligem Blond 0.0%          Bière Blonde  Belgique           Affligem   \n",
       "215     Lowlander 0% Wit         Bière Blanche  Pays-Bas          Lowlander   \n",
       "289                  NaN                   NaN       NaN                NaN   \n",
       "\n",
       "     bottle  abv   ibu  intensite  longueur  acidite  amertume  umami  price  \\\n",
       "20     30.0  0.0   NaN       40.0      60.0     20.0      20.0    0.0   1.79   \n",
       "22     30.0  0.0  16.0       40.0      40.0     40.0      40.0   20.0   1.49   \n",
       "66     25.0  0.0   NaN       60.0      60.0     20.0      40.0    0.0   1.89   \n",
       "75     33.0  0.0  50.0       60.0      80.0      0.0      40.0    0.0   2.49   \n",
       "89     30.0  0.0   NaN        NaN       NaN      NaN       NaN    NaN   1.59   \n",
       "215    33.0  0.0   NaN       40.0      40.0     40.0       0.0    0.0   2.49   \n",
       "289     NaN  NaN   NaN        NaN       NaN      NaN       NaN    NaN    NaN   \n",
       "\n",
       "     note  \n",
       "20   2.11  \n",
       "22   2.30  \n",
       "66   2.06  \n",
       "75   2.51  \n",
       "89   2.84  \n",
       "215  3.16  \n",
       "289   NaN  "
      ],
      "text/html": "<div>\n<style scoped>\n    .dataframe tbody tr th:only-of-type {\n        vertical-align: middle;\n    }\n\n    .dataframe tbody tr th {\n        vertical-align: top;\n    }\n\n    .dataframe thead th {\n        text-align: right;\n    }\n</style>\n<table border=\"1\" class=\"dataframe\">\n  <thead>\n    <tr style=\"text-align: right;\">\n      <th></th>\n      <th>beer_name</th>\n      <th>beer_style</th>\n      <th>country</th>\n      <th>brewery_name</th>\n      <th>bottle</th>\n      <th>abv</th>\n      <th>ibu</th>\n      <th>intensite</th>\n      <th>longueur</th>\n      <th>acidite</th>\n      <th>amertume</th>\n      <th>umami</th>\n      <th>price</th>\n      <th>note</th>\n    </tr>\n  </thead>\n  <tbody>\n    <tr>\n      <td>20</td>\n      <td>Budels Malt 0,0%</td>\n      <td>Lager</td>\n      <td>Pays-Bas</td>\n      <td>Budelse Brouwerij</td>\n      <td>30.0</td>\n      <td>0.0</td>\n      <td>NaN</td>\n      <td>40.0</td>\n      <td>60.0</td>\n      <td>20.0</td>\n      <td>20.0</td>\n      <td>0.0</td>\n      <td>1.79</td>\n      <td>2.11</td>\n    </tr>\n    <tr>\n      <td>22</td>\n      <td>Heineken 0.0</td>\n      <td>Lager</td>\n      <td>Pays-Bas</td>\n      <td>Heineken Brewery</td>\n      <td>30.0</td>\n      <td>0.0</td>\n      <td>16.0</td>\n      <td>40.0</td>\n      <td>40.0</td>\n      <td>40.0</td>\n      <td>40.0</td>\n      <td>20.0</td>\n      <td>1.49</td>\n      <td>2.30</td>\n    </tr>\n    <tr>\n      <td>66</td>\n      <td>Palm 0.0</td>\n      <td>Pale Ale</td>\n      <td>Belgique</td>\n      <td>Brouwerij Palm</td>\n      <td>25.0</td>\n      <td>0.0</td>\n      <td>NaN</td>\n      <td>60.0</td>\n      <td>60.0</td>\n      <td>20.0</td>\n      <td>40.0</td>\n      <td>0.0</td>\n      <td>1.89</td>\n      <td>2.06</td>\n    </tr>\n    <tr>\n      <td>75</td>\n      <td>Braxzz Porter</td>\n      <td>Bière Porter &amp; Stout</td>\n      <td>Pays-Bas</td>\n      <td>NaN</td>\n      <td>33.0</td>\n      <td>0.0</td>\n      <td>50.0</td>\n      <td>60.0</td>\n      <td>80.0</td>\n      <td>0.0</td>\n      <td>40.0</td>\n      <td>0.0</td>\n      <td>2.49</td>\n      <td>2.51</td>\n    </tr>\n    <tr>\n      <td>89</td>\n      <td>Affligem Blond 0.0%</td>\n      <td>Bière Blonde</td>\n      <td>Belgique</td>\n      <td>Affligem</td>\n      <td>30.0</td>\n      <td>0.0</td>\n      <td>NaN</td>\n      <td>NaN</td>\n      <td>NaN</td>\n      <td>NaN</td>\n      <td>NaN</td>\n      <td>NaN</td>\n      <td>1.59</td>\n      <td>2.84</td>\n    </tr>\n    <tr>\n      <td>215</td>\n      <td>Lowlander 0% Wit</td>\n      <td>Bière Blanche</td>\n      <td>Pays-Bas</td>\n      <td>Lowlander</td>\n      <td>33.0</td>\n      <td>0.0</td>\n      <td>NaN</td>\n      <td>40.0</td>\n      <td>40.0</td>\n      <td>40.0</td>\n      <td>0.0</td>\n      <td>0.0</td>\n      <td>2.49</td>\n      <td>3.16</td>\n    </tr>\n    <tr>\n      <td>289</td>\n      <td>NaN</td>\n      <td>NaN</td>\n      <td>NaN</td>\n      <td>NaN</td>\n      <td>NaN</td>\n      <td>NaN</td>\n      <td>NaN</td>\n      <td>NaN</td>\n      <td>NaN</td>\n      <td>NaN</td>\n      <td>NaN</td>\n      <td>NaN</td>\n      <td>NaN</td>\n      <td>NaN</td>\n    </tr>\n  </tbody>\n</table>\n</div>"
     },
     "metadata": {},
     "execution_count": 162
    }
   ],
   "source": [
    "bieres_sans_alcool = df[df['abv'].isin([0,np.nan])] \n",
    "bieres_sans_alcool.head(7)"
   ]
  },
  {
   "source": [
    "D'ailleurs, on remarque que les bières sans alcool n'ont pas de \"bonne\" note. On les supprime du dataframe."
   ],
   "cell_type": "markdown",
   "metadata": {}
  },
  {
   "cell_type": "code",
   "execution_count": 163,
   "metadata": {},
   "outputs": [],
   "source": [
    "df = df.drop([df[df['abv'].isin([0,np.nan])].index[i] for i in range(len(df[df['abv'].isin([0,np.nan])]))])\n",
    "df = df.reset_index(drop = True)"
   ]
  },
  {
   "source": [
    "### On lève les doutes sur l'`ibu` des bières"
   ],
   "cell_type": "markdown",
   "metadata": {}
  },
  {
   "cell_type": "code",
   "execution_count": 159,
   "metadata": {},
   "outputs": [
    {
     "output_type": "execute_result",
     "data": {
      "text/plain": [
       "                          beer_name            beer_style      country  \\\n",
       "379             Brewdog Jack Hammer                   IPA  Royaume-Uni   \n",
       "881              Viven Imperial IPA                   IPA     Belgique   \n",
       "968         Kees Export Porter 1750  Bière Porter & Stout     Pays-Bas   \n",
       "699  Dochter Van De Korenaar Extase                   IPA     Belgique   \n",
       "622      De Molen Hel & Verdoemenis  Bière Porter & Stout     Pays-Bas   \n",
       "\n",
       "            brewery_name  bottle   abv    ibu  intensite  longueur  acidite  \\\n",
       "379              Brewdog    33.0   7.2  220.0      100.0      60.0     20.0   \n",
       "881  Brouwerij Van Viven    33.0   8.0  124.0       80.0      40.0     20.0   \n",
       "968       Brouwerij Kees    33.0  10.5  110.0      100.0      60.0     20.0   \n",
       "699                  NaN    33.0   7.0  110.0       80.0      60.0      0.0   \n",
       "622   Brouwerij De Molen    33.0  10.0  102.0       80.0      60.0     20.0   \n",
       "\n",
       "     amertume  umami  price  note  \n",
       "379     100.0    0.0   2.99  3.92  \n",
       "881      80.0    0.0   2.99  3.72  \n",
       "968     100.0   40.0   3.69  3.97  \n",
       "699      80.0    0.0   3.19  3.71  \n",
       "622      80.0   40.0   4.99  4.06  "
      ],
      "text/html": "<div>\n<style scoped>\n    .dataframe tbody tr th:only-of-type {\n        vertical-align: middle;\n    }\n\n    .dataframe tbody tr th {\n        vertical-align: top;\n    }\n\n    .dataframe thead th {\n        text-align: right;\n    }\n</style>\n<table border=\"1\" class=\"dataframe\">\n  <thead>\n    <tr style=\"text-align: right;\">\n      <th></th>\n      <th>beer_name</th>\n      <th>beer_style</th>\n      <th>country</th>\n      <th>brewery_name</th>\n      <th>bottle</th>\n      <th>abv</th>\n      <th>ibu</th>\n      <th>intensite</th>\n      <th>longueur</th>\n      <th>acidite</th>\n      <th>amertume</th>\n      <th>umami</th>\n      <th>price</th>\n      <th>note</th>\n    </tr>\n  </thead>\n  <tbody>\n    <tr>\n      <td>379</td>\n      <td>Brewdog Jack Hammer</td>\n      <td>IPA</td>\n      <td>Royaume-Uni</td>\n      <td>Brewdog</td>\n      <td>33.0</td>\n      <td>7.2</td>\n      <td>220.0</td>\n      <td>100.0</td>\n      <td>60.0</td>\n      <td>20.0</td>\n      <td>100.0</td>\n      <td>0.0</td>\n      <td>2.99</td>\n      <td>3.92</td>\n    </tr>\n    <tr>\n      <td>881</td>\n      <td>Viven Imperial IPA</td>\n      <td>IPA</td>\n      <td>Belgique</td>\n      <td>Brouwerij Van Viven</td>\n      <td>33.0</td>\n      <td>8.0</td>\n      <td>124.0</td>\n      <td>80.0</td>\n      <td>40.0</td>\n      <td>20.0</td>\n      <td>80.0</td>\n      <td>0.0</td>\n      <td>2.99</td>\n      <td>3.72</td>\n    </tr>\n    <tr>\n      <td>968</td>\n      <td>Kees Export Porter 1750</td>\n      <td>Bière Porter &amp; Stout</td>\n      <td>Pays-Bas</td>\n      <td>Brouwerij Kees</td>\n      <td>33.0</td>\n      <td>10.5</td>\n      <td>110.0</td>\n      <td>100.0</td>\n      <td>60.0</td>\n      <td>20.0</td>\n      <td>100.0</td>\n      <td>40.0</td>\n      <td>3.69</td>\n      <td>3.97</td>\n    </tr>\n    <tr>\n      <td>699</td>\n      <td>Dochter Van De Korenaar Extase</td>\n      <td>IPA</td>\n      <td>Belgique</td>\n      <td>NaN</td>\n      <td>33.0</td>\n      <td>7.0</td>\n      <td>110.0</td>\n      <td>80.0</td>\n      <td>60.0</td>\n      <td>0.0</td>\n      <td>80.0</td>\n      <td>0.0</td>\n      <td>3.19</td>\n      <td>3.71</td>\n    </tr>\n    <tr>\n      <td>622</td>\n      <td>De Molen Hel &amp; Verdoemenis</td>\n      <td>Bière Porter &amp; Stout</td>\n      <td>Pays-Bas</td>\n      <td>Brouwerij De Molen</td>\n      <td>33.0</td>\n      <td>10.0</td>\n      <td>102.0</td>\n      <td>80.0</td>\n      <td>60.0</td>\n      <td>20.0</td>\n      <td>80.0</td>\n      <td>40.0</td>\n      <td>4.99</td>\n      <td>4.06</td>\n    </tr>\n  </tbody>\n</table>\n</div>"
     },
     "metadata": {},
     "execution_count": 159
    }
   ],
   "source": [
    "df.sort_values('ibu', ascending=False).head(5)"
   ]
  },
  {
   "source": [
    "Après vérification sur le site des brasseries des bières ayant la plus grande concentration d'IBU, ces données sont vraie. On ne modifie pas le dataframe."
   ],
   "cell_type": "markdown",
   "metadata": {}
  },
  {
   "source": [
    "# Inspection de l'`umami` des bières"
   ],
   "cell_type": "markdown",
   "metadata": {}
  },
  {
   "source": [
    "## Manque de données, donc on tej cette colonne => à modifier dans le fichier 'Enrichissement de la base de données'."
   ],
   "cell_type": "markdown",
   "metadata": {}
  },
  {
   "source": [
    "### On lève les doutes sur le `prix` des bières"
   ],
   "cell_type": "markdown",
   "metadata": {}
  },
  {
   "cell_type": "code",
   "execution_count": 160,
   "metadata": {},
   "outputs": [
    {
     "output_type": "execute_result",
     "data": {
      "text/plain": [
       "                      beer_name            beer_style                country  \\\n",
       "712               Brewdog Tokyo  Bière Porter & Stout            Royaume-Uni   \n",
       "538                Founders KBS  Bière Porter & Stout  Etats-Unis d'Amérique   \n",
       "92        Studio Oedipus No. 11            Bière Sour               Pays-Bas   \n",
       "256       Studio Oedipus No. 13                 Cidre               Pays-Bas   \n",
       "402  Tre Fontane Trappistenbier          Bière Triple                 Italie   \n",
       "\n",
       "          brewery_name  bottle   abv   ibu  intensite  longueur  acidite  \\\n",
       "712            Brewdog    33.0  16.5  90.0      100.0      80.0     20.0   \n",
       "538                NaN    36.0  12.3  70.0      100.0      80.0      0.0   \n",
       "92   Brasserie Oedipus    38.0   6.5   NaN        NaN       NaN      NaN   \n",
       "256  Brasserie Oedipus    38.0   7.0   NaN        NaN       NaN      NaN   \n",
       "402  Abdij Tre Fontane    33.0   8.0  30.0       80.0      60.0      0.0   \n",
       "\n",
       "     amertume  umami  price  note  \n",
       "712      80.0   20.0  10.99  4.08  \n",
       "538      80.0   40.0   7.99  4.45  \n",
       "92        NaN    NaN   6.99  3.58  \n",
       "256       NaN    NaN   6.99  3.50  \n",
       "402      60.0    0.0   6.99  3.66  "
      ],
      "text/html": "<div>\n<style scoped>\n    .dataframe tbody tr th:only-of-type {\n        vertical-align: middle;\n    }\n\n    .dataframe tbody tr th {\n        vertical-align: top;\n    }\n\n    .dataframe thead th {\n        text-align: right;\n    }\n</style>\n<table border=\"1\" class=\"dataframe\">\n  <thead>\n    <tr style=\"text-align: right;\">\n      <th></th>\n      <th>beer_name</th>\n      <th>beer_style</th>\n      <th>country</th>\n      <th>brewery_name</th>\n      <th>bottle</th>\n      <th>abv</th>\n      <th>ibu</th>\n      <th>intensite</th>\n      <th>longueur</th>\n      <th>acidite</th>\n      <th>amertume</th>\n      <th>umami</th>\n      <th>price</th>\n      <th>note</th>\n    </tr>\n  </thead>\n  <tbody>\n    <tr>\n      <td>712</td>\n      <td>Brewdog Tokyo</td>\n      <td>Bière Porter &amp; Stout</td>\n      <td>Royaume-Uni</td>\n      <td>Brewdog</td>\n      <td>33.0</td>\n      <td>16.5</td>\n      <td>90.0</td>\n      <td>100.0</td>\n      <td>80.0</td>\n      <td>20.0</td>\n      <td>80.0</td>\n      <td>20.0</td>\n      <td>10.99</td>\n      <td>4.08</td>\n    </tr>\n    <tr>\n      <td>538</td>\n      <td>Founders KBS</td>\n      <td>Bière Porter &amp; Stout</td>\n      <td>Etats-Unis d'Amérique</td>\n      <td>NaN</td>\n      <td>36.0</td>\n      <td>12.3</td>\n      <td>70.0</td>\n      <td>100.0</td>\n      <td>80.0</td>\n      <td>0.0</td>\n      <td>80.0</td>\n      <td>40.0</td>\n      <td>7.99</td>\n      <td>4.45</td>\n    </tr>\n    <tr>\n      <td>92</td>\n      <td>Studio Oedipus No. 11</td>\n      <td>Bière Sour</td>\n      <td>Pays-Bas</td>\n      <td>Brasserie Oedipus</td>\n      <td>38.0</td>\n      <td>6.5</td>\n      <td>NaN</td>\n      <td>NaN</td>\n      <td>NaN</td>\n      <td>NaN</td>\n      <td>NaN</td>\n      <td>NaN</td>\n      <td>6.99</td>\n      <td>3.58</td>\n    </tr>\n    <tr>\n      <td>256</td>\n      <td>Studio Oedipus No. 13</td>\n      <td>Cidre</td>\n      <td>Pays-Bas</td>\n      <td>Brasserie Oedipus</td>\n      <td>38.0</td>\n      <td>7.0</td>\n      <td>NaN</td>\n      <td>NaN</td>\n      <td>NaN</td>\n      <td>NaN</td>\n      <td>NaN</td>\n      <td>NaN</td>\n      <td>6.99</td>\n      <td>3.50</td>\n    </tr>\n    <tr>\n      <td>402</td>\n      <td>Tre Fontane Trappistenbier</td>\n      <td>Bière Triple</td>\n      <td>Italie</td>\n      <td>Abdij Tre Fontane</td>\n      <td>33.0</td>\n      <td>8.0</td>\n      <td>30.0</td>\n      <td>80.0</td>\n      <td>60.0</td>\n      <td>0.0</td>\n      <td>60.0</td>\n      <td>0.0</td>\n      <td>6.99</td>\n      <td>3.66</td>\n    </tr>\n  </tbody>\n</table>\n</div>"
     },
     "metadata": {},
     "execution_count": 160
    }
   ],
   "source": [
    "df.sort_values('price', ascending=False).head(5)"
   ]
  },
  {
   "source": [
    "Ces valeurs sont cohérentes aussi. La bière la plus chère est également la bière la plus forte. "
   ],
   "cell_type": "markdown",
   "metadata": {}
  },
  {
   "source": [
    "### Traitement des valeurs maquantes\n",
    "On regarde ensuite les valeurs manquantes des bières"
   ],
   "cell_type": "markdown",
   "metadata": {}
  },
  {
   "cell_type": "code",
   "execution_count": 164,
   "metadata": {},
   "outputs": [
    {
     "output_type": "execute_result",
     "data": {
      "text/plain": [
       "beer_name         1\n",
       "beer_style        5\n",
       "country           0\n",
       "brewery_name    327\n",
       "bottle            0\n",
       "abv               0\n",
       "ibu             413\n",
       "intensite        55\n",
       "longueur         55\n",
       "acidite          55\n",
       "amertume         55\n",
       "umami            55\n",
       "price           147\n",
       "note             68\n",
       "dtype: int64"
      ]
     },
     "metadata": {},
     "execution_count": 164
    }
   ],
   "source": [
    "df.isnull().sum()"
   ]
  },
  {
   "source": [
    "Une bière n'a pas de nom. C'est étrange."
   ],
   "cell_type": "markdown",
   "metadata": {}
  },
  {
   "cell_type": "code",
   "execution_count": 166,
   "metadata": {},
   "outputs": [
    {
     "output_type": "execute_result",
     "data": {
      "text/plain": [
       "    beer_name    beer_style   country        brewery_name  bottle  abv  ibu  \\\n",
       "687       NaN  Bière Triple  Belgique  Brouwerij Wilderen    33.0  8.2  NaN   \n",
       "\n",
       "     intensite  longueur  acidite  amertume  umami  price  note  \n",
       "687       60.0      60.0     20.0      40.0    0.0   2.79  3.76  "
      ],
      "text/html": "<div>\n<style scoped>\n    .dataframe tbody tr th:only-of-type {\n        vertical-align: middle;\n    }\n\n    .dataframe tbody tr th {\n        vertical-align: top;\n    }\n\n    .dataframe thead th {\n        text-align: right;\n    }\n</style>\n<table border=\"1\" class=\"dataframe\">\n  <thead>\n    <tr style=\"text-align: right;\">\n      <th></th>\n      <th>beer_name</th>\n      <th>beer_style</th>\n      <th>country</th>\n      <th>brewery_name</th>\n      <th>bottle</th>\n      <th>abv</th>\n      <th>ibu</th>\n      <th>intensite</th>\n      <th>longueur</th>\n      <th>acidite</th>\n      <th>amertume</th>\n      <th>umami</th>\n      <th>price</th>\n      <th>note</th>\n    </tr>\n  </thead>\n  <tbody>\n    <tr>\n      <td>687</td>\n      <td>NaN</td>\n      <td>Bière Triple</td>\n      <td>Belgique</td>\n      <td>Brouwerij Wilderen</td>\n      <td>33.0</td>\n      <td>8.2</td>\n      <td>NaN</td>\n      <td>60.0</td>\n      <td>60.0</td>\n      <td>20.0</td>\n      <td>40.0</td>\n      <td>0.0</td>\n      <td>2.79</td>\n      <td>3.76</td>\n    </tr>\n  </tbody>\n</table>\n</div>"
     },
     "metadata": {},
     "execution_count": 166
    }
   ],
   "source": [
    "df[df['beer_name'].isnull()]"
   ]
  },
  {
   "source": [
    "Une recherche rapide montre qu'il s'agit de la Triple Kannunik. On remplace cette avleur manquante. \n",
    "\n",
    "**NB : on pourrait tout à fait la supprimer mais comme cette donnée est complète, on la garde**"
   ],
   "cell_type": "markdown",
   "metadata": {}
  },
  {
   "cell_type": "code",
   "execution_count": 168,
   "metadata": {},
   "outputs": [],
   "source": [
    "df['beer_name'][687] = 'Triple Kannunik'\n",
    "# Vérification\n",
    "#df.iloc[687]"
   ]
  },
  {
   "source": [
    "On peut à présent ajouter une colonne égale au prix de la pinte de cette bière, d'après le site www.beerwulf.com. \n",
    "\n",
    "Ce sera utile pour comparer les prix par la suite."
   ],
   "cell_type": "markdown",
   "metadata": {}
  },
  {
   "cell_type": "code",
   "execution_count": 203,
   "metadata": {},
   "outputs": [
    {
     "output_type": "execute_result",
     "data": {
      "text/plain": [
       "                      beer_name     beer_style   country  \\\n",
       "0             Brugse Zot blonde   Bière Blonde  Belgique   \n",
       "1  Brouwerij 't IJ Natte Dubbel   Bière Double  Pays-Bas   \n",
       "2            Bruut Gajes Tripel   Bière Triple  Pays-Bas   \n",
       "3             Baxbier Koud Vuur    Bière Brune  Pays-Bas   \n",
       "4              Bacchus Framboos  Bière Fruitée  Belgique   \n",
       "5                    Boon Kriek  Bière Fruitée  Belgique   \n",
       "6                 Birra Ichnusa          Lager    Italie   \n",
       "\n",
       "                brewery_name  bottle  abv   ibu  intensite  longueur  acidite  \\\n",
       "0    Brouwerij De Halve Maan    33.0  6.0  23.0       60.0      40.0     20.0   \n",
       "1            Brouwerij 't IJ    33.0  6.5   NaN       60.0      60.0      0.0   \n",
       "2                 Bruut Bier    33.0  8.0  38.0       60.0      60.0     40.0   \n",
       "3         Bax Bier Brouwerij    33.0  6.2  38.0       80.0      40.0     20.0   \n",
       "4  Brouwerij Van Honsebrouck    38.0  5.0   NaN       80.0      60.0     60.0   \n",
       "5             Brouwerij Boon    38.0  4.0   NaN       60.0      80.0     60.0   \n",
       "6                    Ichnusa    33.0  4.7   NaN       20.0      40.0      0.0   \n",
       "\n",
       "   amertume  umami  price  note  prix_de_la_pinte  \n",
       "0      40.0    0.0   2.69  3.71              4.08  \n",
       "1      40.0    0.0   2.65  3.44              4.02  \n",
       "2      60.0    0.0   2.99  3.76              4.53  \n",
       "3      60.0    0.0   3.09  3.37              4.68  \n",
       "4      20.0    0.0   3.49  3.60              4.59  \n",
       "5      20.0    0.0   3.39  3.54              4.46  \n",
       "6      20.0    0.0   1.79  2.85              2.71  "
      ],
      "text/html": "<div>\n<style scoped>\n    .dataframe tbody tr th:only-of-type {\n        vertical-align: middle;\n    }\n\n    .dataframe tbody tr th {\n        vertical-align: top;\n    }\n\n    .dataframe thead th {\n        text-align: right;\n    }\n</style>\n<table border=\"1\" class=\"dataframe\">\n  <thead>\n    <tr style=\"text-align: right;\">\n      <th></th>\n      <th>beer_name</th>\n      <th>beer_style</th>\n      <th>country</th>\n      <th>brewery_name</th>\n      <th>bottle</th>\n      <th>abv</th>\n      <th>ibu</th>\n      <th>intensite</th>\n      <th>longueur</th>\n      <th>acidite</th>\n      <th>amertume</th>\n      <th>umami</th>\n      <th>price</th>\n      <th>note</th>\n      <th>prix_de_la_pinte</th>\n    </tr>\n  </thead>\n  <tbody>\n    <tr>\n      <td>0</td>\n      <td>Brugse Zot blonde</td>\n      <td>Bière Blonde</td>\n      <td>Belgique</td>\n      <td>Brouwerij De Halve Maan</td>\n      <td>33.0</td>\n      <td>6.0</td>\n      <td>23.0</td>\n      <td>60.0</td>\n      <td>40.0</td>\n      <td>20.0</td>\n      <td>40.0</td>\n      <td>0.0</td>\n      <td>2.69</td>\n      <td>3.71</td>\n      <td>4.08</td>\n    </tr>\n    <tr>\n      <td>1</td>\n      <td>Brouwerij 't IJ Natte Dubbel</td>\n      <td>Bière Double</td>\n      <td>Pays-Bas</td>\n      <td>Brouwerij 't IJ</td>\n      <td>33.0</td>\n      <td>6.5</td>\n      <td>NaN</td>\n      <td>60.0</td>\n      <td>60.0</td>\n      <td>0.0</td>\n      <td>40.0</td>\n      <td>0.0</td>\n      <td>2.65</td>\n      <td>3.44</td>\n      <td>4.02</td>\n    </tr>\n    <tr>\n      <td>2</td>\n      <td>Bruut Gajes Tripel</td>\n      <td>Bière Triple</td>\n      <td>Pays-Bas</td>\n      <td>Bruut Bier</td>\n      <td>33.0</td>\n      <td>8.0</td>\n      <td>38.0</td>\n      <td>60.0</td>\n      <td>60.0</td>\n      <td>40.0</td>\n      <td>60.0</td>\n      <td>0.0</td>\n      <td>2.99</td>\n      <td>3.76</td>\n      <td>4.53</td>\n    </tr>\n    <tr>\n      <td>3</td>\n      <td>Baxbier Koud Vuur</td>\n      <td>Bière Brune</td>\n      <td>Pays-Bas</td>\n      <td>Bax Bier Brouwerij</td>\n      <td>33.0</td>\n      <td>6.2</td>\n      <td>38.0</td>\n      <td>80.0</td>\n      <td>40.0</td>\n      <td>20.0</td>\n      <td>60.0</td>\n      <td>0.0</td>\n      <td>3.09</td>\n      <td>3.37</td>\n      <td>4.68</td>\n    </tr>\n    <tr>\n      <td>4</td>\n      <td>Bacchus Framboos</td>\n      <td>Bière Fruitée</td>\n      <td>Belgique</td>\n      <td>Brouwerij Van Honsebrouck</td>\n      <td>38.0</td>\n      <td>5.0</td>\n      <td>NaN</td>\n      <td>80.0</td>\n      <td>60.0</td>\n      <td>60.0</td>\n      <td>20.0</td>\n      <td>0.0</td>\n      <td>3.49</td>\n      <td>3.60</td>\n      <td>4.59</td>\n    </tr>\n    <tr>\n      <td>5</td>\n      <td>Boon Kriek</td>\n      <td>Bière Fruitée</td>\n      <td>Belgique</td>\n      <td>Brouwerij Boon</td>\n      <td>38.0</td>\n      <td>4.0</td>\n      <td>NaN</td>\n      <td>60.0</td>\n      <td>80.0</td>\n      <td>60.0</td>\n      <td>20.0</td>\n      <td>0.0</td>\n      <td>3.39</td>\n      <td>3.54</td>\n      <td>4.46</td>\n    </tr>\n    <tr>\n      <td>6</td>\n      <td>Birra Ichnusa</td>\n      <td>Lager</td>\n      <td>Italie</td>\n      <td>Ichnusa</td>\n      <td>33.0</td>\n      <td>4.7</td>\n      <td>NaN</td>\n      <td>20.0</td>\n      <td>40.0</td>\n      <td>0.0</td>\n      <td>20.0</td>\n      <td>0.0</td>\n      <td>1.79</td>\n      <td>2.85</td>\n      <td>2.71</td>\n    </tr>\n  </tbody>\n</table>\n</div>"
     },
     "metadata": {},
     "execution_count": 203
    }
   ],
   "source": [
    "df['prix_de_la_pinte'] = 0.0\n",
    "\n",
    "for i in range(len(df)):\n",
    "    if df['price'][i] != np.nan:\n",
    "        df['prix_de_la_pinte'][i] = round(100*50*df['price'][i]/df['bottle'][i])/100\n",
    "    else:\n",
    "        df['prix_de_la_pinte'][i] = np.nan\n",
    "\n",
    "df.head(7)"
   ]
  },
  {
   "cell_type": "code",
   "execution_count": null,
   "metadata": {},
   "outputs": [],
   "source": []
  }
 ]
}