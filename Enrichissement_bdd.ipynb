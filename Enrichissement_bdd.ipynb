{
 "cells": [
  {
   "cell_type": "markdown",
   "metadata": {},
   "source": [
    "# Scraping du site beerwulf pour enrichir la base de données\n",
    "\n",
    "- Nous allons scrapper les données relatives aux bières sur le site www.beerwulf.com. L'avantage de ce site est qu'il dispose de données précises sur les bières : des données physico chimiques, mais aussi des indicateurs subjectifs exhaustifs (couleur de la bière, son goût, ou encore sa longueur). Nous utilisons le site https://www.beerwulf.com/fr-be/c/bieres pour afficher toutes les bières proposées.\n",
    "- Avant toute chose, il est nécessaire d'explorer la page https://www.beerwulf.com/robots.txt afin de s'assurer que le web-scrapping des données des bières est autorisé. **Ici, il se trouve que c'est le cas.**"
   ]
  },
  {
   "cell_type": "code",
   "execution_count": 13,
   "metadata": {},
   "outputs": [],
   "source": [
    "# Importation des packages nécessaires pour le scrapping et la mise en forme des données\n",
    "import urllib\n",
    "import pandas as pd\n",
    "from urllib.request import urlopen\n",
    "\n",
    "from bs4 import BeautifulSoup\n",
    "import pandas as pd\n",
    "import re"
   ]
  },
  {
   "cell_type": "code",
   "execution_count": 122,
   "metadata": {},
   "outputs": [],
   "source": [
    "# Adresse du scrapping\n",
    "url_all_beers = \"https://www.beerwulf.com/fr-be/c/bieres?catalogCode=Beer_1&routeQuery=bieres&page=2\"\n",
    "\n",
    "# On regarde l'architecture html du catalogue des bières sur le site\n",
    "from urllib import request\n",
    "request = urllib.request.Request(url_all_beers, headers = {'User-Agent': 'Mozilla/5.0 (Macintosh; Intel Mac OS X 10_9_3) AppleWebKit/537.36 (KHTML, like Gecko) Chrome/35.0.1916.47 Safari/537.36'})\n",
    "html = urllib.request.urlopen(request)\n",
    "html_soup = BeautifulSoup(html, 'html.parser')\n",
    "#html_soup"
   ]
  },
  {
   "cell_type": "code",
   "execution_count": null,
   "metadata": {},
   "outputs": [],
   "source": []
  },
  {
   "cell_type": "markdown",
   "metadata": {},
   "source": [
    "D'abord, on stocke la liste de toutes les bières présentes sur le site"
   ]
  },
  {
   "cell_type": "code",
   "execution_count": 91,
   "metadata": {
    "tags": [
     "outputPrepend"
    ]
   },
   "outputs": [
    {
     "output_type": "stream",
     "name": "stdout",
     "text": [
      "rwulftypeformcom-slide\" checked=\"\" disabled=\"\"><span class=\"switch\"></span><span class=\"toggle\"></span></div></label></div><div class=\"tagContainer\"><label for=\"default-Webshopapp-(static|cdn|assets|acc-ukblade)\\webshopappcom-slide\" class=\"ensToggleLabel\">Webshopapp<div class=\"card\"><input class=\"ensCheckbox\" type=\"checkbox\" id=\"default-Webshopapp-(static|cdn|assets|acc-ukblade)\\webshopappcom-slide\" name=\"default-Webshopapp-(static|cdn|assets|acc-ukblade)\\webshopappcom-slide\" checked=\"\" disabled=\"\"><span class=\"switch\"></span><span class=\"toggle\"></span></div></label></div><div class=\"tagContainer\"><label for=\"default--staticzdassetscom-slide\" class=\"ensToggleLabel\">static.zdassets.com<div class=\"card\"><input class=\"ensCheckbox\" type=\"checkbox\" id=\"default--staticzdassetscom-slide\" name=\"default--staticzdassetscom-slide\" checked=\"\" disabled=\"\"><span class=\"switch\"></span><span class=\"toggle\"></span></div></label></div><div class=\"tagContainer\"><label for=\"default-Akamai-(cdn-akamaimookie1com|\\akamaihd\\net)-slide\" class=\"ensToggleLabel\">Akamai<div class=\"card\"><input class=\"ensCheckbox\" type=\"checkbox\" id=\"default-Akamai-(cdn-akamaimookie1com|\\akamaihd\\net)-slide\" name=\"default-Akamai-(cdn-akamaimookie1com|\\akamaihd\\net)-slide\" checked=\"\" disabled=\"\"><span class=\"switch\"></span><span class=\"toggle\"></span></div></label></div><div class=\"tagContainer\"><label for=\"default--nexusensightencom-slide\" class=\"ensToggleLabel\">nexus.ensighten.com<div class=\"card\"><input class=\"ensCheckbox\" type=\"checkbox\" id=\"default--nexusensightencom-slide\" name=\"default--nexusensightencom-slide\" checked=\"\" disabled=\"\"><span class=\"switch\"></span><span class=\"toggle\"></span></div></label></div><div class=\"tagContainer\"><label for=\"default--nexus-testensightencom-slide\" class=\"ensToggleLabel\">nexus-test.ensighten.com<div class=\"card\"><input class=\"ensCheckbox\" type=\"checkbox\" id=\"default--nexus-testensightencom-slide\" name=\"default--nexus-testensightencom-slide\" checked=\"\" disabled=\"\"><span class=\"switch\"></span><span class=\"toggle\"></span></div></label></div><div class=\"tagContainer\"><label for=\"default-Cloudfront-dd6zx4ibq538kcloudfrontnet-slide\" class=\"ensToggleLabel\">Cloudfront<div class=\"card\"><input class=\"ensCheckbox\" type=\"checkbox\" id=\"default-Cloudfront-dd6zx4ibq538kcloudfrontnet-slide\" name=\"default-Cloudfront-dd6zx4ibq538kcloudfrontnet-slide\" checked=\"\" disabled=\"\"><span class=\"switch\"></span><span class=\"toggle\"></span></div></label></div><div class=\"tagContainer\"><label for=\"default-Static-Qbit-staticgoqubitcom-slide\" class=\"ensToggleLabel\">Static Qbit<div class=\"card\"><input class=\"ensCheckbox\" type=\"checkbox\" id=\"default-Static-Qbit-staticgoqubitcom-slide\" name=\"default-Static-Qbit-staticgoqubitcom-slide\" checked=\"\" disabled=\"\"><span class=\"switch\"></span><span class=\"toggle\"></span></div></label></div><div class=\"tagContainer\"><label for=\"default--stashqubitproductscom-slide\" class=\"ensToggleLabel\">stash.qubitproducts.com<div class=\"card\"><input class=\"ensCheckbox\" type=\"checkbox\" id=\"default--stashqubitproductscom-slide\" name=\"default--stashqubitproductscom-slide\" checked=\"\" disabled=\"\"><span class=\"switch\"></span><span class=\"toggle\"></span></div></label></div><div class=\"tagContainer\"><label for=\"default-cdn1-cdn1apitrustedshopscom-slide\" class=\"ensToggleLabel\">cdn1<div class=\"card\"><input class=\"ensCheckbox\" type=\"checkbox\" id=\"default-cdn1-cdn1apitrustedshopscom-slide\" name=\"default-cdn1-cdn1apitrustedshopscom-slide\" checked=\"\" disabled=\"\"><span class=\"switch\"></span><span class=\"toggle\"></span></div></label></div><div class=\"tagContainer\"><label for=\"default-Qbit-https://staticgoqubitcom/smartserve-5529js-slide\" class=\"ensToggleLabel\">Qbit<div class=\"card\"><input class=\"ensCheckbox\" type=\"checkbox\" id=\"default-Qbit-https://staticgoqubitcom/smartserve-5529js-slide\" name=\"default-Qbit-https://staticgoqubitcom/smartserve-5529js-slide\" checked=\"\" disabled=\"\"><span class=\"switch\"></span><span class=\"toggle\"></span></div></label></div><div class=\"tagContainer\"><label for=\"default-CDN-Javascript-(cdn-javascriptnet|cdn-jsnet)-slide\" class=\"ensToggleLabel\">CDN Javascript<div class=\"card\"><input class=\"ensCheckbox\" type=\"checkbox\" id=\"default-CDN-Javascript-(cdn-javascriptnet|cdn-jsnet)-slide\" name=\"default-CDN-Javascript-(cdn-javascriptnet|cdn-jsnet)-slide\" checked=\"\" disabled=\"\"><span class=\"switch\"></span><span class=\"toggle\"></span></div></label></div><div class=\"tagContainer\"><label for=\"default--rollbar-euzendeskcom-slide\" class=\"ensToggleLabel\">rollbar-eu.zendesk.com<div class=\"card\"><input class=\"ensCheckbox\" type=\"checkbox\" id=\"default--rollbar-euzendeskcom-slide\" name=\"default--rollbar-euzendeskcom-slide\" checked=\"\" disabled=\"\"><span class=\"switch\"></span><span class=\"toggle\"></span></div></label></div><div class=\"tagContainer\"><label for=\"default-Contentsquare-tcontentsquarenet-slide\" class=\"ensToggleLabel\">Contentsquare<div class=\"card\"><input class=\"ensCheckbox\" type=\"checkbox\" id=\"default-Contentsquare-tcontentsquarenet-slide\" name=\"default-Contentsquare-tcontentsquarenet-slide\" checked=\"\" disabled=\"\"><span class=\"switch\"></span><span class=\"toggle\"></span></div></label></div><div class=\"tagContainer\"><label for=\"default-Google-Tag-Manager-wwwgoogletagmanagercom-slide\" class=\"ensToggleLabel\">Google Tag Manager<div class=\"card\"><input class=\"ensCheckbox\" type=\"checkbox\" id=\"default-Google-Tag-Manager-wwwgoogletagmanagercom-slide\" name=\"default-Google-Tag-Manager-wwwgoogletagmanagercom-slide\" checked=\"\" disabled=\"\"><span class=\"switch\"></span><span class=\"toggle\"></span></div></label></div><div class=\"tagContainer\"><label for=\"default--wwwbeerwulfcom-slide\" class=\"ensToggleLabel\">www.beerwulf.com<div class=\"card\"><input class=\"ensCheckbox\" type=\"checkbox\" id=\"default--wwwbeerwulfcom-slide\" name=\"default--wwwbeerwulfcom-slide\" checked=\"\" disabled=\"\"><span class=\"switch\"></span><span class=\"toggle\"></span></div></label></div><div class=\"tagContainer\"><label for=\"default-jQuery-(ajaxgoogleapiscom|codejquerycom)-slide\" class=\"ensToggleLabel\">jQuery<div class=\"card\"><input class=\"ensCheckbox\" type=\"checkbox\" id=\"default-jQuery-(ajaxgoogleapiscom|codejquerycom)-slide\" name=\"default-jQuery-(ajaxgoogleapiscom|codejquerycom)-slide\" checked=\"\" disabled=\"\"><span class=\"switch\"></span><span class=\"toggle\"></span></div></label></div><div class=\"tagContainer\"><label for=\"default--wwwbeerwulfcom-slide\" class=\"ensToggleLabel\">www.beerwulf.com<div class=\"card\"><input class=\"ensCheckbox\" type=\"checkbox\" id=\"default--wwwbeerwulfcom-slide\" name=\"default--wwwbeerwulfcom-slide\" checked=\"\" disabled=\"\"><span class=\"switch\"></span><span class=\"toggle\"></span></div></label></div><div class=\"tagContainer\"><label for=\"default--nexusensightencom-slide\" class=\"ensToggleLabel\">nexus.ensighten.com<div class=\"card\"><input class=\"ensCheckbox\" type=\"checkbox\" id=\"default--nexusensightencom-slide\" name=\"default--nexusensightencom-slide\" checked=\"\" disabled=\"\"><span class=\"switch\"></span><span class=\"toggle\"></span></div></label></div><div class=\"tagContainer\"><label for=\"default--vendorlistconsensuorg-slide\" class=\"ensToggleLabel\">vendorlist.consensu.org<div class=\"card\"><input class=\"ensCheckbox\" type=\"checkbox\" id=\"default--vendorlistconsensuorg-slide\" name=\"default--vendorlistconsensuorg-slide\" checked=\"\" disabled=\"\"><span class=\"switch\"></span><span class=\"toggle\"></span></div></label></div></div></div><hr><div class=\"ensToggleRow\"><label for=\"AnalyticsSlide\" class=\"ensToggleLabel chevron right\">Cookies analytiques<div class=\"card\"><input class=\"ensCheckbox\" aria-describedby=\"Analyticsdescription\" type=\"checkbox\" id=\"AnalyticsSlide\" name=\"AnalyticsSlide\"><span class=\"switch\"></span><span class=\"toggle\"></span></div></label><div class=\"description\" id=\"Analyticsdescription\">Ces cookies permettent d’analyser l’emploi du Site Web, afin de pouvoir mesurer et améliorer les prestations de nos Sites Web</div><div class=\"ensTagsContent\"><div class=\"tagContainer\"><label for=\"Analytics-New-Relic-js-agentnewreliccom-slide\" class=\"ensToggleLabel\">New Relic<div class=\"card\"><input class=\"ensCheckbox\" type=\"checkbox\" id=\"Analytics-New-Relic-js-agentnewreliccom-slide\" name=\"Analytics-New-Relic-js-agentnewreliccom-slide\"><span class=\"switch\"></span><span class=\"toggle\"></span></div></label></div><div class=\"tagContainer\"><label for=\"Analytics-Hotjar-(static|vc|vars|script|in)\\hotjar\\(com|io)|hotjarcom-slide\" class=\"ensToggleLabel\">Hotjar<div class=\"card\"><input class=\"ensCheckbox\" type=\"checkbox\" id=\"Analytics-Hotjar-(static|vc|vars|script|in)\\hotjar\\(com|io)|hotjarcom-slide\" name=\"Analytics-Hotjar-(static|vc|vars|script|in)\\hotjar\\(com|io)|hotjarcom-slide\"><span class=\"switch\"></span><span class=\"toggle\"></span></div></label></div></div></div><hr><div class=\"ensToggleRow\"><label for=\"AdvertisementSlide\" class=\"ensToggleLabel chevron right\">Cookies publicitaires<div class=\"card\"><input class=\"ensCheckbox\" aria-describedby=\"Advertisementdescription\" type=\"checkbox\" id=\"AdvertisementSlide\" name=\"AdvertisementSlide\"><span class=\"switch\"></span><span class=\"toggle\"></span></div></label><div class=\"description\" id=\"Advertisementdescription\">Ces cookies sont utilisés pour mieux adapter la publicité à vos intérêts, sur et au-delà de nos Sites Web.</div><div class=\"ensTagsContent\"><div class=\"tagContainer\"><label for=\"Advertisement-Vimeo-playervimeocom-slide\" class=\"ensToggleLabel\">Vimeo<div class=\"card\"><input class=\"ensCheckbox\" type=\"checkbox\" id=\"Advertisement-Vimeo-playervimeocom-slide\" name=\"Advertisement-Vimeo-playervimeocom-slide\"><span class=\"switch\"></span><span class=\"toggle\"></span></div></label></div><div class=\"tagContainer\"><label for=\"Advertisement-Spotify-openspotifycom-slide\" class=\"ensToggleLabel\">Spotify<div class=\"card\"><input class=\"ensCheckbox\" type=\"checkbox\" id=\"Advertisement-Spotify-openspotifycom-slide\" name=\"Advertisement-Spotify-openspotifycom-slide\"><span class=\"switch\"></span><span class=\"toggle\"></span></div></label></div><div class=\"tagContainer\"><label for=\"Advertisement-Youtube-(youtubecom|wwwyoutubecom|sytimgcom|iytimgcom|imgyoutubecom)-slide\" class=\"ensToggleLabel\">Youtube<div class=\"card\"><input class=\"ensCheckbox\" type=\"checkbox\" id=\"Advertisement-Youtube-(youtubecom|wwwyoutubecom|sytimgcom|iytimgcom|imgyoutubecom)-slide\" name=\"Advertisement-Youtube-(youtubecom|wwwyoutubecom|sytimgcom|iytimgcom|imgyoutubecom)-slide\"><span class=\"switch\"></span><span class=\"toggle\"></span></div></label></div><div class=\"tagContainer\"><label for=\"Advertisement-Instagram-wwwinstagramcom-slide\" class=\"ensToggleLabel\">Instagram<div class=\"card\"><input class=\"ensCheckbox\" type=\"checkbox\" id=\"Advertisement-Instagram-wwwinstagramcom-slide\" name=\"Advertisement-Instagram-wwwinstagramcom-slide\"><span class=\"switch\"></span><span class=\"toggle\"></span></div></label></div><div class=\"tagContainer\"><label for=\"Advertisement-Google-\\google\\(com|pl|co\\uk|nl|de|it|be|at|ie|ae|al|ba|bg|ca|ch|cl|cn|co\\cr|co\\id|co\\il|co\\in|co\\jp|co\\kr|co\\nz|co\\uk|co\\za|com\\ar|com\\ar|com\\au|com\\br|com\\co|com\\cy|com\\do|com\\gh|com\\ar|com\\gt|com\\kw|com\\lb|com\\mx|com\\my|com\\ng|com\\pe|com\\pa|com\\ph|com\\pr|com\\py|com\\sa|com\\sg|com\\tr|com\\tw|com\\vn|cz|ee|dk|es|fi|fr|gr|hr|hu|im|lt|no|pl|pt|ro|ru|se|si|sk)$-slide\" class=\"ensToggleLabel\">Google<div class=\"card\"><input class=\"ensCheckbox\" type=\"checkbox\" id=\"Advertisement-Google-\\google\\(com|pl|co\\uk|nl|de|it|be|at|ie|ae|al|ba|bg|ca|ch|cl|cn|co\\cr|co\\id|co\\il|co\\in|co\\jp|co\\kr|co\\nz|co\\uk|co\\za|com\\ar|com\\ar|com\\au|com\\br|com\\co|com\\cy|com\\do|com\\gh|com\\ar|com\\gt|com\\kw|com\\lb|com\\mx|com\\my|com\\ng|com\\pe|com\\pa|com\\ph|com\\pr|com\\py|com\\sa|com\\sg|com\\tr|com\\tw|com\\vn|cz|ee|dk|es|fi|fr|gr|hr|hu|im|lt|no|pl|pt|ro|ru|se|si|sk)$-slide\" name=\"Advertisement-Google-\\google\\(com|pl|co\\uk|nl|de|it|be|at|ie|ae|al|ba|bg|ca|ch|cl|cn|co\\cr|co\\id|co\\il|co\\in|co\\jp|co\\kr|co\\nz|co\\uk|co\\za|com\\ar|com\\ar|com\\au|com\\br|com\\co|com\\cy|com\\do|com\\gh|com\\ar|com\\gt|com\\kw|com\\lb|com\\mx|com\\my|com\\ng|com\\pe|com\\pa|com\\ph|com\\pr|com\\py|com\\sa|com\\sg|com\\tr|com\\tw|com\\vn|cz|ee|dk|es|fi|fr|gr|hr|hu|im|lt|no|pl|pt|ro|ru|se|si|sk)$-slide\"><span class=\"switch\"></span><span class=\"toggle\"></span></div></label></div><div class=\"tagContainer\"><label for=\"Advertisement-Google-Advertising-(\\g\\doubleclick\\net|googleadservicescom|adservicegooglecom|-wwwgoogleadservicescom|doubleclicknet)-slide\" class=\"ensToggleLabel\">Google Advertising<div class=\"card\"><input class=\"ensCheckbox\" type=\"checkbox\" id=\"Advertisement-Google-Advertising-(\\g\\doubleclick\\net|googleadservicescom|adservicegooglecom|-wwwgoogleadservicescom|doubleclicknet)-slide\" name=\"Advertisement-Google-Advertising-(\\g\\doubleclick\\net|googleadservicescom|adservicegooglecom|-wwwgoogleadservicescom|doubleclicknet)-slide\"><span class=\"switch\"></span><span class=\"toggle\"></span></div></label></div><div class=\"tagContainer\"><label for=\"Advertisement-Facebook-(staticxxfacebookcom|connectfacebooknet|facebookcom|lfacebookcom|graphfacebookcom|facebook\\(net|com)|wwwfacebookcom)-slide\" class=\"ensToggleLabel\">Facebook<div class=\"card\"><input class=\"ensCheckbox\" type=\"checkbox\" id=\"Advertisement-Facebook-(staticxxfacebookcom|connectfacebooknet|facebookcom|lfacebookcom|graphfacebookcom|facebook\\(net|com)|wwwfacebookcom)-slide\" name=\"Advertisement-Facebook-(staticxxfacebookcom|connectfacebooknet|facebookcom|lfacebookcom|graphfacebookcom|facebook\\(net|com)|wwwfacebookcom)-slide\"><span class=\"switch\"></span><span class=\"toggle\"></span></div></label></div><div class=\"tagContainer\"><label for=\"Advertisement-Relay-42-(tdnr42tagcom|tsvtrdcom|asvtrdcom)-slide\" class=\"ensToggleLabel\">Relay 42<div class=\"card\"><input class=\"ensCheckbox\" type=\"checkbox\" id=\"Advertisement-Relay-42-(tdnr42tagcom|tsvtrdcom|asvtrdcom)-slide\" name=\"Advertisement-Relay-42-(tdnr42tagcom|tsvtrdcom|asvtrdcom)-slide\"><span class=\"switch\"></span><span class=\"toggle\"></span></div></label></div><div class=\"tagContainer\"><label for=\"Advertisement-Youtube-(wwwyoutubecom|sytimgcom|iytimgcom|imgyoutubecom)-slide\" class=\"ensToggleLabel\">Youtube<div class=\"card\"><input class=\"ensCheckbox\" type=\"checkbox\" id=\"Advertisement-Youtube-(wwwyoutubecom|sytimgcom|iytimgcom|imgyoutubecom)-slide\" name=\"Advertisement-Youtube-(wwwyoutubecom|sytimgcom|iytimgcom|imgyoutubecom)-slide\"><span class=\"switch\"></span><span class=\"toggle\"></span></div></label></div><div class=\"tagContainer\"><label for=\"Advertisement-Gstatic-(wwwgstaticcom|(maps|csi|ssl)\\gstaticcom)-slide\" class=\"ensToggleLabel\">Gstatic<div class=\"card\"><input class=\"ensCheckbox\" type=\"checkbox\" id=\"Advertisement-Gstatic-(wwwgstaticcom|(maps|csi|ssl)\\gstaticcom)-slide\" name=\"Advertisement-Gstatic-(wwwgstaticcom|(maps|csi|ssl)\\gstaticcom)-slide\"><span class=\"switch\"></span><span class=\"toggle\"></span></div></label></div><div class=\"tagContainer\"><label for=\"Advertisement-Twitter-(analyticstwittercom|staticads-twittercom|tco|platformtwittercom)-slide\" class=\"ensToggleLabel\">Twitter<div class=\"card\"><input class=\"ensCheckbox\" type=\"checkbox\" id=\"Advertisement-Twitter-(analyticstwittercom|staticads-twittercom|tco|platformtwittercom)-slide\" name=\"Advertisement-Twitter-(analyticstwittercom|staticads-twittercom|tco|platformtwittercom)-slide\"><span class=\"switch\"></span><span class=\"toggle\"></span></div></label></div><div class=\"tagContainer\"><label for=\"Advertisement-Bing-(batbingcom|wwwbingcom)-slide\" class=\"ensToggleLabel\">Bing<div class=\"card\"><input class=\"ensCheckbox\" type=\"checkbox\" id=\"Advertisement-Bing-(batbingcom|wwwbingcom)-slide\" name=\"Advertisement-Bing-(batbingcom|wwwbingcom)-slide\"><span class=\"switch\"></span><span class=\"toggle\"></span></div></label></div></div></div><hr></div><div class=\"ensButtons\"><button id=\"ensCancel\" class=\"button raised grey\" tabindex=\"0\" aria-label=\"Close Consent Modal\"><div class=\"ensCenter\">ANNULER</div><paper-ripple fit=\"\"></paper-ripple></button><button id=\"ensSave\" class=\"button raised blue\" tabindex=\"0\" aria-label=\"Save Consent Preferences\"><div class=\"ensCenter\" fit=\"\">SAUVEGARDER</div><paper-ripple fit=\"\"></paper-ripple></button></div></div></section><section><div id=\"ensNotifyBanner\" class=\"ensNotifyBanner\" role=\"dialog\" aria-label=\"Consent Banner\" aria-describedby=\"ensBannerDescription\" style=\"display: block; left: 0px;\"><div id=\"ensBannerDescription\">En cliquant sur OUI, vous acceptez l’utilisation des cookies qui nous permettent, ainsi qu’à nos partenaires, d’améliorer et de personnaliser votre expérience de navigation, ou de vous proposer des publicités et du contenu personnalisés sur différents appareils, sur la base d’un profil segmenté. <a href=\"https://www.theheinekencompany.com/our-brands\">HEINEKEN</a> et des tiers peuvent suivre votre comportement sur notre site Web et au-delà. Vous souhaitez en savoir plus sur ce que nous suivons? <a href=\"fr-fr/politique-en-matiere-de-cookies\">Cliquez ici</a> pour en savoir plus.</div><div class=\"ensButtons\"><button id=\"ensBtnYes\" class=\"button raised blue\" aria-label=\"Close consent Widget\">OUI</button><button id=\"set-privacy-preferences\" class=\"button\">FIXER PRÉFÉRENCES</button></div><div class=\"ensClear\"></div></div></section><script type=\"text/javascript\" async=\"\" defer=\"\" src=\"https://dd6zx4ibq538k.cloudfront.net/segment-index-5529.js\"></script><script type=\"text/javascript\" id=\"\">(function(){var b=\"9h80to1tcut0ovad9usw6zoqlkzx7jrvkq3\",a=document.createElement(\"script\");a.setAttribute(\"type\",\"text/javascript\");a.setAttribute(\"src\",\"//deploy.mopinion.com/js/pastease.js\");a.async=!0;document.getElementsByTagName(\"head\")[0].appendChild(a);var c=setInterval(function(){try{new Pastease.load(b),clearInterval(c)}catch(d){}},50)})();</script><script type=\"text/javascript\" id=\"\">(function(){function r(){function e(a,c,b){a=t+a;_uxa.push([\"trackDynamicVariable\",{key:a,value:c}]);b&&_uxa.push([\"trackPageview\",window.location.pathname+\"?\"+b])}var t=\"FB_MO_\";document.addEventListener(\"mopinion_shown\",function(a){if(a&&a.detail&&a.detail.formName&&a.detail.triggerMethod){var c=a.detail;a=c.formName;c=c.triggerMethod;e(\"Feedback Displayed (All Surveys)\",\"true\");e(\"Feedback Displayed\",a,\"cs_mopinion\\x3dfeedback_displayed_\"+a);e(\"Feedback Trigger Method\",c)}});var u=\"rating nps ces gcr select input textarea category thumbs radio checkbox likert matrix customer id\".split(\" \");\ndocument.addEventListener(\"mopinion_feedback_sent\",function(a){if(a&&a.detail&&a.detail.feedback){a=a.detail;var c=a.formName;e(\"Feedback Submitted (All Surveys)\",\"true\");e(\"Feedback Submitted\",c,\"cs_mopinion\\x3dfeedback_submitted_\"+c);a=a.feedback;for(c=0;c<a.length;c++){var b=a[c].type,d=a[c].title,g=a[c].value.toString();if(-1<u.indexOf(b)&&d&&g){if(-1<b.indexOf(\"rating\")||-1<b.indexOf(\"nps\"))\"rating\"===b?b=\"Regular\":\"nps\"===b&&(b=\"NPS\"),d=b+\" Rating\",g=parseInt(g);else{var m=a[c].field;if(m){var k=\nm.split(\"_\"),l=k[2];k=k[3]}\"gcr\"===b?d=\"Goal Completion Rate\":\"ces\"===b?(d=\"Customer Effort Score\",g=parseInt(g)):\"customer\"===b?d=\"Customer ID\":\"id\"===b?d=\"Survey ID\":\"likert\"===b?d=d+\" (\"+l+\")\":\"checkbox\"===b?d=d+\" (\"+l+\")\":\"matrix\"===b&&(d=d+\" (\"+l+\"_\"+k+\")\")}e(d,g)}}}});var h=_uxa.push([\"isRecording\"]);if(h){var f=_uxa.push([\"getSessionData\"]);if(f.projectId){h=f.projectId;var n=f.userId,p=f.sessionNumber;f=f.pageNumber;h&&n&&p&&f&&(h=\"https://app.contentsquare.com/quick-playback/index.html?pid\\x3d\"+\nh+\"\\x26uu\\x3d\"+n+\"\\x26sn\\x3d\"+p+\"\\x26pvid\\x3d\"+f+\"\\x26recordingType\\x3dcs\",window.CS_CONF&&(CS_CONF.replaylink=h))}}}function v(e){q||(q=!0,r(e),window.CS_CONF&&(CS_CONF.integrations=CS_CONF.integrations||[],CS_CONF.integrations.push(\"Mopinion\")))}var q=!1;window._uxa=window._uxa||[];_uxa.push([\"afterPageView\",v])})();</script><script type=\"text/javascript\" id=\"\">var writeToStorage=function(b,c,d){var a=new Date;a.setDate(a.getDate()+d);document.cookie=b+\"\\x3d\"+c+\";samesite\\x3dnone;secure;path\\x3d/;expires\\x3d\"+a.toUTCString()};\"awin\"==google_tag_manager[\"GTM-WXLJX3P\"].macro(3)&&\"true\"!=google_tag_manager[\"GTM-WXLJX3P\"].macro(4)&&writeToStorage(\"awin_is_source\",\"true\",30);</script></body></html>\n"
     ]
    }
   ],
   "source": [
    "from selenium.webdriver.chrome.options import Options\n",
    "\n",
    "options = Options()\n",
    "options.headless = False # On n'affiche pas la page de la recherche\n",
    "options.add_argument(\"--window-size=1920,1200\")\n",
    "\n",
    "driver = webdriver.Chrome(options=options, executable_path=DRIVER_PATH)\n",
    "driver.get(url)\n",
    "print(driver.page_source)\n",
    "#driver.quit()"
   ]
  },
  {
   "source": [
    "Modèle qui servira à ensuite scraper toutes les données des pages internet."
   ],
   "cell_type": "markdown",
   "metadata": {}
  },
  {
   "cell_type": "code",
   "execution_count": 85,
   "metadata": {},
   "outputs": [
    {
     "output_type": "stream",
     "name": "stdout",
     "text": [
      "{'bber_name': ''}\n"
     ]
    }
   ],
   "source": [
    "driver.get('https://www.beerwulf.com/fr-be/c/bieres?catalogCode=Beer_1&routeQuery=bieres&page=1')\n",
    "\n",
    "beer_name = driver.find_element_by_xpath('//h4')\n",
    "#current_price = driver.find_element_by_xpath(\"//span[@id='prcIsum']\")\n",
    "#image = driver.find_element_by_xpath(\"//img[@id='icImg']\")\n",
    "\n",
    "product_data = {\n",
    "\t'beer_name': beer_name.text,\n",
    "#\t'current_price': current_price.get_attribute('content'), \n",
    "#\t'image_url': image.get_attribute('src')\n",
    "}\n",
    "\n",
    "print(product_data)\n",
    "driver.quit()\n"
   ]
  },
  {
   "cell_type": "code",
   "execution_count": 80,
   "metadata": {},
   "outputs": [],
   "source": [
    "from selenium import webdriver\n",
    "from selenium.webdriver.support.ui import WebDriverWait\n",
    "from selenium.webdriver.support import expected_conditions as EC\n",
    "from selenium.webdriver.common.by import By\n",
    "from bs4 import BeautifulSoup"
   ]
  },
  {
   "source": [
    "# Scraping des liens url des bières de la 1ère page du site "
   ],
   "cell_type": "markdown",
   "metadata": {}
  },
  {
   "cell_type": "code",
   "execution_count": 132,
   "metadata": {},
   "outputs": [
    {
     "output_type": "stream",
     "name": "stdout",
     "text": [
      "<class 'str'>\n",
      "<class 'str'>\n",
      "<class 'str'>\n",
      "<class 'str'>\n",
      "<class 'str'>\n",
      "<class 'str'>\n",
      "<class 'str'>\n",
      "<class 'str'>\n",
      "<class 'str'>\n",
      "<class 'str'>\n",
      "<class 'str'>\n",
      "<class 'str'>\n",
      "<class 'str'>\n",
      "<class 'str'>\n",
      "<class 'str'>\n",
      "<class 'str'>\n",
      "<class 'str'>\n",
      "<class 'str'>\n",
      "<class 'str'>\n",
      "<class 'str'>\n",
      "<class 'str'>\n",
      "<class 'str'>\n",
      "<class 'str'>\n",
      "<class 'str'>\n",
      "<class 'str'>\n",
      "<class 'str'>\n",
      "<class 'str'>\n",
      "<class 'str'>\n",
      "<class 'str'>\n",
      "<class 'str'>\n",
      "<class 'str'>\n",
      "<class 'str'>\n",
      "<class 'str'>\n",
      "<class 'str'>\n",
      "<class 'str'>\n",
      "<class 'str'>\n",
      "<class 'str'>\n",
      "<class 'str'>\n",
      "<class 'str'>\n",
      "<class 'str'>\n",
      "<class 'str'>\n",
      "<class 'str'>\n",
      "<class 'str'>\n",
      "<class 'str'>\n",
      "<class 'str'>\n",
      "<class 'str'>\n",
      "<class 'str'>\n",
      "<class 'str'>\n"
     ]
    }
   ],
   "source": [
    "elems = driver.find_elements_by_xpath(\"//div[@id='product-items-container']/a\")\n",
    "for elem in elems:\n",
    "    href = elem.get_attribute('href')\n",
    "    print(type(href))\n",
    "#    if href is not None:\n",
    "#        print(href)"
   ]
  },
  {
   "source": [
    "# Objectif : obtenir l'url de toutes les bières du site de www.berewulf.com\n",
    "Le catalogue comporte 26 pages de bières. On peut donc automatiser la collecte des urls."
   ],
   "cell_type": "markdown",
   "metadata": {}
  },
  {
   "source": [
    "Configuration de la navigation grâce à `selenium`"
   ],
   "cell_type": "markdown",
   "metadata": {}
  },
  {
   "cell_type": "code",
   "execution_count": 157,
   "metadata": {},
   "outputs": [],
   "source": [
    "from selenium.webdriver.chrome.options import Options\n",
    "\n",
    "options = Options()\n",
    "options.headless = False # On n'affiche pas la page de la recherche\n",
    "options.add_argument(\"--window-size=1920,1200\")\n",
    "DRIVER_PATH = '/Applications/chromedriver'"
   ]
  },
  {
   "source": [
    "On va donc d'abord collecter les urls de toutes les bières du catalogue de www.beerwulf.com"
   ],
   "cell_type": "markdown",
   "metadata": {}
  },
  {
   "cell_type": "code",
   "execution_count": 154,
   "metadata": {},
   "outputs": [
    {
     "output_type": "stream",
     "name": "stdout",
     "text": [
      "Il y a 1219 urls collectés\n"
     ]
    }
   ],
   "source": [
    "nb_pages = 26\n",
    "liste_urls = []\n",
    "\n",
    "for i in range(nb_pages): # On parcourt toutes les pages du site\n",
    "\n",
    "    driver = webdriver.Chrome(options=options, executable_path=DRIVER_PATH)\n",
    "    driver.get('https://www.beerwulf.com/fr-be/c/bieres?catalogCode=Beer_1&routeQuery=bieres&page=' + str(i+1))\n",
    "\n",
    "    elems = driver.find_elements_by_xpath(\"//div[@id='product-items-container']/a\")\n",
    "    \n",
    "    for elem in elems:\n",
    "        liste_urls.append(elem.get_attribute('href'))\n",
    "\n",
    "liste_urls\n",
    "#print('Il y a '+str(len(liste_urls))+' urls collectés')"
   ]
  },
  {
   "source": [
    "Nous disposons donc de l'url de toutes les bières, ce qui nous permet à présent d'aller scraper leurs caractéristiques individuelles. Plus précisément, nous nous intéressons à l'IBU,  "
   ],
   "cell_type": "markdown",
   "metadata": {}
  },
  {
   "cell_type": "code",
   "execution_count": 158,
   "metadata": {},
   "outputs": [],
   "source": [
    "driver = webdriver.Chrome(options=options, executable_path=DRIVER_PATH)\n",
    "driver.get(liste_urls[0])\n"
   ]
  },
  {
   "cell_type": "code",
   "execution_count": 142,
   "metadata": {},
   "outputs": [
    {
     "output_type": "execute_result",
     "data": {
      "text/plain": [
       "'https://www.beerwulf.com/fr-be/p/bieres/paulaner-hefe-weissbier-alcoholvrij.5'"
      ]
     },
     "metadata": {},
     "execution_count": 142
    }
   ],
   "source": [
    "liste_urls[2]"
   ]
  },
  {
   "cell_type": "code",
   "execution_count": 146,
   "metadata": {},
   "outputs": [
    {
     "output_type": "stream",
     "name": "stdout",
     "text": [
      "https://www.beerwulf.com/fr-be/c/bieres?catalogCode=Beer_1&routeQuery=bieres&page=1\n",
      "https://www.beerwulf.com/fr-be/c/bieres?catalogCode=Beer_1&routeQuery=bieres&page=2\n",
      "https://www.beerwulf.com/fr-be/c/bieres?catalogCode=Beer_1&routeQuery=bieres&page=3\n",
      "https://www.beerwulf.com/fr-be/c/bieres?catalogCode=Beer_1&routeQuery=bieres&page=4\n",
      "https://www.beerwulf.com/fr-be/c/bieres?catalogCode=Beer_1&routeQuery=bieres&page=5\n",
      "https://www.beerwulf.com/fr-be/c/bieres?catalogCode=Beer_1&routeQuery=bieres&page=6\n",
      "https://www.beerwulf.com/fr-be/c/bieres?catalogCode=Beer_1&routeQuery=bieres&page=7\n",
      "https://www.beerwulf.com/fr-be/c/bieres?catalogCode=Beer_1&routeQuery=bieres&page=8\n",
      "https://www.beerwulf.com/fr-be/c/bieres?catalogCode=Beer_1&routeQuery=bieres&page=9\n",
      "https://www.beerwulf.com/fr-be/c/bieres?catalogCode=Beer_1&routeQuery=bieres&page=10\n",
      "https://www.beerwulf.com/fr-be/c/bieres?catalogCode=Beer_1&routeQuery=bieres&page=11\n",
      "https://www.beerwulf.com/fr-be/c/bieres?catalogCode=Beer_1&routeQuery=bieres&page=12\n",
      "https://www.beerwulf.com/fr-be/c/bieres?catalogCode=Beer_1&routeQuery=bieres&page=13\n",
      "https://www.beerwulf.com/fr-be/c/bieres?catalogCode=Beer_1&routeQuery=bieres&page=14\n",
      "https://www.beerwulf.com/fr-be/c/bieres?catalogCode=Beer_1&routeQuery=bieres&page=15\n",
      "https://www.beerwulf.com/fr-be/c/bieres?catalogCode=Beer_1&routeQuery=bieres&page=16\n",
      "https://www.beerwulf.com/fr-be/c/bieres?catalogCode=Beer_1&routeQuery=bieres&page=17\n",
      "https://www.beerwulf.com/fr-be/c/bieres?catalogCode=Beer_1&routeQuery=bieres&page=18\n",
      "https://www.beerwulf.com/fr-be/c/bieres?catalogCode=Beer_1&routeQuery=bieres&page=19\n",
      "https://www.beerwulf.com/fr-be/c/bieres?catalogCode=Beer_1&routeQuery=bieres&page=20\n"
     ]
    }
   ],
   "source": [
    "for i in range(20):\n",
    "    print('https://www.beerwulf.com/fr-be/c/bieres?catalogCode=Beer_1&routeQuery=bieres&page=' + str(i+1))"
   ]
  },
  {
   "cell_type": "code",
   "execution_count": null,
   "metadata": {},
   "outputs": [],
   "source": []
  }
 ],
 "metadata": {
  "kernelspec": {
   "display_name": "Python 3",
   "language": "python",
   "name": "python3"
  },
  "language_info": {
   "codemirror_mode": {
    "name": "ipython",
    "version": 3
   },
   "file_extension": ".py",
   "mimetype": "text/x-python",
   "name": "python",
   "nbconvert_exporter": "python",
   "pygments_lexer": "ipython3",
   "version": "3.7.4-final"
  }
 },
 "nbformat": 4,
 "nbformat_minor": 2
}